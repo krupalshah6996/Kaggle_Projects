{
 "cells": [
  {
   "cell_type": "markdown",
   "metadata": {},
   "source": [
    "# Personalized Medicine: Redefining Cancer Treatment"
   ]
  },
  {
   "cell_type": "raw",
   "metadata": {},
   "source": [
    "Problem Statement: A lot has been said during the past several years about how precision medicine and, more concretely, how genetic testing is going to disrupt the way diseases like cancer are treated.\n",
    "\n",
    "But this is only partially happening due to the huge amount of manual work still required. Once sequenced, a cancer tumor can have thousands of genetic mutations. But the challenge is distinguishing the mutations that contribute to tumor growth (drivers) from the neutral mutations (passengers). \n",
    "\n",
    "Currently this interpretation of genetic mutations is being done manually. This is a very time-consuming task where a clinical pathologist has to manually review and classify every single genetic mutation based on evidence from text-based clinical literature.\n",
    "\n",
    "We need to develop a Machine Learning algorithm that, using this knowledge base as a baseline, automatically classifies genetic variations.\n",
    "\n",
    "This problem was a competition posted on Kaggle with a award of $15,000. This was launched by  Memorial Sloan Kettering Cancer Center (MSKCC), accepted by NIPS 2017 Competition Track.\n",
    "\n",
    "You can check all details about the competition from following link :\n",
    "https://www.kaggle.com/c/msk-redefining-cancer-treatment"
   ]
  },
  {
   "cell_type": "code",
   "execution_count": 1,
   "metadata": {},
   "outputs": [],
   "source": [
    "#Required Libraries and packages\n",
    "import pandas as pd\n",
    "import nltk\n",
    "import numpy as np\n",
    "from sklearn.model_selection import train_test_split\n",
    "import matplotlib.pyplot as plt\n",
    "from nltk.corpus import stopwords\n",
    "import re\n",
    "from sklearn.metrics.classification import accuracy_score, log_loss\n",
    "from sklearn.metrics import confusion_matrix \n",
    "from sklearn.metrics import accuracy_score \n",
    "from sklearn.metrics import classification_report \n",
    "import seaborn as sn\n",
    "from sklearn.feature_extraction.text import CountVectorizer\n",
    "from sklearn.linear_model import SGDClassifier\n",
    "from sklearn.calibration import CalibratedClassifierCV\n",
    "from sklearn.preprocessing import normalize\n",
    "from collections import Counter\n",
    "from scipy.sparse import hstack\n",
    "from sklearn.naive_bayes import MultinomialNB\n",
    "from sklearn.neighbors import KNeighborsClassifier\n",
    "from sklearn.linear_model import LogisticRegression\n",
    "from sklearn.ensemble import RandomForestClassifier\n",
    "from mlxtend.classifier import StackingClassifier"
   ]
  },
  {
   "cell_type": "raw",
   "metadata": {},
   "source": [
    "There are 2 data files provided for solving this problem."
   ]
  },
  {
   "cell_type": "code",
   "execution_count": 2,
   "metadata": {},
   "outputs": [],
   "source": [
    "# Loading training_variants. Its a comma seperated file\n",
    "data_variants = pd.read_csv('/home/krupal/training_variants')\n",
    "# Loading training_text dataset. This is seperated by ||\n",
    "data_texts = pd.read_csv('/home/krupal/training_text',sep = \"\\|\\|\",engine = 'python',names = ['ID','TEXT'],skiprows = 1)"
   ]
  },
  {
   "cell_type": "raw",
   "metadata": {},
   "source": [
    "Let's analyze the data.\n",
    "There are 4 fields above: \n",
    "ID : row id used to link the mutation to the clinical evidence\n",
    "Gene : the gene where this genetic mutation is located\n",
    "Variation : the aminoacid change for this mutations\n",
    "Class : class value 1-9, this genetic mutation has been classified on\n"
   ]
  },
  {
   "cell_type": "code",
   "execution_count": 3,
   "metadata": {},
   "outputs": [
    {
     "data": {
      "text/html": [
       "<div>\n",
       "<style scoped>\n",
       "    .dataframe tbody tr th:only-of-type {\n",
       "        vertical-align: middle;\n",
       "    }\n",
       "\n",
       "    .dataframe tbody tr th {\n",
       "        vertical-align: top;\n",
       "    }\n",
       "\n",
       "    .dataframe thead th {\n",
       "        text-align: right;\n",
       "    }\n",
       "</style>\n",
       "<table border=\"1\" class=\"dataframe\">\n",
       "  <thead>\n",
       "    <tr style=\"text-align: right;\">\n",
       "      <th></th>\n",
       "      <th>ID</th>\n",
       "      <th>Gene</th>\n",
       "      <th>Variation</th>\n",
       "      <th>Class</th>\n",
       "    </tr>\n",
       "  </thead>\n",
       "  <tbody>\n",
       "    <tr>\n",
       "      <th>0</th>\n",
       "      <td>0</td>\n",
       "      <td>FAM58A</td>\n",
       "      <td>Truncating Mutations</td>\n",
       "      <td>1</td>\n",
       "    </tr>\n",
       "    <tr>\n",
       "      <th>1</th>\n",
       "      <td>1</td>\n",
       "      <td>CBL</td>\n",
       "      <td>W802*</td>\n",
       "      <td>2</td>\n",
       "    </tr>\n",
       "    <tr>\n",
       "      <th>2</th>\n",
       "      <td>2</td>\n",
       "      <td>CBL</td>\n",
       "      <td>Q249E</td>\n",
       "      <td>2</td>\n",
       "    </tr>\n",
       "    <tr>\n",
       "      <th>3</th>\n",
       "      <td>3</td>\n",
       "      <td>CBL</td>\n",
       "      <td>N454D</td>\n",
       "      <td>3</td>\n",
       "    </tr>\n",
       "    <tr>\n",
       "      <th>4</th>\n",
       "      <td>4</td>\n",
       "      <td>CBL</td>\n",
       "      <td>L399V</td>\n",
       "      <td>4</td>\n",
       "    </tr>\n",
       "  </tbody>\n",
       "</table>\n",
       "</div>"
      ],
      "text/plain": [
       "   ID    Gene             Variation  Class\n",
       "0   0  FAM58A  Truncating Mutations      1\n",
       "1   1     CBL                 W802*      2\n",
       "2   2     CBL                 Q249E      2\n",
       "3   3     CBL                 N454D      3\n",
       "4   4     CBL                 L399V      4"
      ]
     },
     "execution_count": 3,
     "metadata": {},
     "output_type": "execute_result"
    }
   ],
   "source": [
    "data_variants.head(5)"
   ]
  },
  {
   "cell_type": "code",
   "execution_count": 4,
   "metadata": {},
   "outputs": [
    {
     "data": {
      "text/html": [
       "<div>\n",
       "<style scoped>\n",
       "    .dataframe tbody tr th:only-of-type {\n",
       "        vertical-align: middle;\n",
       "    }\n",
       "\n",
       "    .dataframe tbody tr th {\n",
       "        vertical-align: top;\n",
       "    }\n",
       "\n",
       "    .dataframe thead th {\n",
       "        text-align: right;\n",
       "    }\n",
       "</style>\n",
       "<table border=\"1\" class=\"dataframe\">\n",
       "  <thead>\n",
       "    <tr style=\"text-align: right;\">\n",
       "      <th></th>\n",
       "      <th>ID</th>\n",
       "      <th>TEXT</th>\n",
       "    </tr>\n",
       "  </thead>\n",
       "  <tbody>\n",
       "    <tr>\n",
       "      <th>0</th>\n",
       "      <td>0</td>\n",
       "      <td>Cyclin-dependent kinases (CDKs) regulate a var...</td>\n",
       "    </tr>\n",
       "    <tr>\n",
       "      <th>1</th>\n",
       "      <td>1</td>\n",
       "      <td>Abstract Background  Non-small cell lung canc...</td>\n",
       "    </tr>\n",
       "    <tr>\n",
       "      <th>2</th>\n",
       "      <td>2</td>\n",
       "      <td>Abstract Background  Non-small cell lung canc...</td>\n",
       "    </tr>\n",
       "  </tbody>\n",
       "</table>\n",
       "</div>"
      ],
      "text/plain": [
       "   ID                                               TEXT\n",
       "0   0  Cyclin-dependent kinases (CDKs) regulate a var...\n",
       "1   1   Abstract Background  Non-small cell lung canc...\n",
       "2   2   Abstract Background  Non-small cell lung canc..."
      ]
     },
     "execution_count": 4,
     "metadata": {},
     "output_type": "execute_result"
    }
   ],
   "source": [
    "data_texts.head(3)"
   ]
  },
  {
   "cell_type": "code",
   "execution_count": 5,
   "metadata": {},
   "outputs": [
    {
     "data": {
      "text/html": [
       "<div>\n",
       "<style scoped>\n",
       "    .dataframe tbody tr th:only-of-type {\n",
       "        vertical-align: middle;\n",
       "    }\n",
       "\n",
       "    .dataframe tbody tr th {\n",
       "        vertical-align: top;\n",
       "    }\n",
       "\n",
       "    .dataframe thead th {\n",
       "        text-align: right;\n",
       "    }\n",
       "</style>\n",
       "<table border=\"1\" class=\"dataframe\">\n",
       "  <thead>\n",
       "    <tr style=\"text-align: right;\">\n",
       "      <th></th>\n",
       "      <th>ID</th>\n",
       "      <th>Class</th>\n",
       "    </tr>\n",
       "  </thead>\n",
       "  <tbody>\n",
       "    <tr>\n",
       "      <th>count</th>\n",
       "      <td>3321.000000</td>\n",
       "      <td>3321.000000</td>\n",
       "    </tr>\n",
       "    <tr>\n",
       "      <th>mean</th>\n",
       "      <td>1660.000000</td>\n",
       "      <td>4.365854</td>\n",
       "    </tr>\n",
       "    <tr>\n",
       "      <th>std</th>\n",
       "      <td>958.834449</td>\n",
       "      <td>2.309781</td>\n",
       "    </tr>\n",
       "    <tr>\n",
       "      <th>min</th>\n",
       "      <td>0.000000</td>\n",
       "      <td>1.000000</td>\n",
       "    </tr>\n",
       "    <tr>\n",
       "      <th>25%</th>\n",
       "      <td>830.000000</td>\n",
       "      <td>2.000000</td>\n",
       "    </tr>\n",
       "    <tr>\n",
       "      <th>50%</th>\n",
       "      <td>1660.000000</td>\n",
       "      <td>4.000000</td>\n",
       "    </tr>\n",
       "    <tr>\n",
       "      <th>75%</th>\n",
       "      <td>2490.000000</td>\n",
       "      <td>7.000000</td>\n",
       "    </tr>\n",
       "    <tr>\n",
       "      <th>max</th>\n",
       "      <td>3320.000000</td>\n",
       "      <td>9.000000</td>\n",
       "    </tr>\n",
       "  </tbody>\n",
       "</table>\n",
       "</div>"
      ],
      "text/plain": [
       "                ID        Class\n",
       "count  3321.000000  3321.000000\n",
       "mean   1660.000000     4.365854\n",
       "std     958.834449     2.309781\n",
       "min       0.000000     1.000000\n",
       "25%     830.000000     2.000000\n",
       "50%    1660.000000     4.000000\n",
       "75%    2490.000000     7.000000\n",
       "max    3320.000000     9.000000"
      ]
     },
     "execution_count": 5,
     "metadata": {},
     "output_type": "execute_result"
    }
   ],
   "source": [
    "data_variants.describe()"
   ]
  },
  {
   "cell_type": "code",
   "execution_count": 6,
   "metadata": {},
   "outputs": [
    {
     "data": {
      "text/html": [
       "<div>\n",
       "<style scoped>\n",
       "    .dataframe tbody tr th:only-of-type {\n",
       "        vertical-align: middle;\n",
       "    }\n",
       "\n",
       "    .dataframe tbody tr th {\n",
       "        vertical-align: top;\n",
       "    }\n",
       "\n",
       "    .dataframe thead th {\n",
       "        text-align: right;\n",
       "    }\n",
       "</style>\n",
       "<table border=\"1\" class=\"dataframe\">\n",
       "  <thead>\n",
       "    <tr style=\"text-align: right;\">\n",
       "      <th></th>\n",
       "      <th>ID</th>\n",
       "    </tr>\n",
       "  </thead>\n",
       "  <tbody>\n",
       "    <tr>\n",
       "      <th>count</th>\n",
       "      <td>3321.000000</td>\n",
       "    </tr>\n",
       "    <tr>\n",
       "      <th>mean</th>\n",
       "      <td>1660.000000</td>\n",
       "    </tr>\n",
       "    <tr>\n",
       "      <th>std</th>\n",
       "      <td>958.834449</td>\n",
       "    </tr>\n",
       "    <tr>\n",
       "      <th>min</th>\n",
       "      <td>0.000000</td>\n",
       "    </tr>\n",
       "    <tr>\n",
       "      <th>25%</th>\n",
       "      <td>830.000000</td>\n",
       "    </tr>\n",
       "    <tr>\n",
       "      <th>50%</th>\n",
       "      <td>1660.000000</td>\n",
       "    </tr>\n",
       "    <tr>\n",
       "      <th>75%</th>\n",
       "      <td>2490.000000</td>\n",
       "    </tr>\n",
       "    <tr>\n",
       "      <th>max</th>\n",
       "      <td>3320.000000</td>\n",
       "    </tr>\n",
       "  </tbody>\n",
       "</table>\n",
       "</div>"
      ],
      "text/plain": [
       "                ID\n",
       "count  3321.000000\n",
       "mean   1660.000000\n",
       "std     958.834449\n",
       "min       0.000000\n",
       "25%     830.000000\n",
       "50%    1660.000000\n",
       "75%    2490.000000\n",
       "max    3320.000000"
      ]
     },
     "execution_count": 6,
     "metadata": {},
     "output_type": "execute_result"
    }
   ],
   "source": [
    "data_texts.describe()"
   ]
  },
  {
   "cell_type": "code",
   "execution_count": 7,
   "metadata": {},
   "outputs": [
    {
     "name": "stdout",
     "output_type": "stream",
     "text": [
      "<class 'pandas.core.frame.DataFrame'>\n",
      "RangeIndex: 3321 entries, 0 to 3320\n",
      "Data columns (total 2 columns):\n",
      "ID      3321 non-null int64\n",
      "TEXT    3316 non-null object\n",
      "dtypes: int64(1), object(1)\n",
      "memory usage: 52.0+ KB\n"
     ]
    }
   ],
   "source": [
    "data_texts.info()"
   ]
  },
  {
   "cell_type": "code",
   "execution_count": 16,
   "metadata": {},
   "outputs": [
    {
     "data": {
      "text/plain": [
       "(3321, 4)"
      ]
     },
     "execution_count": 16,
     "metadata": {},
     "output_type": "execute_result"
    }
   ],
   "source": [
    "data_variants.shape"
   ]
  },
  {
   "cell_type": "raw",
   "metadata": {},
   "source": [
    "There are lot of text data which needs preprocessing. We will do preprocessing."
   ]
  },
  {
   "cell_type": "code",
   "execution_count": 8,
   "metadata": {},
   "outputs": [],
   "source": [
    "#Preprocessing text data\n",
    "# We would like to remove all stop words like a, is, an, the, ... \n",
    "stop_words = set(stopwords.words('english'))"
   ]
  },
  {
   "cell_type": "code",
   "execution_count": 9,
   "metadata": {},
   "outputs": [
    {
     "name": "stderr",
     "output_type": "stream",
     "text": [
      "/home/krupal/anaconda3/lib/python3.6/site-packages/ipykernel_launcher.py:16: SettingWithCopyWarning: \n",
      "A value is trying to be set on a copy of a slice from a DataFrame\n",
      "\n",
      "See the caveats in the documentation: http://pandas.pydata.org/pandas-docs/stable/indexing.html#indexing-view-versus-copy\n",
      "  app.launch_new_instance()\n"
     ]
    }
   ],
   "source": [
    "\n",
    "def data_preprocessing(total_text,ind,col):\n",
    "    if type(total_text) is not int:\n",
    "        string = \"\"\n",
    "         # replacing all special char with space\n",
    "        total_text = re.sub('[^a-zA-Z0-9\\n]',\" \",str(total_text))\n",
    "        total_text = re.sub('\\d+',\" \",str(total_text))\n",
    "        # replacing multiple spaces with single space\n",
    "        total_text = re.sub('\\s+',\" \",str(total_text))\n",
    "        total_text = total_text.strip()\n",
    "        # bring whole text to same lower-case scale.\n",
    "        total_text = total_text.lower()\n",
    "        #print(total_text)\n",
    "        for word in total_text.split():\n",
    "            if not word in stop_words:\n",
    "                #print(word)\n",
    "                string += word\n",
    "                string += ' '\n",
    "        data_texts[col][ind] = string\n",
    "\n",
    "for index,row in data_texts.iterrows():\n",
    "    if type(row['TEXT']) is str:\n",
    "        data_preprocessing(row['TEXT'],index,'TEXT')\n",
    "        "
   ]
  },
  {
   "cell_type": "code",
   "execution_count": 6,
   "metadata": {},
   "outputs": [
    {
     "data": {
      "text/plain": [
       "'recent evidence demonstrated acquired uniparental disomy aupd novel mechanism pathogenetic mutations cancer may reduced homozygosity help identify novel mutations myeloproliferative neoplasms mpns performed genome wide single nucleotide polymorphism snp screen identify aupd patients atypical chronic myeloid leukemia acml n jak mutation negative myelofibrosis mf n jak mutation negative polycythemia vera pv n stretches homozygous copy neutral snp calls greater mb seen acml mf absent pv total different chromosomes involved q q affected acml cases cbl mutations identified cases q aupd analysis additional mpns revealed total cbl variants patients acml myelofibrosis chronic myelomonocytic leukemia variants missense substitutions ring linker domains abrogated cbl ubiquitin ligase activity conferred proliferative advantage cells overexpressing flt conclude acquired transforming cbl mutations novel widespread pathogenetic abnormality morphologically related clinically aggressive mpns introduction myeloproliferative neoplasms mpns clonal hematopoietic stem cell disorders characterized overproliferation one myeloid cell lineages bone marrow increased numbers mature immature myeloid cells peripheral blood excess proliferation frequently associated splenomegaly cardiovascular complications well increased risk transformation acute leukemia mpns categorized subtypes based specific morphologic hematologic laboratory parameters best characterized called classic mpns polycythemia vera pv essential thrombocythemia et primary myelofibrosis mf chronic myeloid leukemia cml addition several atypical mpns recognized show dysplastic proliferative features atypical bcr abl negative cml acml mpns associated acquired activating mutations gene fusions tyrosine kinases abnormalities believed critical drivers excess proliferation result deregulated constitutive signaling prominent examples bcr abl cml v f jak mutation pv et mf variant tyrosine kinase fusions identified mpns well mutations jak flt activating mutations described components signal upstream eg mpl downstream eg nras tyrosine kinases however molecular pathogenesis majority atypical mpns approximately et mf cases remains obscure v f jak initially identified several different routes one based observation many pv patients show evidence acquired uniparental disomy aupd chromosome p regions aupd exhibit loss heterozygosity loh compared constitutional dna without change copy number arise mitotic recombination followed selection one products initial observations pv emerged aupd common hematologic epithelial malignancies associated known oncogenic changes variety genes within affected regions study set determine whether aupd characterizes mpns unknown molecular etiology whether could used tool help identify novel driver mutations methods patients peripheral blood bone marrow samples received patients diagnosed mpn hematologic malignancy according standard morphologic hematologic laboratory criteria clinical data available subset cases study approved internal review boards participating institutions informed consent obtained accordance declaration helsinki snp array analysis dna labeling hybridization affymetrix k xbai chips performed deutsches ressourcenzentrum f r genomforschung rzpd berlin germany raw data imported affymetrix genechip operating software analyzed using affymetrix high wycombe united kingdom genechip genotyping analysis software gtype copy number analysis tool cnat data exported custom designed spreadsheets display loss heterozygosity copy number changes ideogram format data also analyzed using affymetrix genotyping console version overall median range snps gave readable calls mutation analysis detection mutations high resolution melting hrm analysis performed described using rotor gene corbett life sciences st neots united kingdom direct sequencing polymerase chain reaction pcr products performed standard techniques abi genetic analyzer applied biosystems warrington united kingdom analyzed using mutation surveyor softgenetics state college pa cbl mutations numbered relative atg ensembl cdna sequence ensg dropping factor relative intensity drop wild type allele peak relative seen concurrently run normal sample considered indicative biallelic mutation whereas dropping factor less considered monoallelic primer sequences cbl exon cbl f tgtggtttcactttaaaccctgga cbl r gccaggccaccccttgtatc cbl exon cbl f ggcctggcttttgggttagg cbl r cacaatggattttgccagtctcc cbl reverse transcriptase pcr rt pcr performed random hexamer reverse transcribed rna using primers cble f gaatcctgatctgactggcttatg cble r gctgcggcagaaggtcaagt primer sequences available request microsatellite analysis dna samples amplified series fluorescently labeled primer pairs flanking highly polymorphic microsatellite markers chromosome q described aupd scored consecutive markers encompassing cbl homozygous without change allelic copy number p occurring absence aupd based published rates heterozygosity copy number q estimated multiplex ligation probe amplification mlpa using marfan probeset p mrc holland amsterdam netherlands kit contains four q control probes including one q constructs pmy wtcbl pmy cblr q express wild type r q cbl respectively along green fluorescent protein gfp cbl mutant constructs derived pmy wtcbl using quikchange site directed mutagenesis kit stratagene la jolla ca pal flt pcmv ha ubiquitin also described previously cell lines il dependent murine myeloid cell dcl purchased deutsche sammlung von mikroorganismen und zellkulturen braunschweig germany maintained rpmi medium fetal bovine serum fbs wehi b conditioned medium wehi cells maintained humidified incubator c carbon dioxide cells stably transduced electroporation wt flt pal vector previously described maintained ng ml blastocidin invitrogen paisley united kingdom platinum e plat e retrovirus packaging cell line transfected using calcium phosphate method g cbl construct dna wtflt cells cocultivated plat e cells hours volume ml rpmi dmem fbs wehi gfp positive cells flow sorted highest possible purity using bd facsaria cell sorter becton dickinson stanford ca insufficient cells obtained experiments flow sorting cells maintained culture resorted greater purity growth factor withdrawal assays cell growth compared wt flt vector transfected cells parental line stably transfected cells cells ml grown days triplicate cbl mutant wt cbl control well plates cultures analyzed daily proliferation using aqueous one solution cell proliferation assay kit mts assay promega southampton united kingdom experiments performed least times independently results analyzed using graphpad prism software graphpad software san diego ca ubiquitin ligase activity ubiquitin ligase activity cbl mutants comparison wild type cbl determined transiently transfecting wtflt cells expressing wild type cbl mutants electroporation g pcmv ha ubiquitin cells maintained culture wehi hours transfection washed serum deprived overnight exposed flt ligand minutes lysed buffer described lysates incubated flt specific polyclonal antibody overnight c protein g agarose beads l added incubated c hours beads washed times ice cold radioimmunoprecipitation assay ripa lysis buffer supernatant mixed sodium dodecyl sulphate sds sample loading buffer immunoblot analyses antibodies ha ubiquitin sc santa cruz biotechnology santa cruz ca cbl c abcam cambridge united kingdom flt sc cell signaling technology danvers results snp array analysis performed genome wide snp analysis leukocyte dna extracted mpd patients acml n v f jak negative mf n jak mutation negative pv idiopathic erythrocytosis n comparators also analyzed cases cml transformation blast crisis n myeloid lymphoid chronic lymphocytic leukemia cll n conservatively defined likely regions aupd least mb absent significantly reduced heterozygous snp calls ie snps called heterozygous running telomere without change copy number figure large regions uncommon healthy individuals strikingly found aupd common acml cases affected contrast aupd seen single case mf seen patient subgroups total different chromosomes affected abnormalities q q seen recurrently acml cases affected regions ranged size mb complete copy chromosome table figure download figureopen new tabdownload powerpoint figure single nucleotide polymorphism array results initial mutation analysis array analysis control patients showing copy number cn loss heterozygosity loh outputs x axis cn plots show copy number determined cnat values approaching exceeding indicating deletions greater indicating amplifications x axis loh shows log p values ie indicates panels left polycythemia vera pv case homozygous v f jak mutation gross copy number change individual datapoints spread around zero line large block homozygous snp calls p indicative aupd panels right chronic myeloid leukemia cml blast crisis case show loh accompanied q deletion b case upn large block q aupd apparent analysis granulocytes almost completely absent mononuclear cells mncs extracted sample c chromosome p aupd case upn associated biallelic g mpl mutation predicted result w l substitution whole chromosome isodisomy case upn associated homozygous flt itd two controls shown acute myeloid leukemia aml patient previously known heterozygous flt itd healthy individual view inlineview popup table chromosomal regions cases affected aupd association aupd known acquired oncogenic mutations although constitutional dna formally confirm regions homozygosity acquired individual found marked reduction proportion q aupd positive cells comparison mononuclear cells granulocytes consistent acquired abnormality figure b affected regions harbor genes known relevant hematologic malignancies therefore assessed mutational status sequencing mpl gene case upn p aupd revealed homozygous g change figure c results previously reported w l substitution case upn whole chromosome upd homozygous flt internal tandem duplication itd figure candidate genes abnormalities q q include nf runx respectively however investigated q aupd associated cbl mutations next focused analysis recurrent regions aupd q q strong association mpns aberrant tyrosine kinase signaling analyzed genes encoding tyrosine kinases associated signaling components minimally affected region chromosome q contains tyrosine kinases met epha ephb fully sequenced coding exons genes cases q aupd normal controls found abnormalities similarly found sequence changes exons braf gene encoding downstream component ras signaling mutated malignant melanoma cancers tyrosine kinase genes chromosome q although several genes encoding signal transduction components cbl stood known oncogene negatively regulates tyrosine kinase signaling sequencing cbl three q aupd cases revealed upn upn c change nucleotide exon predicts l p substitution case upn c g missense change exon nucleotide predicts p change figure consistent array results mutations cases upn upn predominant residual wild type alleles weakly visible case upn mutation level aupd less prominent presumably due greater background normal cells figure download figureopen new tabdownload powerpoint figure cbl mutations cases q aupd genotyping console output indicating homozygous snp calls green copy number state estimated hidden markov model blue smoothed copy number log ratio values red b ideograms showing lack large copy number changes blocks homozygosity q abbreviations figure c sequence changes indicated case compared normal controls upn upn c c l p mutation whereas upn c c g p prevalence nature cbl mutations determine prevalence cbl mutations sequenced exons encode amino acids respectively additional mpn cases total sequence variants identified patients mf chronic myelomonocytic leukemia cmml acml hypereosinophilic syndrome chronic eosinophilic leukemia hes cel tables ensure missing mutations elsewhere gene analyzed coding exons cbl mutation negative acml unclassified cml like mpn cases high resolution melt hrm analysis failed detect sequence changes apart known polymorphisms similarly mutations cblb exons cblc exons exons correspond cbl exons identified activity bcr abl known increase progression cml chronic phase blast crisis speculated abrogation cbl activity might least partially responsible increase hrm analysis cbl exons blast crisis cases n however failed reveal mutations view inlineview popup table cases analyzed cbl mutations view inlineview popup table list cbl sequence variants cbl variants missense substitutions affecting amino acids different substitutions candidate splicing abnormalities produced stop codon table changes novel although cases r q previously identified single case aml apart n residues affected missense mutations completely conserved cbl orthologues well human cbl family members figure mutation stop codon found patient upn also h variant pcr across affected regions sequencing indicated changes different alleles figure download figureopen new tabdownload powerpoint figure location missense mutations top panel schematic representation cbl protein showing tyrosine kinase binding tkb linker ring proline rich p rich ubiquitin associated leucine zipper uba lz domains bottom panel clustalw alignment entire linker ring domains plus part distal sequence ring domain shaded gray defining c h residues shaded pale blue residues affected missense mutations found study indicated cbl mutations acquired rarely seen conjunction known mutations cases upn upn able compare mutational status leukocytes cells buccal epithelia cells cases l p mutation present leukocytes therefore acquired figure third case upn originally presented v f jak negative et progressed mf analysis dna extracted sequential bone marrow slides indicated r q mutation absent et phase acquired transformation figure b cbl positive mf cases tested negative mpl mutations cbl mutation positive cases negative cytogenetic indicators tyrosine kinase fusions flt itd activating nras mutations v f jak exception case upn mf tested positive l p cbl v f jak analysis retrospective bone marrow slides case indicated presence v f jak low level initially absence l p cbl cbl mutation detectable years later completely displaced v f years corresponding significant rise peripheral leukocyte counts figure c case upn presented systemic mastocytosis evolving cbl mutation positive cmml retrospective samples unavailable figure download figureopen new tabdownload powerpoint figure acquisition cbl mutations comparison granulocytes gran buccal epithelial cells bucc cells demonstrates l p mutations cases upn acquired b sequential leukocyte platelet counts case presented essential thrombocythemia et progressed myelofibrosis mf homozygous cbl r q indicated detected transformation undetectable previous specimens c clinical course case upn presented mf experienced elevated leukocyte counts concomitant appearance cbl l p mutation jak v f mutation present low level since diagnosis still detectable cbl l p first appeared undetectable sample cbl mutated clone predominated sequence trace rt pcr analysis cases controls show expected product cbl exons cases upn upn show smaller bands result complete deletion exon splicing abnormalities rna available cases potential splicing mutations patients upn upn exhibited double bands rt pcr sequencing showed one normal product smaller band result complete deletion exon case figure similar described cell line molm patient upn showed single band rt pcr entirely normal sequence analysis indicating exon c change alter splicing seems likely therefore variant identified case upn also consequence pathogenicity intronic variant seen case upn remains unknown association cbl mutations upd examine association cbl mutations aupd detail performed microsatellite analysis mutated cases using polymorphic markers spanning chromosome q qter cases displayed patterns indicated significant tracts homozygosity including q aupd detected snp arrays case upn mutations heterozygous markers cases biallelic cbl mutations judged sequence analysis showed complete homozygosity microsatellite loci tested least consecutive homozygous calls encompassing location cbl gene q figure performed multiplex ligation probe amplification mlpa analysis determine whether observed homozygosity consequence deletion copy number changes detected data shown therefore likely homozygosity arose aupd number mutated alleles estimated sequencing concordant microsatellite analysis cases figure discordant upn upn significant tracts q homozygosity monoallelic cbl mutation whereas upn upn show q homozygosity clear biallelic cbl mutations reason discrepant cases unclear possible aupd seen upn upn targeted another gene q acquisition cbl mutation homozygosity cbl mutations absence q aupd upn upn might explained subcytogenetic deletion allele figure download figureopen new tabdownload powerpoint figure microsatellite analysis cbl mutation positive cases number cbl mutated alleles monoallelic biallelic estimated sequence analysis described experimental procedures microsatellites scored homozygous embedded image heterozygous case positions chromosome q indicated correlation cbl mutations clinical features compared clinical hematologic features patients without cbl mutations restricting analysis cases acml mf cmml subgroups cbl mutations commonly found patients cbl mutations shorter overall survival progression free survival compared mutation negative cases overall survival months vs months progression free survival months vs months differences significant figure similarly significant difference gender distribution age standard hematologic parameters mutation positive mutation negative cases differences emerged individual disease entities considered figure download figureopen new tabdownload powerpoint figure clinical significance cbl mutations overall survival progression free survival b atypical chronic myeloid leukemia acml chronic myelomonocytic leukemia cmml mf cases n without n cbl mutations differences mutation positive negative cases significant determined kaplan meier analysis transforming activities cbl mutants determined whether selected cbl variants oncogenic activity testing whether could transform interleukin il dependent cell line growth factor independence conjunction overexpression wild type flt described previously r q found f h p r q alone conferred degree growth factor independence cells effect considerably enhanced ds overexpressed wild type flt contrast wild type cbl conferred growth advantage either without flt overexpression n change transforming indicating probably rare polymorphism pathogenetically unimportant passenger mutation figure reproducible differences survival different mutants seen illustrated figure figure download figureopen new tabdownload powerpoint figure transforming activity cbl mutants cells ds overexpressing wild type flt transfected wild type mutant cbl constructs assayed il independent growth days results shown mean least independent experiments performed triplicate axis shows proliferation arbitrary units determined mts assay promega x axis time days figure download figureopen new tabdownload powerpoint figure survival abrogation e ubiquitin ligase activity relative survival proliferation cells expressing wild type mutant cbl constructs hours growth factor withdrawal determined mts assay b cells expressing wild type flt cbl constructs indicated transfected ha tagged ubiquitin stimulated flt ligand lysis flt immunoprecipitated blotted probed anti ha total blots flt cbl also shown abrogation e ubiquitin ligase activity shown flt physically associates cbl upon ligand stimulation flt rapidly ubiquitinylated wild type r q cbl found transforming activity correlated directly ubiquitin ligase activity cbl variants assayed ability transfer ha tagged ubiquitin flt stimulation flt ligand f h p r q mutants showed loss ubiquitin ligase activity whereas n comparable wild type cbl figure b discussion initial aim study identify large regions aupd therefore undertook relatively low resolution genome scan using k snp arrays constitutional dna available cases able unambiguously determine whether extended blocks homozygosity observed consequence aupd constitutional upd autozygosity due consaguinity however used conservative definition candidate aupd regions least mb homozygous snps calls running telomere therefore expected would acquired found aupd relatively common acml uncommon mpns negative known mutations plus also cml blast crisis cll six distinct regions aupd identified acml indicating substantial genetic heterogeneity genesis disorder however identified recurrent regions aupd q q seen cases indicating presence common molecular abnormalities mutation screening focused primarily tyrosine kinases associated signal transduction components known association deregulated tyrosine kinase signaling mpns although failed thus far identify abnormality chromosome q found missense cbl mutations three q aupd cases screening mpns revealed total cbl variants patients diagnosed acml n mf n cmml n hes cel n morphologically clinically related diseases generally exhibit poor prognosis unable discern however specific clinical prognostic features specifically associated cbl mutated cases casitas b lineage lymphoma cbl well characterized protein plays positive negative regulatory roles tyrosine kinase signaling positive role cbl binds activated receptor tyrosine kinases via n terminal tyrosine kinase binding tkb domain serves adaptor recruiting downstream signal transduction components shp p k however ring domain cbl e ligase activity ubiquitinylates activated receptor tyrosine kinases lysine residues signal triggers internalization receptor ligand complex subsequent recycling degradation cbl originally identified characterization v cbl transforming component cas ns retrovirus thus association neoplasia well established however recently cbl mutations first identified human malignancy specifically occasional cases aml found cbl mutations much common mpns previous reports q aupd mds suggest cbl mutations also prove common disease indeed mds cases aupd q recently shown harbor cbl mutations human cbl family members cblb cblc identify aupd regions containing genes detect mutations linker ring domain cblb identified total different cbl missense mutations affecting residues table figure mutations residues eg c h w analyzed previously study concluded loss e ubiquitin ligase activity concomitant impairment egfr internalization ring finger mutations insufficient oncogenicity assayed nih cells however mutations key residues within helix linker region abolished ubiquitin ligase activity transforming although precise amino acid substitutions identified different studied found mutations ring finger linker regions conferred autonomous growth wt flt cells consistent causal relationship mpn phenotype fact one mutation n transforming emphasizes importance functional analysis distinguish driver mutations irrelevant passengers infrequent polymorphisms notably mutation weakly conserved species contrast missense mutations affected highly conserved residues therefore likely functionally significant enhanced autonomous growth presence cbl mutations overexpression wild type flt may simply reflect paucity receptor tyrosine kinase gene expression cells alternatively may indicate mutants weakly transforming require cooperation events give rise clinically manifest disease consistent latter hypothesis identified cases cbl mutations acquired progression preexisting mpn figure cases identity cooperating change unknown although one presented relatively low level v f jak mutation disappeared progression cbl l p positive disease indicating mutations must arisen independently different clones reminiscent observation leukemic blasts approximately half v f positive mpns evolve aml negative jak mutation remains established however cbl mutations usually secondary events whether cases identified exceptional evidence requirement additional cooperating genetic events comes published mouse studies neither complete cbl knockout heterozygous knockin ring finger inactivating mutant c mouse c equivalent human c resulted evidence mpn malignancy however closer analysis revealed subtle hemopoietic perturbations clearly relate pathogenesis mpns specifically hemopoietic stem cells hscs animals increased number hyperresponsive thrombopoietin potent wild type hscs repopulating hemopoietic system effects associated increased stat accumulation phosphorylation hyperresponsiveness growth factors stem cell involvement cardinal features mpns furthermore association stat activation mpns well documented possible overt hematologic disease might induced homozygous knockin mutant findings suggest cbl mutations may solely responsible full mpn phenotype nature cooperating abnormalities remains largely obscure results show overexpression tyrosine kinase cooperate cbl mutants promote transformation however failed identify kinase consistently overexpressed mutation positive cases tyrosine kinase expression profiling data shown one cbl mutation positive case however also tested positive q upd snp array suggesting abnormalities may complement cbl mutation resulting skipping exon also identified murine model nup hoxd progression mds aml corroborating theory acute leukemia arises complementary mutations one inhibits differentiation second case cbl enhances proliferation inhibits apoptosis fact many cbl mutations associated aupd strongly suggests clones homozygous mutations selective advantage heterozygous contrasts prevailing view transforming cbl ring finger linker region mutants act dominant negative fashion although conceivable another unknown locus q target aupd finding case h mutation stop codon opposite alleles strongly suggests homozygous cbl mutations indeed confer direct selective advantage screen entire gene mutations possible cases heterozygous mutations may also functionally homozygous due premature stop codons allele alternatively heterozygosity cases may apparent due variable proportions background normal cells part malignant clone although nontransforming n mutant heterozygous cases heterozygous r q observed thus absence homozygosity cannot used infer presence irrelevant nontransforming sequence variant summary found oncogenic cbl mutations acquired subset hematologically related poor prognosis mpns findings strengthen notion mpns primarily tyrosine kinopathies diseases caused aberrant activation proliferation survival pathways consequence mutations either directly indirectly promote excess tyrosine kinase signaling view fact tyrosine kinases good drug targets possibility cbl mutated cases might amenable therapeutic inhibition clearly attractive '"
      ]
     },
     "execution_count": 6,
     "metadata": {},
     "output_type": "execute_result"
    }
   ],
   "source": [
    "data_texts['TEXT'][3]"
   ]
  },
  {
   "cell_type": "raw",
   "metadata": {},
   "source": [
    "1. Merging both the dataset on ID which was common column\n",
    "2. We also need to check for null values and handle them. "
   ]
  },
  {
   "cell_type": "code",
   "execution_count": 10,
   "metadata": {},
   "outputs": [],
   "source": [
    "final_data = pd.merge(data_variants,data_texts,on = 'ID',how = 'left')"
   ]
  },
  {
   "cell_type": "code",
   "execution_count": 11,
   "metadata": {},
   "outputs": [
    {
     "data": {
      "text/html": [
       "<div>\n",
       "<style scoped>\n",
       "    .dataframe tbody tr th:only-of-type {\n",
       "        vertical-align: middle;\n",
       "    }\n",
       "\n",
       "    .dataframe tbody tr th {\n",
       "        vertical-align: top;\n",
       "    }\n",
       "\n",
       "    .dataframe thead th {\n",
       "        text-align: right;\n",
       "    }\n",
       "</style>\n",
       "<table border=\"1\" class=\"dataframe\">\n",
       "  <thead>\n",
       "    <tr style=\"text-align: right;\">\n",
       "      <th></th>\n",
       "      <th>ID</th>\n",
       "      <th>Gene</th>\n",
       "      <th>Variation</th>\n",
       "      <th>Class</th>\n",
       "      <th>TEXT</th>\n",
       "    </tr>\n",
       "  </thead>\n",
       "  <tbody>\n",
       "    <tr>\n",
       "      <th>0</th>\n",
       "      <td>False</td>\n",
       "      <td>False</td>\n",
       "      <td>False</td>\n",
       "      <td>False</td>\n",
       "      <td>False</td>\n",
       "    </tr>\n",
       "    <tr>\n",
       "      <th>1</th>\n",
       "      <td>False</td>\n",
       "      <td>False</td>\n",
       "      <td>False</td>\n",
       "      <td>False</td>\n",
       "      <td>False</td>\n",
       "    </tr>\n",
       "    <tr>\n",
       "      <th>2</th>\n",
       "      <td>False</td>\n",
       "      <td>False</td>\n",
       "      <td>False</td>\n",
       "      <td>False</td>\n",
       "      <td>False</td>\n",
       "    </tr>\n",
       "    <tr>\n",
       "      <th>3</th>\n",
       "      <td>False</td>\n",
       "      <td>False</td>\n",
       "      <td>False</td>\n",
       "      <td>False</td>\n",
       "      <td>False</td>\n",
       "    </tr>\n",
       "    <tr>\n",
       "      <th>4</th>\n",
       "      <td>False</td>\n",
       "      <td>False</td>\n",
       "      <td>False</td>\n",
       "      <td>False</td>\n",
       "      <td>False</td>\n",
       "    </tr>\n",
       "    <tr>\n",
       "      <th>5</th>\n",
       "      <td>False</td>\n",
       "      <td>False</td>\n",
       "      <td>False</td>\n",
       "      <td>False</td>\n",
       "      <td>False</td>\n",
       "    </tr>\n",
       "    <tr>\n",
       "      <th>6</th>\n",
       "      <td>False</td>\n",
       "      <td>False</td>\n",
       "      <td>False</td>\n",
       "      <td>False</td>\n",
       "      <td>False</td>\n",
       "    </tr>\n",
       "    <tr>\n",
       "      <th>7</th>\n",
       "      <td>False</td>\n",
       "      <td>False</td>\n",
       "      <td>False</td>\n",
       "      <td>False</td>\n",
       "      <td>False</td>\n",
       "    </tr>\n",
       "    <tr>\n",
       "      <th>8</th>\n",
       "      <td>False</td>\n",
       "      <td>False</td>\n",
       "      <td>False</td>\n",
       "      <td>False</td>\n",
       "      <td>False</td>\n",
       "    </tr>\n",
       "    <tr>\n",
       "      <th>9</th>\n",
       "      <td>False</td>\n",
       "      <td>False</td>\n",
       "      <td>False</td>\n",
       "      <td>False</td>\n",
       "      <td>False</td>\n",
       "    </tr>\n",
       "    <tr>\n",
       "      <th>10</th>\n",
       "      <td>False</td>\n",
       "      <td>False</td>\n",
       "      <td>False</td>\n",
       "      <td>False</td>\n",
       "      <td>False</td>\n",
       "    </tr>\n",
       "    <tr>\n",
       "      <th>11</th>\n",
       "      <td>False</td>\n",
       "      <td>False</td>\n",
       "      <td>False</td>\n",
       "      <td>False</td>\n",
       "      <td>False</td>\n",
       "    </tr>\n",
       "    <tr>\n",
       "      <th>12</th>\n",
       "      <td>False</td>\n",
       "      <td>False</td>\n",
       "      <td>False</td>\n",
       "      <td>False</td>\n",
       "      <td>False</td>\n",
       "    </tr>\n",
       "    <tr>\n",
       "      <th>13</th>\n",
       "      <td>False</td>\n",
       "      <td>False</td>\n",
       "      <td>False</td>\n",
       "      <td>False</td>\n",
       "      <td>False</td>\n",
       "    </tr>\n",
       "    <tr>\n",
       "      <th>14</th>\n",
       "      <td>False</td>\n",
       "      <td>False</td>\n",
       "      <td>False</td>\n",
       "      <td>False</td>\n",
       "      <td>False</td>\n",
       "    </tr>\n",
       "    <tr>\n",
       "      <th>15</th>\n",
       "      <td>False</td>\n",
       "      <td>False</td>\n",
       "      <td>False</td>\n",
       "      <td>False</td>\n",
       "      <td>False</td>\n",
       "    </tr>\n",
       "    <tr>\n",
       "      <th>16</th>\n",
       "      <td>False</td>\n",
       "      <td>False</td>\n",
       "      <td>False</td>\n",
       "      <td>False</td>\n",
       "      <td>False</td>\n",
       "    </tr>\n",
       "    <tr>\n",
       "      <th>17</th>\n",
       "      <td>False</td>\n",
       "      <td>False</td>\n",
       "      <td>False</td>\n",
       "      <td>False</td>\n",
       "      <td>False</td>\n",
       "    </tr>\n",
       "    <tr>\n",
       "      <th>18</th>\n",
       "      <td>False</td>\n",
       "      <td>False</td>\n",
       "      <td>False</td>\n",
       "      <td>False</td>\n",
       "      <td>False</td>\n",
       "    </tr>\n",
       "    <tr>\n",
       "      <th>19</th>\n",
       "      <td>False</td>\n",
       "      <td>False</td>\n",
       "      <td>False</td>\n",
       "      <td>False</td>\n",
       "      <td>False</td>\n",
       "    </tr>\n",
       "    <tr>\n",
       "      <th>20</th>\n",
       "      <td>False</td>\n",
       "      <td>False</td>\n",
       "      <td>False</td>\n",
       "      <td>False</td>\n",
       "      <td>False</td>\n",
       "    </tr>\n",
       "    <tr>\n",
       "      <th>21</th>\n",
       "      <td>False</td>\n",
       "      <td>False</td>\n",
       "      <td>False</td>\n",
       "      <td>False</td>\n",
       "      <td>False</td>\n",
       "    </tr>\n",
       "    <tr>\n",
       "      <th>22</th>\n",
       "      <td>False</td>\n",
       "      <td>False</td>\n",
       "      <td>False</td>\n",
       "      <td>False</td>\n",
       "      <td>False</td>\n",
       "    </tr>\n",
       "    <tr>\n",
       "      <th>23</th>\n",
       "      <td>False</td>\n",
       "      <td>False</td>\n",
       "      <td>False</td>\n",
       "      <td>False</td>\n",
       "      <td>False</td>\n",
       "    </tr>\n",
       "    <tr>\n",
       "      <th>24</th>\n",
       "      <td>False</td>\n",
       "      <td>False</td>\n",
       "      <td>False</td>\n",
       "      <td>False</td>\n",
       "      <td>False</td>\n",
       "    </tr>\n",
       "    <tr>\n",
       "      <th>25</th>\n",
       "      <td>False</td>\n",
       "      <td>False</td>\n",
       "      <td>False</td>\n",
       "      <td>False</td>\n",
       "      <td>False</td>\n",
       "    </tr>\n",
       "    <tr>\n",
       "      <th>26</th>\n",
       "      <td>False</td>\n",
       "      <td>False</td>\n",
       "      <td>False</td>\n",
       "      <td>False</td>\n",
       "      <td>False</td>\n",
       "    </tr>\n",
       "    <tr>\n",
       "      <th>27</th>\n",
       "      <td>False</td>\n",
       "      <td>False</td>\n",
       "      <td>False</td>\n",
       "      <td>False</td>\n",
       "      <td>False</td>\n",
       "    </tr>\n",
       "    <tr>\n",
       "      <th>28</th>\n",
       "      <td>False</td>\n",
       "      <td>False</td>\n",
       "      <td>False</td>\n",
       "      <td>False</td>\n",
       "      <td>False</td>\n",
       "    </tr>\n",
       "    <tr>\n",
       "      <th>29</th>\n",
       "      <td>False</td>\n",
       "      <td>False</td>\n",
       "      <td>False</td>\n",
       "      <td>False</td>\n",
       "      <td>False</td>\n",
       "    </tr>\n",
       "    <tr>\n",
       "      <th>...</th>\n",
       "      <td>...</td>\n",
       "      <td>...</td>\n",
       "      <td>...</td>\n",
       "      <td>...</td>\n",
       "      <td>...</td>\n",
       "    </tr>\n",
       "    <tr>\n",
       "      <th>3291</th>\n",
       "      <td>False</td>\n",
       "      <td>False</td>\n",
       "      <td>False</td>\n",
       "      <td>False</td>\n",
       "      <td>False</td>\n",
       "    </tr>\n",
       "    <tr>\n",
       "      <th>3292</th>\n",
       "      <td>False</td>\n",
       "      <td>False</td>\n",
       "      <td>False</td>\n",
       "      <td>False</td>\n",
       "      <td>False</td>\n",
       "    </tr>\n",
       "    <tr>\n",
       "      <th>3293</th>\n",
       "      <td>False</td>\n",
       "      <td>False</td>\n",
       "      <td>False</td>\n",
       "      <td>False</td>\n",
       "      <td>False</td>\n",
       "    </tr>\n",
       "    <tr>\n",
       "      <th>3294</th>\n",
       "      <td>False</td>\n",
       "      <td>False</td>\n",
       "      <td>False</td>\n",
       "      <td>False</td>\n",
       "      <td>False</td>\n",
       "    </tr>\n",
       "    <tr>\n",
       "      <th>3295</th>\n",
       "      <td>False</td>\n",
       "      <td>False</td>\n",
       "      <td>False</td>\n",
       "      <td>False</td>\n",
       "      <td>False</td>\n",
       "    </tr>\n",
       "    <tr>\n",
       "      <th>3296</th>\n",
       "      <td>False</td>\n",
       "      <td>False</td>\n",
       "      <td>False</td>\n",
       "      <td>False</td>\n",
       "      <td>False</td>\n",
       "    </tr>\n",
       "    <tr>\n",
       "      <th>3297</th>\n",
       "      <td>False</td>\n",
       "      <td>False</td>\n",
       "      <td>False</td>\n",
       "      <td>False</td>\n",
       "      <td>False</td>\n",
       "    </tr>\n",
       "    <tr>\n",
       "      <th>3298</th>\n",
       "      <td>False</td>\n",
       "      <td>False</td>\n",
       "      <td>False</td>\n",
       "      <td>False</td>\n",
       "      <td>False</td>\n",
       "    </tr>\n",
       "    <tr>\n",
       "      <th>3299</th>\n",
       "      <td>False</td>\n",
       "      <td>False</td>\n",
       "      <td>False</td>\n",
       "      <td>False</td>\n",
       "      <td>False</td>\n",
       "    </tr>\n",
       "    <tr>\n",
       "      <th>3300</th>\n",
       "      <td>False</td>\n",
       "      <td>False</td>\n",
       "      <td>False</td>\n",
       "      <td>False</td>\n",
       "      <td>False</td>\n",
       "    </tr>\n",
       "    <tr>\n",
       "      <th>3301</th>\n",
       "      <td>False</td>\n",
       "      <td>False</td>\n",
       "      <td>False</td>\n",
       "      <td>False</td>\n",
       "      <td>False</td>\n",
       "    </tr>\n",
       "    <tr>\n",
       "      <th>3302</th>\n",
       "      <td>False</td>\n",
       "      <td>False</td>\n",
       "      <td>False</td>\n",
       "      <td>False</td>\n",
       "      <td>False</td>\n",
       "    </tr>\n",
       "    <tr>\n",
       "      <th>3303</th>\n",
       "      <td>False</td>\n",
       "      <td>False</td>\n",
       "      <td>False</td>\n",
       "      <td>False</td>\n",
       "      <td>False</td>\n",
       "    </tr>\n",
       "    <tr>\n",
       "      <th>3304</th>\n",
       "      <td>False</td>\n",
       "      <td>False</td>\n",
       "      <td>False</td>\n",
       "      <td>False</td>\n",
       "      <td>False</td>\n",
       "    </tr>\n",
       "    <tr>\n",
       "      <th>3305</th>\n",
       "      <td>False</td>\n",
       "      <td>False</td>\n",
       "      <td>False</td>\n",
       "      <td>False</td>\n",
       "      <td>False</td>\n",
       "    </tr>\n",
       "    <tr>\n",
       "      <th>3306</th>\n",
       "      <td>False</td>\n",
       "      <td>False</td>\n",
       "      <td>False</td>\n",
       "      <td>False</td>\n",
       "      <td>False</td>\n",
       "    </tr>\n",
       "    <tr>\n",
       "      <th>3307</th>\n",
       "      <td>False</td>\n",
       "      <td>False</td>\n",
       "      <td>False</td>\n",
       "      <td>False</td>\n",
       "      <td>False</td>\n",
       "    </tr>\n",
       "    <tr>\n",
       "      <th>3308</th>\n",
       "      <td>False</td>\n",
       "      <td>False</td>\n",
       "      <td>False</td>\n",
       "      <td>False</td>\n",
       "      <td>False</td>\n",
       "    </tr>\n",
       "    <tr>\n",
       "      <th>3309</th>\n",
       "      <td>False</td>\n",
       "      <td>False</td>\n",
       "      <td>False</td>\n",
       "      <td>False</td>\n",
       "      <td>False</td>\n",
       "    </tr>\n",
       "    <tr>\n",
       "      <th>3310</th>\n",
       "      <td>False</td>\n",
       "      <td>False</td>\n",
       "      <td>False</td>\n",
       "      <td>False</td>\n",
       "      <td>False</td>\n",
       "    </tr>\n",
       "    <tr>\n",
       "      <th>3311</th>\n",
       "      <td>False</td>\n",
       "      <td>False</td>\n",
       "      <td>False</td>\n",
       "      <td>False</td>\n",
       "      <td>False</td>\n",
       "    </tr>\n",
       "    <tr>\n",
       "      <th>3312</th>\n",
       "      <td>False</td>\n",
       "      <td>False</td>\n",
       "      <td>False</td>\n",
       "      <td>False</td>\n",
       "      <td>False</td>\n",
       "    </tr>\n",
       "    <tr>\n",
       "      <th>3313</th>\n",
       "      <td>False</td>\n",
       "      <td>False</td>\n",
       "      <td>False</td>\n",
       "      <td>False</td>\n",
       "      <td>False</td>\n",
       "    </tr>\n",
       "    <tr>\n",
       "      <th>3314</th>\n",
       "      <td>False</td>\n",
       "      <td>False</td>\n",
       "      <td>False</td>\n",
       "      <td>False</td>\n",
       "      <td>False</td>\n",
       "    </tr>\n",
       "    <tr>\n",
       "      <th>3315</th>\n",
       "      <td>False</td>\n",
       "      <td>False</td>\n",
       "      <td>False</td>\n",
       "      <td>False</td>\n",
       "      <td>False</td>\n",
       "    </tr>\n",
       "    <tr>\n",
       "      <th>3316</th>\n",
       "      <td>False</td>\n",
       "      <td>False</td>\n",
       "      <td>False</td>\n",
       "      <td>False</td>\n",
       "      <td>False</td>\n",
       "    </tr>\n",
       "    <tr>\n",
       "      <th>3317</th>\n",
       "      <td>False</td>\n",
       "      <td>False</td>\n",
       "      <td>False</td>\n",
       "      <td>False</td>\n",
       "      <td>False</td>\n",
       "    </tr>\n",
       "    <tr>\n",
       "      <th>3318</th>\n",
       "      <td>False</td>\n",
       "      <td>False</td>\n",
       "      <td>False</td>\n",
       "      <td>False</td>\n",
       "      <td>False</td>\n",
       "    </tr>\n",
       "    <tr>\n",
       "      <th>3319</th>\n",
       "      <td>False</td>\n",
       "      <td>False</td>\n",
       "      <td>False</td>\n",
       "      <td>False</td>\n",
       "      <td>False</td>\n",
       "    </tr>\n",
       "    <tr>\n",
       "      <th>3320</th>\n",
       "      <td>False</td>\n",
       "      <td>False</td>\n",
       "      <td>False</td>\n",
       "      <td>False</td>\n",
       "      <td>False</td>\n",
       "    </tr>\n",
       "  </tbody>\n",
       "</table>\n",
       "<p>3321 rows × 5 columns</p>\n",
       "</div>"
      ],
      "text/plain": [
       "         ID   Gene  Variation  Class   TEXT\n",
       "0     False  False      False  False  False\n",
       "1     False  False      False  False  False\n",
       "2     False  False      False  False  False\n",
       "3     False  False      False  False  False\n",
       "4     False  False      False  False  False\n",
       "5     False  False      False  False  False\n",
       "6     False  False      False  False  False\n",
       "7     False  False      False  False  False\n",
       "8     False  False      False  False  False\n",
       "9     False  False      False  False  False\n",
       "10    False  False      False  False  False\n",
       "11    False  False      False  False  False\n",
       "12    False  False      False  False  False\n",
       "13    False  False      False  False  False\n",
       "14    False  False      False  False  False\n",
       "15    False  False      False  False  False\n",
       "16    False  False      False  False  False\n",
       "17    False  False      False  False  False\n",
       "18    False  False      False  False  False\n",
       "19    False  False      False  False  False\n",
       "20    False  False      False  False  False\n",
       "21    False  False      False  False  False\n",
       "22    False  False      False  False  False\n",
       "23    False  False      False  False  False\n",
       "24    False  False      False  False  False\n",
       "25    False  False      False  False  False\n",
       "26    False  False      False  False  False\n",
       "27    False  False      False  False  False\n",
       "28    False  False      False  False  False\n",
       "29    False  False      False  False  False\n",
       "...     ...    ...        ...    ...    ...\n",
       "3291  False  False      False  False  False\n",
       "3292  False  False      False  False  False\n",
       "3293  False  False      False  False  False\n",
       "3294  False  False      False  False  False\n",
       "3295  False  False      False  False  False\n",
       "3296  False  False      False  False  False\n",
       "3297  False  False      False  False  False\n",
       "3298  False  False      False  False  False\n",
       "3299  False  False      False  False  False\n",
       "3300  False  False      False  False  False\n",
       "3301  False  False      False  False  False\n",
       "3302  False  False      False  False  False\n",
       "3303  False  False      False  False  False\n",
       "3304  False  False      False  False  False\n",
       "3305  False  False      False  False  False\n",
       "3306  False  False      False  False  False\n",
       "3307  False  False      False  False  False\n",
       "3308  False  False      False  False  False\n",
       "3309  False  False      False  False  False\n",
       "3310  False  False      False  False  False\n",
       "3311  False  False      False  False  False\n",
       "3312  False  False      False  False  False\n",
       "3313  False  False      False  False  False\n",
       "3314  False  False      False  False  False\n",
       "3315  False  False      False  False  False\n",
       "3316  False  False      False  False  False\n",
       "3317  False  False      False  False  False\n",
       "3318  False  False      False  False  False\n",
       "3319  False  False      False  False  False\n",
       "3320  False  False      False  False  False\n",
       "\n",
       "[3321 rows x 5 columns]"
      ]
     },
     "execution_count": 11,
     "metadata": {},
     "output_type": "execute_result"
    }
   ],
   "source": [
    "final_data.isnull()"
   ]
  },
  {
   "cell_type": "code",
   "execution_count": 12,
   "metadata": {},
   "outputs": [
    {
     "data": {
      "text/html": [
       "<div>\n",
       "<style scoped>\n",
       "    .dataframe tbody tr th:only-of-type {\n",
       "        vertical-align: middle;\n",
       "    }\n",
       "\n",
       "    .dataframe tbody tr th {\n",
       "        vertical-align: top;\n",
       "    }\n",
       "\n",
       "    .dataframe thead th {\n",
       "        text-align: right;\n",
       "    }\n",
       "</style>\n",
       "<table border=\"1\" class=\"dataframe\">\n",
       "  <thead>\n",
       "    <tr style=\"text-align: right;\">\n",
       "      <th></th>\n",
       "      <th>ID</th>\n",
       "      <th>Gene</th>\n",
       "      <th>Variation</th>\n",
       "      <th>Class</th>\n",
       "      <th>TEXT</th>\n",
       "    </tr>\n",
       "  </thead>\n",
       "  <tbody>\n",
       "    <tr>\n",
       "      <th>0</th>\n",
       "      <td>0</td>\n",
       "      <td>FAM58A</td>\n",
       "      <td>Truncating Mutations</td>\n",
       "      <td>1</td>\n",
       "      <td>cyclin dependent kinases cdks regulate variety...</td>\n",
       "    </tr>\n",
       "    <tr>\n",
       "      <th>1</th>\n",
       "      <td>1</td>\n",
       "      <td>CBL</td>\n",
       "      <td>W802*</td>\n",
       "      <td>2</td>\n",
       "      <td>abstract background non small cell lung cancer...</td>\n",
       "    </tr>\n",
       "    <tr>\n",
       "      <th>2</th>\n",
       "      <td>2</td>\n",
       "      <td>CBL</td>\n",
       "      <td>Q249E</td>\n",
       "      <td>2</td>\n",
       "      <td>abstract background non small cell lung cancer...</td>\n",
       "    </tr>\n",
       "  </tbody>\n",
       "</table>\n",
       "</div>"
      ],
      "text/plain": [
       "   ID    Gene             Variation  Class  \\\n",
       "0   0  FAM58A  Truncating Mutations      1   \n",
       "1   1     CBL                 W802*      2   \n",
       "2   2     CBL                 Q249E      2   \n",
       "\n",
       "                                                TEXT  \n",
       "0  cyclin dependent kinases cdks regulate variety...  \n",
       "1  abstract background non small cell lung cancer...  \n",
       "2  abstract background non small cell lung cancer...  "
      ]
     },
     "execution_count": 12,
     "metadata": {},
     "output_type": "execute_result"
    }
   ],
   "source": [
    "final_data.head(3)"
   ]
  },
  {
   "cell_type": "code",
   "execution_count": 13,
   "metadata": {},
   "outputs": [
    {
     "data": {
      "text/html": [
       "<div>\n",
       "<style scoped>\n",
       "    .dataframe tbody tr th:only-of-type {\n",
       "        vertical-align: middle;\n",
       "    }\n",
       "\n",
       "    .dataframe tbody tr th {\n",
       "        vertical-align: top;\n",
       "    }\n",
       "\n",
       "    .dataframe thead th {\n",
       "        text-align: right;\n",
       "    }\n",
       "</style>\n",
       "<table border=\"1\" class=\"dataframe\">\n",
       "  <thead>\n",
       "    <tr style=\"text-align: right;\">\n",
       "      <th></th>\n",
       "      <th>ID</th>\n",
       "      <th>Gene</th>\n",
       "      <th>Variation</th>\n",
       "      <th>Class</th>\n",
       "      <th>TEXT</th>\n",
       "    </tr>\n",
       "  </thead>\n",
       "  <tbody>\n",
       "    <tr>\n",
       "      <th>0</th>\n",
       "      <td>0</td>\n",
       "      <td>FAM58A</td>\n",
       "      <td>Truncating Mutations</td>\n",
       "      <td>1</td>\n",
       "      <td>cyclin dependent kinases cdks regulate variety...</td>\n",
       "    </tr>\n",
       "    <tr>\n",
       "      <th>1</th>\n",
       "      <td>1</td>\n",
       "      <td>CBL</td>\n",
       "      <td>W802*</td>\n",
       "      <td>2</td>\n",
       "      <td>abstract background non small cell lung cancer...</td>\n",
       "    </tr>\n",
       "    <tr>\n",
       "      <th>2</th>\n",
       "      <td>2</td>\n",
       "      <td>CBL</td>\n",
       "      <td>Q249E</td>\n",
       "      <td>2</td>\n",
       "      <td>abstract background non small cell lung cancer...</td>\n",
       "    </tr>\n",
       "    <tr>\n",
       "      <th>3</th>\n",
       "      <td>3</td>\n",
       "      <td>CBL</td>\n",
       "      <td>N454D</td>\n",
       "      <td>3</td>\n",
       "      <td>recent evidence demonstrated acquired uniparen...</td>\n",
       "    </tr>\n",
       "    <tr>\n",
       "      <th>4</th>\n",
       "      <td>4</td>\n",
       "      <td>CBL</td>\n",
       "      <td>L399V</td>\n",
       "      <td>4</td>\n",
       "      <td>oncogenic mutations monomeric casitas b lineag...</td>\n",
       "    </tr>\n",
       "    <tr>\n",
       "      <th>5</th>\n",
       "      <td>5</td>\n",
       "      <td>CBL</td>\n",
       "      <td>V391I</td>\n",
       "      <td>4</td>\n",
       "      <td>oncogenic mutations monomeric casitas b lineag...</td>\n",
       "    </tr>\n",
       "    <tr>\n",
       "      <th>6</th>\n",
       "      <td>6</td>\n",
       "      <td>CBL</td>\n",
       "      <td>V430M</td>\n",
       "      <td>5</td>\n",
       "      <td>oncogenic mutations monomeric casitas b lineag...</td>\n",
       "    </tr>\n",
       "    <tr>\n",
       "      <th>7</th>\n",
       "      <td>7</td>\n",
       "      <td>CBL</td>\n",
       "      <td>Deletion</td>\n",
       "      <td>1</td>\n",
       "      <td>cbl negative regulator activated receptor tyro...</td>\n",
       "    </tr>\n",
       "    <tr>\n",
       "      <th>8</th>\n",
       "      <td>8</td>\n",
       "      <td>CBL</td>\n",
       "      <td>Y371H</td>\n",
       "      <td>4</td>\n",
       "      <td>abstract juvenile myelomonocytic leukemia jmml...</td>\n",
       "    </tr>\n",
       "    <tr>\n",
       "      <th>9</th>\n",
       "      <td>9</td>\n",
       "      <td>CBL</td>\n",
       "      <td>C384R</td>\n",
       "      <td>4</td>\n",
       "      <td>abstract juvenile myelomonocytic leukemia jmml...</td>\n",
       "    </tr>\n",
       "    <tr>\n",
       "      <th>10</th>\n",
       "      <td>10</td>\n",
       "      <td>CBL</td>\n",
       "      <td>P395A</td>\n",
       "      <td>4</td>\n",
       "      <td>oncogenic mutations monomeric casitas b lineag...</td>\n",
       "    </tr>\n",
       "    <tr>\n",
       "      <th>11</th>\n",
       "      <td>11</td>\n",
       "      <td>CBL</td>\n",
       "      <td>K382E</td>\n",
       "      <td>4</td>\n",
       "      <td>noonan syndrome autosomal dominant congenital ...</td>\n",
       "    </tr>\n",
       "    <tr>\n",
       "      <th>12</th>\n",
       "      <td>12</td>\n",
       "      <td>CBL</td>\n",
       "      <td>R420Q</td>\n",
       "      <td>4</td>\n",
       "      <td>noonan syndrome autosomal dominant congenital ...</td>\n",
       "    </tr>\n",
       "    <tr>\n",
       "      <th>13</th>\n",
       "      <td>13</td>\n",
       "      <td>CBL</td>\n",
       "      <td>C381A</td>\n",
       "      <td>4</td>\n",
       "      <td>noonan syndrome autosomal dominant congenital ...</td>\n",
       "    </tr>\n",
       "    <tr>\n",
       "      <th>14</th>\n",
       "      <td>14</td>\n",
       "      <td>CBL</td>\n",
       "      <td>P428L</td>\n",
       "      <td>5</td>\n",
       "      <td>oncogenic mutations monomeric casitas b lineag...</td>\n",
       "    </tr>\n",
       "    <tr>\n",
       "      <th>15</th>\n",
       "      <td>15</td>\n",
       "      <td>CBL</td>\n",
       "      <td>D390Y</td>\n",
       "      <td>4</td>\n",
       "      <td>noonan syndrome autosomal dominant congenital ...</td>\n",
       "    </tr>\n",
       "    <tr>\n",
       "      <th>16</th>\n",
       "      <td>16</td>\n",
       "      <td>CBL</td>\n",
       "      <td>Truncating Mutations</td>\n",
       "      <td>1</td>\n",
       "      <td>determine residual cylindrical refractive erro...</td>\n",
       "    </tr>\n",
       "    <tr>\n",
       "      <th>17</th>\n",
       "      <td>17</td>\n",
       "      <td>CBL</td>\n",
       "      <td>Q367P</td>\n",
       "      <td>4</td>\n",
       "      <td>acquired uniparental disomy aupd common featur...</td>\n",
       "    </tr>\n",
       "    <tr>\n",
       "      <th>18</th>\n",
       "      <td>18</td>\n",
       "      <td>CBL</td>\n",
       "      <td>M374V</td>\n",
       "      <td>5</td>\n",
       "      <td>oncogenic mutations monomeric casitas b lineag...</td>\n",
       "    </tr>\n",
       "    <tr>\n",
       "      <th>19</th>\n",
       "      <td>19</td>\n",
       "      <td>CBL</td>\n",
       "      <td>Y371S</td>\n",
       "      <td>4</td>\n",
       "      <td>acquired uniparental disomy aupd common featur...</td>\n",
       "    </tr>\n",
       "    <tr>\n",
       "      <th>20</th>\n",
       "      <td>20</td>\n",
       "      <td>CBL</td>\n",
       "      <td>H94Y</td>\n",
       "      <td>6</td>\n",
       "      <td>abstract background non small cell lung cancer...</td>\n",
       "    </tr>\n",
       "    <tr>\n",
       "      <th>21</th>\n",
       "      <td>21</td>\n",
       "      <td>CBL</td>\n",
       "      <td>C396R</td>\n",
       "      <td>4</td>\n",
       "      <td>oncogenic mutations monomeric casitas b lineag...</td>\n",
       "    </tr>\n",
       "    <tr>\n",
       "      <th>22</th>\n",
       "      <td>22</td>\n",
       "      <td>CBL</td>\n",
       "      <td>G375P</td>\n",
       "      <td>4</td>\n",
       "      <td>oncogenic mutations monomeric casitas b lineag...</td>\n",
       "    </tr>\n",
       "    <tr>\n",
       "      <th>23</th>\n",
       "      <td>23</td>\n",
       "      <td>CBL</td>\n",
       "      <td>S376F</td>\n",
       "      <td>4</td>\n",
       "      <td>recent evidence demonstrated acquired uniparen...</td>\n",
       "    </tr>\n",
       "    <tr>\n",
       "      <th>24</th>\n",
       "      <td>24</td>\n",
       "      <td>CBL</td>\n",
       "      <td>P417A</td>\n",
       "      <td>4</td>\n",
       "      <td>recent evidence demonstrated acquired uniparen...</td>\n",
       "    </tr>\n",
       "    <tr>\n",
       "      <th>25</th>\n",
       "      <td>25</td>\n",
       "      <td>CBL</td>\n",
       "      <td>H398Y</td>\n",
       "      <td>4</td>\n",
       "      <td>recent evidence demonstrated acquired uniparen...</td>\n",
       "    </tr>\n",
       "    <tr>\n",
       "      <th>26</th>\n",
       "      <td>26</td>\n",
       "      <td>SHOC2</td>\n",
       "      <td>S2G</td>\n",
       "      <td>4</td>\n",
       "      <td>abstract n myristoylation common form co trans...</td>\n",
       "    </tr>\n",
       "    <tr>\n",
       "      <th>27</th>\n",
       "      <td>27</td>\n",
       "      <td>TERT</td>\n",
       "      <td>Y846C</td>\n",
       "      <td>4</td>\n",
       "      <td>heterozygous mutations telomerase components t...</td>\n",
       "    </tr>\n",
       "    <tr>\n",
       "      <th>28</th>\n",
       "      <td>28</td>\n",
       "      <td>TERT</td>\n",
       "      <td>C228T</td>\n",
       "      <td>7</td>\n",
       "      <td>sequencing studies identified many recurrent c...</td>\n",
       "    </tr>\n",
       "    <tr>\n",
       "      <th>29</th>\n",
       "      <td>29</td>\n",
       "      <td>TERT</td>\n",
       "      <td>H412Y</td>\n",
       "      <td>4</td>\n",
       "      <td>heterozygous mutations telomerase components t...</td>\n",
       "    </tr>\n",
       "    <tr>\n",
       "      <th>...</th>\n",
       "      <td>...</td>\n",
       "      <td>...</td>\n",
       "      <td>...</td>\n",
       "      <td>...</td>\n",
       "      <td>...</td>\n",
       "    </tr>\n",
       "    <tr>\n",
       "      <th>3291</th>\n",
       "      <td>3291</td>\n",
       "      <td>RET</td>\n",
       "      <td>C620R</td>\n",
       "      <td>7</td>\n",
       "      <td>investigatedthe transformingactivityofthe ret ...</td>\n",
       "    </tr>\n",
       "    <tr>\n",
       "      <th>3292</th>\n",
       "      <td>3292</td>\n",
       "      <td>RET</td>\n",
       "      <td>C634Y</td>\n",
       "      <td>7</td>\n",
       "      <td>investigatedthe transformingactivityofthe ret ...</td>\n",
       "    </tr>\n",
       "    <tr>\n",
       "      <th>3293</th>\n",
       "      <td>3293</td>\n",
       "      <td>RET</td>\n",
       "      <td>V804G</td>\n",
       "      <td>1</td>\n",
       "      <td>ret transmembrane tyrosine kinase participatin...</td>\n",
       "    </tr>\n",
       "    <tr>\n",
       "      <th>3294</th>\n",
       "      <td>3294</td>\n",
       "      <td>RET</td>\n",
       "      <td>R886W</td>\n",
       "      <td>7</td>\n",
       "      <td>introduction inherited germ line activating mu...</td>\n",
       "    </tr>\n",
       "    <tr>\n",
       "      <th>3295</th>\n",
       "      <td>3295</td>\n",
       "      <td>RET</td>\n",
       "      <td>F893L</td>\n",
       "      <td>4</td>\n",
       "      <td>many missense mutations ret proto oncogene fou...</td>\n",
       "    </tr>\n",
       "    <tr>\n",
       "      <th>3296</th>\n",
       "      <td>3296</td>\n",
       "      <td>RET</td>\n",
       "      <td>Y791F</td>\n",
       "      <td>7</td>\n",
       "      <td>ret proto oncogene encodes receptor tyrosine k...</td>\n",
       "    </tr>\n",
       "    <tr>\n",
       "      <th>3297</th>\n",
       "      <td>3297</td>\n",
       "      <td>RUNX1</td>\n",
       "      <td>R177*</td>\n",
       "      <td>4</td>\n",
       "      <td>aml gene known frequent target chromosomal tra...</td>\n",
       "    </tr>\n",
       "    <tr>\n",
       "      <th>3298</th>\n",
       "      <td>3298</td>\n",
       "      <td>RUNX1</td>\n",
       "      <td>Y113*</td>\n",
       "      <td>4</td>\n",
       "      <td>introduction myelodysplastic syndromes mds het...</td>\n",
       "    </tr>\n",
       "    <tr>\n",
       "      <th>3299</th>\n",
       "      <td>3299</td>\n",
       "      <td>RUNX1</td>\n",
       "      <td>R139G</td>\n",
       "      <td>4</td>\n",
       "      <td>bcr abl fusion protein generated q q chronic m...</td>\n",
       "    </tr>\n",
       "    <tr>\n",
       "      <th>3300</th>\n",
       "      <td>3300</td>\n",
       "      <td>RUNX1</td>\n",
       "      <td>K83N</td>\n",
       "      <td>4</td>\n",
       "      <td>frequent mutations associated leukemia recurre...</td>\n",
       "    </tr>\n",
       "    <tr>\n",
       "      <th>3301</th>\n",
       "      <td>3301</td>\n",
       "      <td>RUNX1</td>\n",
       "      <td>R177Q</td>\n",
       "      <td>4</td>\n",
       "      <td>frequent mutations associated leukemia recurre...</td>\n",
       "    </tr>\n",
       "    <tr>\n",
       "      <th>3302</th>\n",
       "      <td>3302</td>\n",
       "      <td>RUNX1</td>\n",
       "      <td>R166Q</td>\n",
       "      <td>4</td>\n",
       "      <td>familial platelet disorder predisposition acut...</td>\n",
       "    </tr>\n",
       "    <tr>\n",
       "      <th>3303</th>\n",
       "      <td>3303</td>\n",
       "      <td>RUNX1</td>\n",
       "      <td>P173S</td>\n",
       "      <td>4</td>\n",
       "      <td>introduction myelodysplastic syndromes mds het...</td>\n",
       "    </tr>\n",
       "    <tr>\n",
       "      <th>3304</th>\n",
       "      <td>3304</td>\n",
       "      <td>RUNX1</td>\n",
       "      <td>R201Q</td>\n",
       "      <td>4</td>\n",
       "      <td>familial platelet disorder predisposition acut...</td>\n",
       "    </tr>\n",
       "    <tr>\n",
       "      <th>3305</th>\n",
       "      <td>3305</td>\n",
       "      <td>RUNX1</td>\n",
       "      <td>S70fsX93</td>\n",
       "      <td>4</td>\n",
       "      <td>introduction myelodysplastic syndromes mds het...</td>\n",
       "    </tr>\n",
       "    <tr>\n",
       "      <th>3306</th>\n",
       "      <td>3306</td>\n",
       "      <td>RUNX1</td>\n",
       "      <td>W279*</td>\n",
       "      <td>1</td>\n",
       "      <td>report two new runx mutations one patient cong...</td>\n",
       "    </tr>\n",
       "    <tr>\n",
       "      <th>3307</th>\n",
       "      <td>3307</td>\n",
       "      <td>RUNX1</td>\n",
       "      <td>Truncating Mutations</td>\n",
       "      <td>1</td>\n",
       "      <td>runx genes come prominence recently roles esse...</td>\n",
       "    </tr>\n",
       "    <tr>\n",
       "      <th>3308</th>\n",
       "      <td>3308</td>\n",
       "      <td>RUNX1</td>\n",
       "      <td>R174*</td>\n",
       "      <td>7</td>\n",
       "      <td>familial platelet disorder propensity acute my...</td>\n",
       "    </tr>\n",
       "    <tr>\n",
       "      <th>3309</th>\n",
       "      <td>3309</td>\n",
       "      <td>RUNX1</td>\n",
       "      <td>D171G</td>\n",
       "      <td>1</td>\n",
       "      <td>bcr abl fusion protein generated q q chronic m...</td>\n",
       "    </tr>\n",
       "    <tr>\n",
       "      <th>3310</th>\n",
       "      <td>3310</td>\n",
       "      <td>RUNX1</td>\n",
       "      <td>Amplification</td>\n",
       "      <td>7</td>\n",
       "      <td>runx proteins belong family metazoan transcrip...</td>\n",
       "    </tr>\n",
       "    <tr>\n",
       "      <th>3311</th>\n",
       "      <td>3311</td>\n",
       "      <td>RUNX1</td>\n",
       "      <td>RUNX1-EVI1 Fusion</td>\n",
       "      <td>4</td>\n",
       "      <td>aml evi chimeric gene generated q q translocat...</td>\n",
       "    </tr>\n",
       "    <tr>\n",
       "      <th>3312</th>\n",
       "      <td>3312</td>\n",
       "      <td>RUNX1</td>\n",
       "      <td>TEL-RUNX1 Fusion</td>\n",
       "      <td>4</td>\n",
       "      <td>balanced chromosomal translocations frequently...</td>\n",
       "    </tr>\n",
       "    <tr>\n",
       "      <th>3313</th>\n",
       "      <td>3313</td>\n",
       "      <td>RUNX1</td>\n",
       "      <td>H78Q</td>\n",
       "      <td>4</td>\n",
       "      <td>bcr abl fusion protein generated q q chronic m...</td>\n",
       "    </tr>\n",
       "    <tr>\n",
       "      <th>3314</th>\n",
       "      <td>3314</td>\n",
       "      <td>RUNX1</td>\n",
       "      <td>G42R</td>\n",
       "      <td>6</td>\n",
       "      <td>introduction myelodysplastic syndromes mds het...</td>\n",
       "    </tr>\n",
       "    <tr>\n",
       "      <th>3315</th>\n",
       "      <td>3315</td>\n",
       "      <td>RUNX1</td>\n",
       "      <td>RUNX1-RUNX1T1 Fusion</td>\n",
       "      <td>4</td>\n",
       "      <td>runx gene family includes three evolutionarily...</td>\n",
       "    </tr>\n",
       "    <tr>\n",
       "      <th>3316</th>\n",
       "      <td>3316</td>\n",
       "      <td>RUNX1</td>\n",
       "      <td>D171N</td>\n",
       "      <td>4</td>\n",
       "      <td>introduction myelodysplastic syndromes mds het...</td>\n",
       "    </tr>\n",
       "    <tr>\n",
       "      <th>3317</th>\n",
       "      <td>3317</td>\n",
       "      <td>RUNX1</td>\n",
       "      <td>A122*</td>\n",
       "      <td>1</td>\n",
       "      <td>introduction myelodysplastic syndromes mds het...</td>\n",
       "    </tr>\n",
       "    <tr>\n",
       "      <th>3318</th>\n",
       "      <td>3318</td>\n",
       "      <td>RUNX1</td>\n",
       "      <td>Fusions</td>\n",
       "      <td>1</td>\n",
       "      <td>runt related transcription factor gene runx al...</td>\n",
       "    </tr>\n",
       "    <tr>\n",
       "      <th>3319</th>\n",
       "      <td>3319</td>\n",
       "      <td>RUNX1</td>\n",
       "      <td>R80C</td>\n",
       "      <td>4</td>\n",
       "      <td>runx aml gene frequent target chromosomal tran...</td>\n",
       "    </tr>\n",
       "    <tr>\n",
       "      <th>3320</th>\n",
       "      <td>3320</td>\n",
       "      <td>RUNX1</td>\n",
       "      <td>K83E</td>\n",
       "      <td>4</td>\n",
       "      <td>frequent mutations associated leukemia recurre...</td>\n",
       "    </tr>\n",
       "  </tbody>\n",
       "</table>\n",
       "<p>3316 rows × 5 columns</p>\n",
       "</div>"
      ],
      "text/plain": [
       "        ID    Gene             Variation  Class  \\\n",
       "0        0  FAM58A  Truncating Mutations      1   \n",
       "1        1     CBL                 W802*      2   \n",
       "2        2     CBL                 Q249E      2   \n",
       "3        3     CBL                 N454D      3   \n",
       "4        4     CBL                 L399V      4   \n",
       "5        5     CBL                 V391I      4   \n",
       "6        6     CBL                 V430M      5   \n",
       "7        7     CBL              Deletion      1   \n",
       "8        8     CBL                 Y371H      4   \n",
       "9        9     CBL                 C384R      4   \n",
       "10      10     CBL                 P395A      4   \n",
       "11      11     CBL                 K382E      4   \n",
       "12      12     CBL                 R420Q      4   \n",
       "13      13     CBL                 C381A      4   \n",
       "14      14     CBL                 P428L      5   \n",
       "15      15     CBL                 D390Y      4   \n",
       "16      16     CBL  Truncating Mutations      1   \n",
       "17      17     CBL                 Q367P      4   \n",
       "18      18     CBL                 M374V      5   \n",
       "19      19     CBL                 Y371S      4   \n",
       "20      20     CBL                  H94Y      6   \n",
       "21      21     CBL                 C396R      4   \n",
       "22      22     CBL                 G375P      4   \n",
       "23      23     CBL                 S376F      4   \n",
       "24      24     CBL                 P417A      4   \n",
       "25      25     CBL                 H398Y      4   \n",
       "26      26   SHOC2                   S2G      4   \n",
       "27      27    TERT                 Y846C      4   \n",
       "28      28    TERT                 C228T      7   \n",
       "29      29    TERT                 H412Y      4   \n",
       "...    ...     ...                   ...    ...   \n",
       "3291  3291     RET                 C620R      7   \n",
       "3292  3292     RET                 C634Y      7   \n",
       "3293  3293     RET                 V804G      1   \n",
       "3294  3294     RET                 R886W      7   \n",
       "3295  3295     RET                 F893L      4   \n",
       "3296  3296     RET                 Y791F      7   \n",
       "3297  3297   RUNX1                 R177*      4   \n",
       "3298  3298   RUNX1                 Y113*      4   \n",
       "3299  3299   RUNX1                 R139G      4   \n",
       "3300  3300   RUNX1                  K83N      4   \n",
       "3301  3301   RUNX1                 R177Q      4   \n",
       "3302  3302   RUNX1                 R166Q      4   \n",
       "3303  3303   RUNX1                 P173S      4   \n",
       "3304  3304   RUNX1                 R201Q      4   \n",
       "3305  3305   RUNX1              S70fsX93      4   \n",
       "3306  3306   RUNX1                 W279*      1   \n",
       "3307  3307   RUNX1  Truncating Mutations      1   \n",
       "3308  3308   RUNX1                 R174*      7   \n",
       "3309  3309   RUNX1                 D171G      1   \n",
       "3310  3310   RUNX1         Amplification      7   \n",
       "3311  3311   RUNX1     RUNX1-EVI1 Fusion      4   \n",
       "3312  3312   RUNX1      TEL-RUNX1 Fusion      4   \n",
       "3313  3313   RUNX1                  H78Q      4   \n",
       "3314  3314   RUNX1                  G42R      6   \n",
       "3315  3315   RUNX1  RUNX1-RUNX1T1 Fusion      4   \n",
       "3316  3316   RUNX1                 D171N      4   \n",
       "3317  3317   RUNX1                 A122*      1   \n",
       "3318  3318   RUNX1               Fusions      1   \n",
       "3319  3319   RUNX1                  R80C      4   \n",
       "3320  3320   RUNX1                  K83E      4   \n",
       "\n",
       "                                                   TEXT  \n",
       "0     cyclin dependent kinases cdks regulate variety...  \n",
       "1     abstract background non small cell lung cancer...  \n",
       "2     abstract background non small cell lung cancer...  \n",
       "3     recent evidence demonstrated acquired uniparen...  \n",
       "4     oncogenic mutations monomeric casitas b lineag...  \n",
       "5     oncogenic mutations monomeric casitas b lineag...  \n",
       "6     oncogenic mutations monomeric casitas b lineag...  \n",
       "7     cbl negative regulator activated receptor tyro...  \n",
       "8     abstract juvenile myelomonocytic leukemia jmml...  \n",
       "9     abstract juvenile myelomonocytic leukemia jmml...  \n",
       "10    oncogenic mutations monomeric casitas b lineag...  \n",
       "11    noonan syndrome autosomal dominant congenital ...  \n",
       "12    noonan syndrome autosomal dominant congenital ...  \n",
       "13    noonan syndrome autosomal dominant congenital ...  \n",
       "14    oncogenic mutations monomeric casitas b lineag...  \n",
       "15    noonan syndrome autosomal dominant congenital ...  \n",
       "16    determine residual cylindrical refractive erro...  \n",
       "17    acquired uniparental disomy aupd common featur...  \n",
       "18    oncogenic mutations monomeric casitas b lineag...  \n",
       "19    acquired uniparental disomy aupd common featur...  \n",
       "20    abstract background non small cell lung cancer...  \n",
       "21    oncogenic mutations monomeric casitas b lineag...  \n",
       "22    oncogenic mutations monomeric casitas b lineag...  \n",
       "23    recent evidence demonstrated acquired uniparen...  \n",
       "24    recent evidence demonstrated acquired uniparen...  \n",
       "25    recent evidence demonstrated acquired uniparen...  \n",
       "26    abstract n myristoylation common form co trans...  \n",
       "27    heterozygous mutations telomerase components t...  \n",
       "28    sequencing studies identified many recurrent c...  \n",
       "29    heterozygous mutations telomerase components t...  \n",
       "...                                                 ...  \n",
       "3291  investigatedthe transformingactivityofthe ret ...  \n",
       "3292  investigatedthe transformingactivityofthe ret ...  \n",
       "3293  ret transmembrane tyrosine kinase participatin...  \n",
       "3294  introduction inherited germ line activating mu...  \n",
       "3295  many missense mutations ret proto oncogene fou...  \n",
       "3296  ret proto oncogene encodes receptor tyrosine k...  \n",
       "3297  aml gene known frequent target chromosomal tra...  \n",
       "3298  introduction myelodysplastic syndromes mds het...  \n",
       "3299  bcr abl fusion protein generated q q chronic m...  \n",
       "3300  frequent mutations associated leukemia recurre...  \n",
       "3301  frequent mutations associated leukemia recurre...  \n",
       "3302  familial platelet disorder predisposition acut...  \n",
       "3303  introduction myelodysplastic syndromes mds het...  \n",
       "3304  familial platelet disorder predisposition acut...  \n",
       "3305  introduction myelodysplastic syndromes mds het...  \n",
       "3306  report two new runx mutations one patient cong...  \n",
       "3307  runx genes come prominence recently roles esse...  \n",
       "3308  familial platelet disorder propensity acute my...  \n",
       "3309  bcr abl fusion protein generated q q chronic m...  \n",
       "3310  runx proteins belong family metazoan transcrip...  \n",
       "3311  aml evi chimeric gene generated q q translocat...  \n",
       "3312  balanced chromosomal translocations frequently...  \n",
       "3313  bcr abl fusion protein generated q q chronic m...  \n",
       "3314  introduction myelodysplastic syndromes mds het...  \n",
       "3315  runx gene family includes three evolutionarily...  \n",
       "3316  introduction myelodysplastic syndromes mds het...  \n",
       "3317  introduction myelodysplastic syndromes mds het...  \n",
       "3318  runt related transcription factor gene runx al...  \n",
       "3319  runx aml gene frequent target chromosomal tran...  \n",
       "3320  frequent mutations associated leukemia recurre...  \n",
       "\n",
       "[3316 rows x 5 columns]"
      ]
     },
     "execution_count": 13,
     "metadata": {},
     "output_type": "execute_result"
    }
   ],
   "source": [
    "final_data.dropna()"
   ]
  },
  {
   "cell_type": "code",
   "execution_count": 14,
   "metadata": {},
   "outputs": [
    {
     "data": {
      "text/html": [
       "<div>\n",
       "<style scoped>\n",
       "    .dataframe tbody tr th:only-of-type {\n",
       "        vertical-align: middle;\n",
       "    }\n",
       "\n",
       "    .dataframe tbody tr th {\n",
       "        vertical-align: top;\n",
       "    }\n",
       "\n",
       "    .dataframe thead th {\n",
       "        text-align: right;\n",
       "    }\n",
       "</style>\n",
       "<table border=\"1\" class=\"dataframe\">\n",
       "  <thead>\n",
       "    <tr style=\"text-align: right;\">\n",
       "      <th></th>\n",
       "      <th>ID</th>\n",
       "      <th>Gene</th>\n",
       "      <th>Variation</th>\n",
       "      <th>Class</th>\n",
       "      <th>TEXT</th>\n",
       "    </tr>\n",
       "  </thead>\n",
       "  <tbody>\n",
       "    <tr>\n",
       "      <th>1109</th>\n",
       "      <td>1109</td>\n",
       "      <td>FANCA</td>\n",
       "      <td>S1088F</td>\n",
       "      <td>1</td>\n",
       "      <td>NaN</td>\n",
       "    </tr>\n",
       "    <tr>\n",
       "      <th>1277</th>\n",
       "      <td>1277</td>\n",
       "      <td>ARID5B</td>\n",
       "      <td>Truncating Mutations</td>\n",
       "      <td>1</td>\n",
       "      <td>NaN</td>\n",
       "    </tr>\n",
       "    <tr>\n",
       "      <th>1407</th>\n",
       "      <td>1407</td>\n",
       "      <td>FGFR3</td>\n",
       "      <td>K508M</td>\n",
       "      <td>6</td>\n",
       "      <td>NaN</td>\n",
       "    </tr>\n",
       "    <tr>\n",
       "      <th>1639</th>\n",
       "      <td>1639</td>\n",
       "      <td>FLT1</td>\n",
       "      <td>Amplification</td>\n",
       "      <td>6</td>\n",
       "      <td>NaN</td>\n",
       "    </tr>\n",
       "    <tr>\n",
       "      <th>2755</th>\n",
       "      <td>2755</td>\n",
       "      <td>BRAF</td>\n",
       "      <td>G596C</td>\n",
       "      <td>7</td>\n",
       "      <td>NaN</td>\n",
       "    </tr>\n",
       "  </tbody>\n",
       "</table>\n",
       "</div>"
      ],
      "text/plain": [
       "        ID    Gene             Variation  Class TEXT\n",
       "1109  1109   FANCA                S1088F      1  NaN\n",
       "1277  1277  ARID5B  Truncating Mutations      1  NaN\n",
       "1407  1407   FGFR3                 K508M      6  NaN\n",
       "1639  1639    FLT1         Amplification      6  NaN\n",
       "2755  2755    BRAF                 G596C      7  NaN"
      ]
     },
     "execution_count": 14,
     "metadata": {},
     "output_type": "execute_result"
    }
   ],
   "source": [
    "final_data[final_data.isnull().any(axis = 1)]"
   ]
  },
  {
   "cell_type": "code",
   "execution_count": 15,
   "metadata": {},
   "outputs": [
    {
     "data": {
      "text/html": [
       "<div>\n",
       "<style scoped>\n",
       "    .dataframe tbody tr th:only-of-type {\n",
       "        vertical-align: middle;\n",
       "    }\n",
       "\n",
       "    .dataframe tbody tr th {\n",
       "        vertical-align: top;\n",
       "    }\n",
       "\n",
       "    .dataframe thead th {\n",
       "        text-align: right;\n",
       "    }\n",
       "</style>\n",
       "<table border=\"1\" class=\"dataframe\">\n",
       "  <thead>\n",
       "    <tr style=\"text-align: right;\">\n",
       "      <th></th>\n",
       "      <th>ID</th>\n",
       "      <th>Gene</th>\n",
       "      <th>Variation</th>\n",
       "      <th>Class</th>\n",
       "      <th>TEXT</th>\n",
       "    </tr>\n",
       "  </thead>\n",
       "  <tbody>\n",
       "    <tr>\n",
       "      <th>0</th>\n",
       "      <td>0</td>\n",
       "      <td>FAM58A</td>\n",
       "      <td>Truncating Mutations</td>\n",
       "      <td>1</td>\n",
       "      <td>cyclin dependent kinases cdks regulate variety...</td>\n",
       "    </tr>\n",
       "    <tr>\n",
       "      <th>1</th>\n",
       "      <td>1</td>\n",
       "      <td>CBL</td>\n",
       "      <td>W802*</td>\n",
       "      <td>2</td>\n",
       "      <td>abstract background non small cell lung cancer...</td>\n",
       "    </tr>\n",
       "    <tr>\n",
       "      <th>2</th>\n",
       "      <td>2</td>\n",
       "      <td>CBL</td>\n",
       "      <td>Q249E</td>\n",
       "      <td>2</td>\n",
       "      <td>abstract background non small cell lung cancer...</td>\n",
       "    </tr>\n",
       "    <tr>\n",
       "      <th>3</th>\n",
       "      <td>3</td>\n",
       "      <td>CBL</td>\n",
       "      <td>N454D</td>\n",
       "      <td>3</td>\n",
       "      <td>recent evidence demonstrated acquired uniparen...</td>\n",
       "    </tr>\n",
       "    <tr>\n",
       "      <th>4</th>\n",
       "      <td>4</td>\n",
       "      <td>CBL</td>\n",
       "      <td>L399V</td>\n",
       "      <td>4</td>\n",
       "      <td>oncogenic mutations monomeric casitas b lineag...</td>\n",
       "    </tr>\n",
       "    <tr>\n",
       "      <th>5</th>\n",
       "      <td>5</td>\n",
       "      <td>CBL</td>\n",
       "      <td>V391I</td>\n",
       "      <td>4</td>\n",
       "      <td>oncogenic mutations monomeric casitas b lineag...</td>\n",
       "    </tr>\n",
       "    <tr>\n",
       "      <th>6</th>\n",
       "      <td>6</td>\n",
       "      <td>CBL</td>\n",
       "      <td>V430M</td>\n",
       "      <td>5</td>\n",
       "      <td>oncogenic mutations monomeric casitas b lineag...</td>\n",
       "    </tr>\n",
       "    <tr>\n",
       "      <th>7</th>\n",
       "      <td>7</td>\n",
       "      <td>CBL</td>\n",
       "      <td>Deletion</td>\n",
       "      <td>1</td>\n",
       "      <td>cbl negative regulator activated receptor tyro...</td>\n",
       "    </tr>\n",
       "    <tr>\n",
       "      <th>8</th>\n",
       "      <td>8</td>\n",
       "      <td>CBL</td>\n",
       "      <td>Y371H</td>\n",
       "      <td>4</td>\n",
       "      <td>abstract juvenile myelomonocytic leukemia jmml...</td>\n",
       "    </tr>\n",
       "    <tr>\n",
       "      <th>9</th>\n",
       "      <td>9</td>\n",
       "      <td>CBL</td>\n",
       "      <td>C384R</td>\n",
       "      <td>4</td>\n",
       "      <td>abstract juvenile myelomonocytic leukemia jmml...</td>\n",
       "    </tr>\n",
       "    <tr>\n",
       "      <th>10</th>\n",
       "      <td>10</td>\n",
       "      <td>CBL</td>\n",
       "      <td>P395A</td>\n",
       "      <td>4</td>\n",
       "      <td>oncogenic mutations monomeric casitas b lineag...</td>\n",
       "    </tr>\n",
       "    <tr>\n",
       "      <th>11</th>\n",
       "      <td>11</td>\n",
       "      <td>CBL</td>\n",
       "      <td>K382E</td>\n",
       "      <td>4</td>\n",
       "      <td>noonan syndrome autosomal dominant congenital ...</td>\n",
       "    </tr>\n",
       "    <tr>\n",
       "      <th>12</th>\n",
       "      <td>12</td>\n",
       "      <td>CBL</td>\n",
       "      <td>R420Q</td>\n",
       "      <td>4</td>\n",
       "      <td>noonan syndrome autosomal dominant congenital ...</td>\n",
       "    </tr>\n",
       "    <tr>\n",
       "      <th>13</th>\n",
       "      <td>13</td>\n",
       "      <td>CBL</td>\n",
       "      <td>C381A</td>\n",
       "      <td>4</td>\n",
       "      <td>noonan syndrome autosomal dominant congenital ...</td>\n",
       "    </tr>\n",
       "    <tr>\n",
       "      <th>14</th>\n",
       "      <td>14</td>\n",
       "      <td>CBL</td>\n",
       "      <td>P428L</td>\n",
       "      <td>5</td>\n",
       "      <td>oncogenic mutations monomeric casitas b lineag...</td>\n",
       "    </tr>\n",
       "    <tr>\n",
       "      <th>15</th>\n",
       "      <td>15</td>\n",
       "      <td>CBL</td>\n",
       "      <td>D390Y</td>\n",
       "      <td>4</td>\n",
       "      <td>noonan syndrome autosomal dominant congenital ...</td>\n",
       "    </tr>\n",
       "    <tr>\n",
       "      <th>16</th>\n",
       "      <td>16</td>\n",
       "      <td>CBL</td>\n",
       "      <td>Truncating Mutations</td>\n",
       "      <td>1</td>\n",
       "      <td>determine residual cylindrical refractive erro...</td>\n",
       "    </tr>\n",
       "    <tr>\n",
       "      <th>17</th>\n",
       "      <td>17</td>\n",
       "      <td>CBL</td>\n",
       "      <td>Q367P</td>\n",
       "      <td>4</td>\n",
       "      <td>acquired uniparental disomy aupd common featur...</td>\n",
       "    </tr>\n",
       "    <tr>\n",
       "      <th>18</th>\n",
       "      <td>18</td>\n",
       "      <td>CBL</td>\n",
       "      <td>M374V</td>\n",
       "      <td>5</td>\n",
       "      <td>oncogenic mutations monomeric casitas b lineag...</td>\n",
       "    </tr>\n",
       "    <tr>\n",
       "      <th>19</th>\n",
       "      <td>19</td>\n",
       "      <td>CBL</td>\n",
       "      <td>Y371S</td>\n",
       "      <td>4</td>\n",
       "      <td>acquired uniparental disomy aupd common featur...</td>\n",
       "    </tr>\n",
       "    <tr>\n",
       "      <th>20</th>\n",
       "      <td>20</td>\n",
       "      <td>CBL</td>\n",
       "      <td>H94Y</td>\n",
       "      <td>6</td>\n",
       "      <td>abstract background non small cell lung cancer...</td>\n",
       "    </tr>\n",
       "    <tr>\n",
       "      <th>21</th>\n",
       "      <td>21</td>\n",
       "      <td>CBL</td>\n",
       "      <td>C396R</td>\n",
       "      <td>4</td>\n",
       "      <td>oncogenic mutations monomeric casitas b lineag...</td>\n",
       "    </tr>\n",
       "    <tr>\n",
       "      <th>22</th>\n",
       "      <td>22</td>\n",
       "      <td>CBL</td>\n",
       "      <td>G375P</td>\n",
       "      <td>4</td>\n",
       "      <td>oncogenic mutations monomeric casitas b lineag...</td>\n",
       "    </tr>\n",
       "    <tr>\n",
       "      <th>23</th>\n",
       "      <td>23</td>\n",
       "      <td>CBL</td>\n",
       "      <td>S376F</td>\n",
       "      <td>4</td>\n",
       "      <td>recent evidence demonstrated acquired uniparen...</td>\n",
       "    </tr>\n",
       "    <tr>\n",
       "      <th>24</th>\n",
       "      <td>24</td>\n",
       "      <td>CBL</td>\n",
       "      <td>P417A</td>\n",
       "      <td>4</td>\n",
       "      <td>recent evidence demonstrated acquired uniparen...</td>\n",
       "    </tr>\n",
       "    <tr>\n",
       "      <th>25</th>\n",
       "      <td>25</td>\n",
       "      <td>CBL</td>\n",
       "      <td>H398Y</td>\n",
       "      <td>4</td>\n",
       "      <td>recent evidence demonstrated acquired uniparen...</td>\n",
       "    </tr>\n",
       "    <tr>\n",
       "      <th>26</th>\n",
       "      <td>26</td>\n",
       "      <td>SHOC2</td>\n",
       "      <td>S2G</td>\n",
       "      <td>4</td>\n",
       "      <td>abstract n myristoylation common form co trans...</td>\n",
       "    </tr>\n",
       "    <tr>\n",
       "      <th>27</th>\n",
       "      <td>27</td>\n",
       "      <td>TERT</td>\n",
       "      <td>Y846C</td>\n",
       "      <td>4</td>\n",
       "      <td>heterozygous mutations telomerase components t...</td>\n",
       "    </tr>\n",
       "    <tr>\n",
       "      <th>28</th>\n",
       "      <td>28</td>\n",
       "      <td>TERT</td>\n",
       "      <td>C228T</td>\n",
       "      <td>7</td>\n",
       "      <td>sequencing studies identified many recurrent c...</td>\n",
       "    </tr>\n",
       "    <tr>\n",
       "      <th>29</th>\n",
       "      <td>29</td>\n",
       "      <td>TERT</td>\n",
       "      <td>H412Y</td>\n",
       "      <td>4</td>\n",
       "      <td>heterozygous mutations telomerase components t...</td>\n",
       "    </tr>\n",
       "    <tr>\n",
       "      <th>...</th>\n",
       "      <td>...</td>\n",
       "      <td>...</td>\n",
       "      <td>...</td>\n",
       "      <td>...</td>\n",
       "      <td>...</td>\n",
       "    </tr>\n",
       "    <tr>\n",
       "      <th>3291</th>\n",
       "      <td>3291</td>\n",
       "      <td>RET</td>\n",
       "      <td>C620R</td>\n",
       "      <td>7</td>\n",
       "      <td>investigatedthe transformingactivityofthe ret ...</td>\n",
       "    </tr>\n",
       "    <tr>\n",
       "      <th>3292</th>\n",
       "      <td>3292</td>\n",
       "      <td>RET</td>\n",
       "      <td>C634Y</td>\n",
       "      <td>7</td>\n",
       "      <td>investigatedthe transformingactivityofthe ret ...</td>\n",
       "    </tr>\n",
       "    <tr>\n",
       "      <th>3293</th>\n",
       "      <td>3293</td>\n",
       "      <td>RET</td>\n",
       "      <td>V804G</td>\n",
       "      <td>1</td>\n",
       "      <td>ret transmembrane tyrosine kinase participatin...</td>\n",
       "    </tr>\n",
       "    <tr>\n",
       "      <th>3294</th>\n",
       "      <td>3294</td>\n",
       "      <td>RET</td>\n",
       "      <td>R886W</td>\n",
       "      <td>7</td>\n",
       "      <td>introduction inherited germ line activating mu...</td>\n",
       "    </tr>\n",
       "    <tr>\n",
       "      <th>3295</th>\n",
       "      <td>3295</td>\n",
       "      <td>RET</td>\n",
       "      <td>F893L</td>\n",
       "      <td>4</td>\n",
       "      <td>many missense mutations ret proto oncogene fou...</td>\n",
       "    </tr>\n",
       "    <tr>\n",
       "      <th>3296</th>\n",
       "      <td>3296</td>\n",
       "      <td>RET</td>\n",
       "      <td>Y791F</td>\n",
       "      <td>7</td>\n",
       "      <td>ret proto oncogene encodes receptor tyrosine k...</td>\n",
       "    </tr>\n",
       "    <tr>\n",
       "      <th>3297</th>\n",
       "      <td>3297</td>\n",
       "      <td>RUNX1</td>\n",
       "      <td>R177*</td>\n",
       "      <td>4</td>\n",
       "      <td>aml gene known frequent target chromosomal tra...</td>\n",
       "    </tr>\n",
       "    <tr>\n",
       "      <th>3298</th>\n",
       "      <td>3298</td>\n",
       "      <td>RUNX1</td>\n",
       "      <td>Y113*</td>\n",
       "      <td>4</td>\n",
       "      <td>introduction myelodysplastic syndromes mds het...</td>\n",
       "    </tr>\n",
       "    <tr>\n",
       "      <th>3299</th>\n",
       "      <td>3299</td>\n",
       "      <td>RUNX1</td>\n",
       "      <td>R139G</td>\n",
       "      <td>4</td>\n",
       "      <td>bcr abl fusion protein generated q q chronic m...</td>\n",
       "    </tr>\n",
       "    <tr>\n",
       "      <th>3300</th>\n",
       "      <td>3300</td>\n",
       "      <td>RUNX1</td>\n",
       "      <td>K83N</td>\n",
       "      <td>4</td>\n",
       "      <td>frequent mutations associated leukemia recurre...</td>\n",
       "    </tr>\n",
       "    <tr>\n",
       "      <th>3301</th>\n",
       "      <td>3301</td>\n",
       "      <td>RUNX1</td>\n",
       "      <td>R177Q</td>\n",
       "      <td>4</td>\n",
       "      <td>frequent mutations associated leukemia recurre...</td>\n",
       "    </tr>\n",
       "    <tr>\n",
       "      <th>3302</th>\n",
       "      <td>3302</td>\n",
       "      <td>RUNX1</td>\n",
       "      <td>R166Q</td>\n",
       "      <td>4</td>\n",
       "      <td>familial platelet disorder predisposition acut...</td>\n",
       "    </tr>\n",
       "    <tr>\n",
       "      <th>3303</th>\n",
       "      <td>3303</td>\n",
       "      <td>RUNX1</td>\n",
       "      <td>P173S</td>\n",
       "      <td>4</td>\n",
       "      <td>introduction myelodysplastic syndromes mds het...</td>\n",
       "    </tr>\n",
       "    <tr>\n",
       "      <th>3304</th>\n",
       "      <td>3304</td>\n",
       "      <td>RUNX1</td>\n",
       "      <td>R201Q</td>\n",
       "      <td>4</td>\n",
       "      <td>familial platelet disorder predisposition acut...</td>\n",
       "    </tr>\n",
       "    <tr>\n",
       "      <th>3305</th>\n",
       "      <td>3305</td>\n",
       "      <td>RUNX1</td>\n",
       "      <td>S70fsX93</td>\n",
       "      <td>4</td>\n",
       "      <td>introduction myelodysplastic syndromes mds het...</td>\n",
       "    </tr>\n",
       "    <tr>\n",
       "      <th>3306</th>\n",
       "      <td>3306</td>\n",
       "      <td>RUNX1</td>\n",
       "      <td>W279*</td>\n",
       "      <td>1</td>\n",
       "      <td>report two new runx mutations one patient cong...</td>\n",
       "    </tr>\n",
       "    <tr>\n",
       "      <th>3307</th>\n",
       "      <td>3307</td>\n",
       "      <td>RUNX1</td>\n",
       "      <td>Truncating Mutations</td>\n",
       "      <td>1</td>\n",
       "      <td>runx genes come prominence recently roles esse...</td>\n",
       "    </tr>\n",
       "    <tr>\n",
       "      <th>3308</th>\n",
       "      <td>3308</td>\n",
       "      <td>RUNX1</td>\n",
       "      <td>R174*</td>\n",
       "      <td>7</td>\n",
       "      <td>familial platelet disorder propensity acute my...</td>\n",
       "    </tr>\n",
       "    <tr>\n",
       "      <th>3309</th>\n",
       "      <td>3309</td>\n",
       "      <td>RUNX1</td>\n",
       "      <td>D171G</td>\n",
       "      <td>1</td>\n",
       "      <td>bcr abl fusion protein generated q q chronic m...</td>\n",
       "    </tr>\n",
       "    <tr>\n",
       "      <th>3310</th>\n",
       "      <td>3310</td>\n",
       "      <td>RUNX1</td>\n",
       "      <td>Amplification</td>\n",
       "      <td>7</td>\n",
       "      <td>runx proteins belong family metazoan transcrip...</td>\n",
       "    </tr>\n",
       "    <tr>\n",
       "      <th>3311</th>\n",
       "      <td>3311</td>\n",
       "      <td>RUNX1</td>\n",
       "      <td>RUNX1-EVI1 Fusion</td>\n",
       "      <td>4</td>\n",
       "      <td>aml evi chimeric gene generated q q translocat...</td>\n",
       "    </tr>\n",
       "    <tr>\n",
       "      <th>3312</th>\n",
       "      <td>3312</td>\n",
       "      <td>RUNX1</td>\n",
       "      <td>TEL-RUNX1 Fusion</td>\n",
       "      <td>4</td>\n",
       "      <td>balanced chromosomal translocations frequently...</td>\n",
       "    </tr>\n",
       "    <tr>\n",
       "      <th>3313</th>\n",
       "      <td>3313</td>\n",
       "      <td>RUNX1</td>\n",
       "      <td>H78Q</td>\n",
       "      <td>4</td>\n",
       "      <td>bcr abl fusion protein generated q q chronic m...</td>\n",
       "    </tr>\n",
       "    <tr>\n",
       "      <th>3314</th>\n",
       "      <td>3314</td>\n",
       "      <td>RUNX1</td>\n",
       "      <td>G42R</td>\n",
       "      <td>6</td>\n",
       "      <td>introduction myelodysplastic syndromes mds het...</td>\n",
       "    </tr>\n",
       "    <tr>\n",
       "      <th>3315</th>\n",
       "      <td>3315</td>\n",
       "      <td>RUNX1</td>\n",
       "      <td>RUNX1-RUNX1T1 Fusion</td>\n",
       "      <td>4</td>\n",
       "      <td>runx gene family includes three evolutionarily...</td>\n",
       "    </tr>\n",
       "    <tr>\n",
       "      <th>3316</th>\n",
       "      <td>3316</td>\n",
       "      <td>RUNX1</td>\n",
       "      <td>D171N</td>\n",
       "      <td>4</td>\n",
       "      <td>introduction myelodysplastic syndromes mds het...</td>\n",
       "    </tr>\n",
       "    <tr>\n",
       "      <th>3317</th>\n",
       "      <td>3317</td>\n",
       "      <td>RUNX1</td>\n",
       "      <td>A122*</td>\n",
       "      <td>1</td>\n",
       "      <td>introduction myelodysplastic syndromes mds het...</td>\n",
       "    </tr>\n",
       "    <tr>\n",
       "      <th>3318</th>\n",
       "      <td>3318</td>\n",
       "      <td>RUNX1</td>\n",
       "      <td>Fusions</td>\n",
       "      <td>1</td>\n",
       "      <td>runt related transcription factor gene runx al...</td>\n",
       "    </tr>\n",
       "    <tr>\n",
       "      <th>3319</th>\n",
       "      <td>3319</td>\n",
       "      <td>RUNX1</td>\n",
       "      <td>R80C</td>\n",
       "      <td>4</td>\n",
       "      <td>runx aml gene frequent target chromosomal tran...</td>\n",
       "    </tr>\n",
       "    <tr>\n",
       "      <th>3320</th>\n",
       "      <td>3320</td>\n",
       "      <td>RUNX1</td>\n",
       "      <td>K83E</td>\n",
       "      <td>4</td>\n",
       "      <td>frequent mutations associated leukemia recurre...</td>\n",
       "    </tr>\n",
       "  </tbody>\n",
       "</table>\n",
       "<p>3321 rows × 5 columns</p>\n",
       "</div>"
      ],
      "text/plain": [
       "        ID    Gene             Variation  Class  \\\n",
       "0        0  FAM58A  Truncating Mutations      1   \n",
       "1        1     CBL                 W802*      2   \n",
       "2        2     CBL                 Q249E      2   \n",
       "3        3     CBL                 N454D      3   \n",
       "4        4     CBL                 L399V      4   \n",
       "5        5     CBL                 V391I      4   \n",
       "6        6     CBL                 V430M      5   \n",
       "7        7     CBL              Deletion      1   \n",
       "8        8     CBL                 Y371H      4   \n",
       "9        9     CBL                 C384R      4   \n",
       "10      10     CBL                 P395A      4   \n",
       "11      11     CBL                 K382E      4   \n",
       "12      12     CBL                 R420Q      4   \n",
       "13      13     CBL                 C381A      4   \n",
       "14      14     CBL                 P428L      5   \n",
       "15      15     CBL                 D390Y      4   \n",
       "16      16     CBL  Truncating Mutations      1   \n",
       "17      17     CBL                 Q367P      4   \n",
       "18      18     CBL                 M374V      5   \n",
       "19      19     CBL                 Y371S      4   \n",
       "20      20     CBL                  H94Y      6   \n",
       "21      21     CBL                 C396R      4   \n",
       "22      22     CBL                 G375P      4   \n",
       "23      23     CBL                 S376F      4   \n",
       "24      24     CBL                 P417A      4   \n",
       "25      25     CBL                 H398Y      4   \n",
       "26      26   SHOC2                   S2G      4   \n",
       "27      27    TERT                 Y846C      4   \n",
       "28      28    TERT                 C228T      7   \n",
       "29      29    TERT                 H412Y      4   \n",
       "...    ...     ...                   ...    ...   \n",
       "3291  3291     RET                 C620R      7   \n",
       "3292  3292     RET                 C634Y      7   \n",
       "3293  3293     RET                 V804G      1   \n",
       "3294  3294     RET                 R886W      7   \n",
       "3295  3295     RET                 F893L      4   \n",
       "3296  3296     RET                 Y791F      7   \n",
       "3297  3297   RUNX1                 R177*      4   \n",
       "3298  3298   RUNX1                 Y113*      4   \n",
       "3299  3299   RUNX1                 R139G      4   \n",
       "3300  3300   RUNX1                  K83N      4   \n",
       "3301  3301   RUNX1                 R177Q      4   \n",
       "3302  3302   RUNX1                 R166Q      4   \n",
       "3303  3303   RUNX1                 P173S      4   \n",
       "3304  3304   RUNX1                 R201Q      4   \n",
       "3305  3305   RUNX1              S70fsX93      4   \n",
       "3306  3306   RUNX1                 W279*      1   \n",
       "3307  3307   RUNX1  Truncating Mutations      1   \n",
       "3308  3308   RUNX1                 R174*      7   \n",
       "3309  3309   RUNX1                 D171G      1   \n",
       "3310  3310   RUNX1         Amplification      7   \n",
       "3311  3311   RUNX1     RUNX1-EVI1 Fusion      4   \n",
       "3312  3312   RUNX1      TEL-RUNX1 Fusion      4   \n",
       "3313  3313   RUNX1                  H78Q      4   \n",
       "3314  3314   RUNX1                  G42R      6   \n",
       "3315  3315   RUNX1  RUNX1-RUNX1T1 Fusion      4   \n",
       "3316  3316   RUNX1                 D171N      4   \n",
       "3317  3317   RUNX1                 A122*      1   \n",
       "3318  3318   RUNX1               Fusions      1   \n",
       "3319  3319   RUNX1                  R80C      4   \n",
       "3320  3320   RUNX1                  K83E      4   \n",
       "\n",
       "                                                   TEXT  \n",
       "0     cyclin dependent kinases cdks regulate variety...  \n",
       "1     abstract background non small cell lung cancer...  \n",
       "2     abstract background non small cell lung cancer...  \n",
       "3     recent evidence demonstrated acquired uniparen...  \n",
       "4     oncogenic mutations monomeric casitas b lineag...  \n",
       "5     oncogenic mutations monomeric casitas b lineag...  \n",
       "6     oncogenic mutations monomeric casitas b lineag...  \n",
       "7     cbl negative regulator activated receptor tyro...  \n",
       "8     abstract juvenile myelomonocytic leukemia jmml...  \n",
       "9     abstract juvenile myelomonocytic leukemia jmml...  \n",
       "10    oncogenic mutations monomeric casitas b lineag...  \n",
       "11    noonan syndrome autosomal dominant congenital ...  \n",
       "12    noonan syndrome autosomal dominant congenital ...  \n",
       "13    noonan syndrome autosomal dominant congenital ...  \n",
       "14    oncogenic mutations monomeric casitas b lineag...  \n",
       "15    noonan syndrome autosomal dominant congenital ...  \n",
       "16    determine residual cylindrical refractive erro...  \n",
       "17    acquired uniparental disomy aupd common featur...  \n",
       "18    oncogenic mutations monomeric casitas b lineag...  \n",
       "19    acquired uniparental disomy aupd common featur...  \n",
       "20    abstract background non small cell lung cancer...  \n",
       "21    oncogenic mutations monomeric casitas b lineag...  \n",
       "22    oncogenic mutations monomeric casitas b lineag...  \n",
       "23    recent evidence demonstrated acquired uniparen...  \n",
       "24    recent evidence demonstrated acquired uniparen...  \n",
       "25    recent evidence demonstrated acquired uniparen...  \n",
       "26    abstract n myristoylation common form co trans...  \n",
       "27    heterozygous mutations telomerase components t...  \n",
       "28    sequencing studies identified many recurrent c...  \n",
       "29    heterozygous mutations telomerase components t...  \n",
       "...                                                 ...  \n",
       "3291  investigatedthe transformingactivityofthe ret ...  \n",
       "3292  investigatedthe transformingactivityofthe ret ...  \n",
       "3293  ret transmembrane tyrosine kinase participatin...  \n",
       "3294  introduction inherited germ line activating mu...  \n",
       "3295  many missense mutations ret proto oncogene fou...  \n",
       "3296  ret proto oncogene encodes receptor tyrosine k...  \n",
       "3297  aml gene known frequent target chromosomal tra...  \n",
       "3298  introduction myelodysplastic syndromes mds het...  \n",
       "3299  bcr abl fusion protein generated q q chronic m...  \n",
       "3300  frequent mutations associated leukemia recurre...  \n",
       "3301  frequent mutations associated leukemia recurre...  \n",
       "3302  familial platelet disorder predisposition acut...  \n",
       "3303  introduction myelodysplastic syndromes mds het...  \n",
       "3304  familial platelet disorder predisposition acut...  \n",
       "3305  introduction myelodysplastic syndromes mds het...  \n",
       "3306  report two new runx mutations one patient cong...  \n",
       "3307  runx genes come prominence recently roles esse...  \n",
       "3308  familial platelet disorder propensity acute my...  \n",
       "3309  bcr abl fusion protein generated q q chronic m...  \n",
       "3310  runx proteins belong family metazoan transcrip...  \n",
       "3311  aml evi chimeric gene generated q q translocat...  \n",
       "3312  balanced chromosomal translocations frequently...  \n",
       "3313  bcr abl fusion protein generated q q chronic m...  \n",
       "3314  introduction myelodysplastic syndromes mds het...  \n",
       "3315  runx gene family includes three evolutionarily...  \n",
       "3316  introduction myelodysplastic syndromes mds het...  \n",
       "3317  introduction myelodysplastic syndromes mds het...  \n",
       "3318  runt related transcription factor gene runx al...  \n",
       "3319  runx aml gene frequent target chromosomal tran...  \n",
       "3320  frequent mutations associated leukemia recurre...  \n",
       "\n",
       "[3321 rows x 5 columns]"
      ]
     },
     "execution_count": 15,
     "metadata": {},
     "output_type": "execute_result"
    }
   ],
   "source": [
    "final_data.dropna(axis = 0, how = 'all')"
   ]
  },
  {
   "cell_type": "raw",
   "metadata": {},
   "source": [
    "We replaced the missing text values by combination of 'Gene' and 'Variation'"
   ]
  },
  {
   "cell_type": "code",
   "execution_count": 16,
   "metadata": {},
   "outputs": [],
   "source": [
    "final_data.loc[final_data['TEXT'].isnull(),'TEXT'] = final_data['Gene'] + ' ' + final_data['Variation']"
   ]
  },
  {
   "cell_type": "code",
   "execution_count": 17,
   "metadata": {},
   "outputs": [],
   "source": [
    "final_data.Gene = final_data.Gene.str.replace('\\s+','_')\n",
    "final_data.Variation = final_data.Variation.str.replace('\\s+','_')"
   ]
  },
  {
   "cell_type": "code",
   "execution_count": 18,
   "metadata": {},
   "outputs": [],
   "source": [
    "y_true = final_data['Class'].values"
   ]
  },
  {
   "cell_type": "code",
   "execution_count": 19,
   "metadata": {},
   "outputs": [
    {
     "data": {
      "text/plain": [
       "array([1, 2, 2, ..., 1, 4, 4])"
      ]
     },
     "execution_count": 19,
     "metadata": {},
     "output_type": "execute_result"
    }
   ],
   "source": [
    "y_true"
   ]
  },
  {
   "cell_type": "raw",
   "metadata": {},
   "source": [
    "Creating train and test data sets."
   ]
  },
  {
   "cell_type": "code",
   "execution_count": 20,
   "metadata": {},
   "outputs": [],
   "source": [
    "# Splitting the data into train and test set\n",
    "X_train, X_test, y_train, y_test = train_test_split(final_data, y_true, test_size = 0.2)\n",
    "# split the train data now into train validation and cross validation\n",
    "X_train, X_cv, y_train ,y_cv = train_test_split(X_train, y_train, test_size = 0.2)"
   ]
  },
  {
   "cell_type": "code",
   "execution_count": 21,
   "metadata": {},
   "outputs": [
    {
     "name": "stdout",
     "output_type": "stream",
     "text": [
      "Number of data points in training set : 2124\n",
      "Number of data points in test set :  665\n",
      "Number of data points in cross_validation :  532\n"
     ]
    }
   ],
   "source": [
    "print(\"Number of data points in training set :\",X_train.shape[0])\n",
    "print(\"Number of data points in test set : \",X_test.shape[0])\n",
    "print(\"Number of data points in cross_validation : \",X_cv.shape[0])"
   ]
  },
  {
   "cell_type": "code",
   "execution_count": 22,
   "metadata": {},
   "outputs": [
    {
     "name": "stderr",
     "output_type": "stream",
     "text": [
      "/home/krupal/anaconda3/lib/python3.6/site-packages/ipykernel_launcher.py:2: FutureWarning: sortlevel is deprecated, use sort_index(level=...)\n",
      "  \n",
      "/home/krupal/anaconda3/lib/python3.6/site-packages/ipykernel_launcher.py:3: FutureWarning: sortlevel is deprecated, use sort_index(level=...)\n",
      "  This is separate from the ipykernel package so we can avoid doing imports until\n"
     ]
    }
   ],
   "source": [
    "train_class_distribution = X_train['Class'].value_counts().sort_index()\n",
    "test_class_distribution = X_test['Class'].value_counts().sortlevel()\n",
    "cv_class_distribution = X_cv['Class'].value_counts().sortlevel()"
   ]
  },
  {
   "cell_type": "code",
   "execution_count": 23,
   "metadata": {},
   "outputs": [
    {
     "data": {
      "image/png": "[encoded data removed]",
      "text/plain": [
       "<Figure size 432x288 with 1 Axes>"
      ]
     },
     "metadata": {
      "needs_background": "light"
     },
     "output_type": "display_data"
    }
   ],
   "source": [
    "#Visualising the distribution\n",
    "train_class_distribution.plot(kind = 'bar')\n",
    "plt.xlabel('Class')\n",
    "plt.ylabel('Counts')\n",
    "plt.title('Distribution of counts of classes')\n",
    "plt.show()"
   ]
  },
  {
   "cell_type": "raw",
   "metadata": {},
   "source": []
  },
  {
   "cell_type": "code",
   "execution_count": 24,
   "metadata": {},
   "outputs": [
    {
     "data": {
      "image/png": "[encoded data removed]",
      "text/plain": [
       "<Figure size 432x288 with 1 Axes>"
      ]
     },
     "metadata": {
      "needs_background": "light"
     },
     "output_type": "display_data"
    }
   ],
   "source": [
    "test_class_distribution.plot(kind = 'bar')\n",
    "plt.xlabel('Class')\n",
    "plt.ylabel('Counts')\n",
    "plt.title('Distribution of counts of classes')\n",
    "plt.show()"
   ]
  },
  {
   "cell_type": "code",
   "execution_count": 25,
   "metadata": {},
   "outputs": [
    {
     "data": {
      "image/png": "[encoded data removed]",
      "text/plain": [
       "<Figure size 432x288 with 1 Axes>"
      ]
     },
     "metadata": {
      "needs_background": "light"
     },
     "output_type": "display_data"
    }
   ],
   "source": [
    "cv_class_distribution.plot(kind = 'bar')\n",
    "plt.xlabel('Class')\n",
    "plt.ylabel('Counts')\n",
    "plt.title('Distribution of counts of classes')\n",
    "plt.show()"
   ]
  },
  {
   "cell_type": "code",
   "execution_count": 26,
   "metadata": {},
   "outputs": [],
   "source": [
    "#Building a Random Model\n",
    "test_data_len = X_test.shape[0]\n",
    "cv_data_len = X_cv.shape[0]"
   ]
  },
  {
   "cell_type": "code",
   "execution_count": 27,
   "metadata": {},
   "outputs": [],
   "source": [
    "# we create a output array that has exactly same size as the CV data\n",
    "cv_predicted_y = np.zeros((cv_data_len,9))\n",
    "test_predicted_y = np.zeros((test_data_len,9))\n"
   ]
  },
  {
   "cell_type": "code",
   "execution_count": 28,
   "metadata": {},
   "outputs": [],
   "source": [
    "random_probs = np.random.rand(1,9)"
   ]
  },
  {
   "cell_type": "code",
   "execution_count": 29,
   "metadata": {},
   "outputs": [
    {
     "data": {
      "text/plain": [
       "array([[ 0.89870983,  0.01421492,  0.19261727,  0.05835398,  0.98746824,\n",
       "         0.6492833 ,  0.16735407,  0.14196947,  0.27661542]])"
      ]
     },
     "execution_count": 29,
     "metadata": {},
     "output_type": "execute_result"
    }
   ],
   "source": [
    "random_probs"
   ]
  },
  {
   "cell_type": "code",
   "execution_count": 30,
   "metadata": {},
   "outputs": [
    {
     "data": {
      "text/plain": [
       "array([ 0.89870983,  0.01421492,  0.19261727,  0.05835398,  0.98746824,\n",
       "        0.6492833 ,  0.16735407,  0.14196947,  0.27661542])"
      ]
     },
     "execution_count": 30,
     "metadata": {},
     "output_type": "execute_result"
    }
   ],
   "source": [
    "sum(random_probs)"
   ]
  },
  {
   "cell_type": "code",
   "execution_count": 31,
   "metadata": {},
   "outputs": [
    {
     "data": {
      "text/plain": [
       "3.3865865102789536"
      ]
     },
     "execution_count": 31,
     "metadata": {},
     "output_type": "execute_result"
    }
   ],
   "source": [
    "sum(sum(random_probs))"
   ]
  },
  {
   "cell_type": "code",
   "execution_count": 32,
   "metadata": {},
   "outputs": [
    {
     "name": "stdout",
     "output_type": "stream",
     "text": [
      "Log-loss from cross validation set:  2.49474963192\n"
     ]
    }
   ],
   "source": [
    "for i in range(cv_data_len):\n",
    "    random_probs = np.random.rand(1,9)\n",
    "    cv_predicted_y[i] = ((random_probs/sum(sum(random_probs)))[0])\n",
    "print(\"Log-loss from cross validation set: \",log_loss(y_cv,cv_predicted_y,eps = 1e-15))"
   ]
  },
  {
   "cell_type": "code",
   "execution_count": 33,
   "metadata": {},
   "outputs": [
    {
     "name": "stdout",
     "output_type": "stream",
     "text": [
      "Log-loss from cross validation set:  2.47011766819\n"
     ]
    }
   ],
   "source": [
    "# Test-Set error.\n",
    "#we create a output array that has exactly same as the test data\n",
    "for i in range(test_data_len):\n",
    "    random_probs = np.random.rand(1,9)\n",
    "    test_predicted_y[i] = ((random_probs/sum(sum(random_probs)))[0])\n",
    "print(\"Log-loss from cross validation set: \",log_loss(y_test,test_predicted_y,eps = 1e-15))"
   ]
  },
  {
   "cell_type": "code",
   "execution_count": 34,
   "metadata": {},
   "outputs": [
    {
     "data": {
      "text/plain": [
       "array([[ 0.03960102,  0.1226225 ,  0.18044918, ...,  0.26010627,\n",
       "         0.07027543,  0.09034866],\n",
       "       [ 0.10178528,  0.15580095,  0.00792814, ...,  0.16673388,\n",
       "         0.06383787,  0.05567385],\n",
       "       [ 0.12341891,  0.10482461,  0.12494254, ...,  0.10522179,\n",
       "         0.01917834,  0.14117026],\n",
       "       ..., \n",
       "       [ 0.18102008,  0.19689352,  0.099696  , ...,  0.02612661,\n",
       "         0.02539751,  0.10319459],\n",
       "       [ 0.06502567,  0.12306702,  0.17571299, ...,  0.19831237,\n",
       "         0.00459374,  0.06035734],\n",
       "       [ 0.04533028,  0.04674396,  0.11323251, ...,  0.23302733,\n",
       "         0.02365938,  0.08701737]])"
      ]
     },
     "execution_count": 34,
     "metadata": {},
     "output_type": "execute_result"
    }
   ],
   "source": [
    "test_predicted_y"
   ]
  },
  {
   "cell_type": "code",
   "execution_count": 35,
   "metadata": {},
   "outputs": [],
   "source": [
    "predicted = np.argmax(test_predicted_y,axis = 1)"
   ]
  },
  {
   "cell_type": "code",
   "execution_count": 36,
   "metadata": {},
   "outputs": [
    {
     "data": {
      "text/plain": [
       "array([6, 5, 8, 7, 0, 0, 1, 7, 0, 4, 3, 4, 8, 6, 2, 5, 0, 4, 3, 0, 7, 7, 3,\n",
       "       5, 4, 7, 3, 4, 0, 5, 8, 7, 4, 3, 5, 7, 1, 7, 0, 8, 7, 0, 5, 4, 7, 4,\n",
       "       2, 1, 8, 0, 1, 8, 2, 7, 4, 5, 2, 4, 8, 0, 5, 8, 8, 1, 7, 6, 7, 6, 3,\n",
       "       7, 3, 4, 2, 2, 6, 5, 8, 8, 8, 6, 8, 6, 4, 5, 0, 0, 7, 7, 6, 4, 7, 5,\n",
       "       2, 3, 6, 4, 0, 0, 3, 0, 4, 8, 2, 1, 2, 3, 8, 1, 4, 0, 3, 7, 8, 6, 8,\n",
       "       3, 5, 0, 7, 0, 0, 2, 7, 7, 4, 3, 8, 0, 4, 2, 3, 6, 3, 7, 7, 7, 6, 4,\n",
       "       3, 7, 6, 5, 0, 0, 7, 6, 4, 0, 0, 4, 3, 7, 8, 1, 6, 6, 4, 6, 7, 5, 2,\n",
       "       7, 2, 2, 1, 7, 2, 5, 3, 6, 3, 2, 7, 1, 4, 1, 0, 6, 4, 5, 8, 6, 7, 4,\n",
       "       6, 2, 2, 7, 8, 5, 4, 8, 1, 4, 8, 7, 1, 4, 5, 0, 0, 7, 5, 8, 3, 1, 7,\n",
       "       5, 0, 6, 8, 7, 2, 2, 3, 0, 8, 4, 3, 6, 7, 4, 7, 2, 4, 1, 0, 2, 4, 0,\n",
       "       1, 5, 3, 6, 3, 0, 0, 8, 8, 8, 5, 3, 8, 0, 1, 2, 8, 0, 7, 2, 8, 0, 3,\n",
       "       4, 8, 5, 1, 2, 2, 5, 2, 6, 1, 0, 1, 6, 4, 7, 8, 4, 6, 2, 8, 3, 5, 6,\n",
       "       0, 8, 4, 7, 6, 7, 4, 5, 8, 6, 6, 3, 8, 7, 3, 5, 7, 5, 2, 8, 4, 1, 7,\n",
       "       6, 0, 0, 8, 7, 5, 8, 0, 8, 3, 3, 1, 5, 4, 3, 8, 3, 3, 2, 7, 7, 2, 5,\n",
       "       6, 7, 7, 1, 8, 3, 4, 6, 0, 5, 5, 8, 0, 6, 0, 3, 3, 1, 0, 4, 8, 1, 5,\n",
       "       6, 0, 5, 8, 4, 7, 3, 0, 0, 4, 1, 1, 2, 0, 7, 8, 1, 7, 6, 7, 1, 1, 5,\n",
       "       8, 3, 0, 1, 7, 1, 1, 1, 2, 5, 1, 5, 1, 7, 4, 7, 3, 1, 3, 8, 7, 7, 6,\n",
       "       7, 0, 0, 2, 6, 8, 7, 5, 3, 1, 1, 6, 8, 2, 4, 4, 7, 1, 1, 3, 2, 0, 5,\n",
       "       4, 5, 7, 7, 0, 0, 6, 6, 6, 3, 2, 3, 0, 7, 1, 2, 4, 3, 6, 8, 4, 4, 2,\n",
       "       0, 5, 3, 8, 1, 8, 6, 7, 3, 3, 3, 4, 3, 0, 0, 5, 4, 8, 8, 3, 6, 5, 7,\n",
       "       2, 0, 8, 3, 0, 2, 5, 0, 5, 4, 3, 2, 2, 3, 2, 0, 2, 1, 1, 2, 0, 0, 5,\n",
       "       1, 6, 3, 2, 5, 7, 1, 1, 1, 1, 7, 3, 5, 4, 5, 0, 2, 4, 7, 7, 3, 1, 3,\n",
       "       6, 2, 6, 7, 3, 5, 3, 5, 6, 4, 0, 6, 5, 0, 8, 0, 1, 3, 1, 7, 5, 7, 5,\n",
       "       8, 5, 0, 0, 5, 6, 6, 7, 4, 6, 0, 6, 4, 2, 8, 1, 4, 8, 1, 7, 8, 4, 7,\n",
       "       3, 8, 5, 5, 5, 0, 2, 5, 0, 6, 6, 7, 6, 4, 6, 7, 5, 5, 4, 5, 5, 6, 3,\n",
       "       4, 8, 5, 3, 2, 5, 8, 4, 3, 2, 7, 3, 4, 5, 0, 6, 8, 5, 4, 8, 1, 3, 8,\n",
       "       0, 2, 4, 0, 6, 0, 7, 3, 7, 2, 0, 8, 8, 7, 3, 6, 3, 2, 8, 6, 6, 1, 1,\n",
       "       0, 4, 2, 8, 1, 5, 0, 5, 3, 3, 8, 8, 8, 3, 8, 4, 0, 5, 6, 7, 0, 7, 3,\n",
       "       4, 0, 1, 8, 0, 6, 8, 0, 3, 5, 7, 4, 2, 6, 8, 5, 6, 7, 3, 5, 6])"
      ]
     },
     "execution_count": 36,
     "metadata": {},
     "output_type": "execute_result"
    }
   ],
   "source": [
    "predicted"
   ]
  },
  {
   "cell_type": "code",
   "execution_count": 37,
   "metadata": {},
   "outputs": [],
   "source": [
    "predicted = predicted + 1"
   ]
  },
  {
   "cell_type": "raw",
   "metadata": {},
   "source": [
    "Confusion Matrix, "
   ]
  },
  {
   "cell_type": "code",
   "execution_count": 38,
   "metadata": {},
   "outputs": [],
   "source": [
    "C = confusion_matrix(y_test,predicted)"
   ]
  },
  {
   "cell_type": "code",
   "execution_count": 39,
   "metadata": {},
   "outputs": [],
   "source": [
    "A = accuracy_score(y_test,predicted)\n",
    "CR = classification_report(y_test,predicted)"
   ]
  },
  {
   "cell_type": "code",
   "execution_count": 40,
   "metadata": {},
   "outputs": [
    {
     "name": "stdout",
     "output_type": "stream",
     "text": [
      "0.127819548872\n",
      "              precision    recall  f1-score   support\n",
      "\n",
      "           1       0.16      0.13      0.15       105\n",
      "           2       0.22      0.14      0.17        95\n",
      "           3       0.07      0.19      0.10        21\n",
      "           4       0.30      0.16      0.21       143\n",
      "           5       0.07      0.14      0.09        36\n",
      "           6       0.04      0.06      0.05        47\n",
      "           7       0.31      0.11      0.16       203\n",
      "           8       0.00      0.00      0.00         4\n",
      "           9       0.01      0.09      0.02        11\n",
      "\n",
      "   micro avg       0.13      0.13      0.13       665\n",
      "   macro avg       0.13      0.11      0.11       665\n",
      "weighted avg       0.23      0.13      0.15       665\n",
      "\n"
     ]
    }
   ],
   "source": [
    "print(A)\n",
    "print(CR)"
   ]
  },
  {
   "cell_type": "code",
   "execution_count": 41,
   "metadata": {},
   "outputs": [
    {
     "name": "stdout",
     "output_type": "stream",
     "text": [
      "Accuracy for random classification model is:  12.7819548872\n"
     ]
    }
   ],
   "source": [
    "print(\"Accuracy for random classification model is: \", (A*100))"
   ]
  },
  {
   "cell_type": "code",
   "execution_count": 42,
   "metadata": {},
   "outputs": [
    {
     "data": {
      "image/png": "[encoded data removed]",
      "text/plain": [
       "<Figure size 1440x504 with 2 Axes>"
      ]
     },
     "metadata": {
      "needs_background": "light"
     },
     "output_type": "display_data"
    }
   ],
   "source": [
    "labels = [1,2,3,4,5,6,7,8,9]\n",
    "plt.figure(figsize = (20,7))\n",
    "sn.heatmap(C,annot = True,xticklabels = labels,yticklabels = labels)\n",
    "plt.xlabel('Predicted Class')\n",
    "plt.ylabel('Original Class')\n",
    "plt.show()"
   ]
  },
  {
   "cell_type": "code",
   "execution_count": 43,
   "metadata": {},
   "outputs": [
    {
     "name": "stdout",
     "output_type": "stream",
     "text": [
      "BRCA1      172\n",
      "TP53        98\n",
      "BRCA2       85\n",
      "EGFR        83\n",
      "PTEN        81\n",
      "KIT         65\n",
      "BRAF        60\n",
      "ERBB2       45\n",
      "ALK         44\n",
      "PDGFRA      40\n",
      "PIK3CA      37\n",
      "CDKN2A      34\n",
      "TSC2        33\n",
      "FGFR3       31\n",
      "FLT3        31\n",
      "RET         31\n",
      "VHL         28\n",
      "FGFR2       28\n",
      "MET         27\n",
      "JAK2        26\n",
      "MTOR        26\n",
      "KRAS        22\n",
      "MLH1        22\n",
      "MAP2K1      21\n",
      "SMAD4       20\n",
      "ROS1        18\n",
      "PDGFRB      18\n",
      "NOTCH1      17\n",
      "PTPRT       16\n",
      "RUNX1       16\n",
      "          ... \n",
      "CDK6         1\n",
      "XPO1         1\n",
      "IL7R         1\n",
      "RNF43        1\n",
      "BCL10        1\n",
      "RXRA         1\n",
      "FLT1         1\n",
      "NPM1         1\n",
      "LATS2        1\n",
      "FUBP1        1\n",
      "CDKN2C       1\n",
      "IKBKE        1\n",
      "MAPK1        1\n",
      "LATS1        1\n",
      "KLF4         1\n",
      "SDHC         1\n",
      "CIC          1\n",
      "PPM1D        1\n",
      "MEN1         1\n",
      "SETD2        1\n",
      "IGF1R        1\n",
      "FGF4         1\n",
      "TP53BP1      1\n",
      "KDM5A        1\n",
      "CDK8         1\n",
      "NUP93        1\n",
      "IDH2         1\n",
      "AXIN1        1\n",
      "BCL2         1\n",
      "EIF1AX       1\n",
      "Name: Gene, Length: 239, dtype: int64\n"
     ]
    }
   ],
   "source": [
    "#Evaluating individual columns to evaluate their importance\n",
    "#Evaluationg Gene Column\n",
    "unique_genes = X_train['Gene'].value_counts()\n",
    "print(unique_genes)"
   ]
  },
  {
   "cell_type": "code",
   "execution_count": 44,
   "metadata": {},
   "outputs": [],
   "source": [
    "# one-hot encoding of Gene feature.\n",
    "gene_vectorize = CountVectorizer()\n",
    "train_gene_vector = gene_vectorize.fit_transform(X_train['Gene'])\n",
    "test_gene_vector = gene_vectorize.transform(X_test['Gene'])\n",
    "cv_gene_vector = gene_vectorize.transform(X_cv['Gene'])"
   ]
  },
  {
   "cell_type": "code",
   "execution_count": 45,
   "metadata": {},
   "outputs": [
    {
     "data": {
      "text/plain": [
       "(532, 239)"
      ]
     },
     "execution_count": 45,
     "metadata": {},
     "output_type": "execute_result"
    }
   ],
   "source": [
    "cv_gene_vector.shape"
   ]
  },
  {
   "cell_type": "code",
   "execution_count": 46,
   "metadata": {},
   "outputs": [
    {
     "name": "stderr",
     "output_type": "stream",
     "text": [
      "/home/krupal/anaconda3/lib/python3.6/site-packages/sklearn/linear_model/stochastic_gradient.py:166: FutureWarning: max_iter and tol parameters have been added in SGDClassifier in 0.19. If both are left unset, they default to max_iter=5 and tol=None. If tol is not None, max_iter defaults to max_iter=1000. From 0.21, default max_iter will be 1000, and default tol will be 1e-3.\n",
      "  FutureWarning)\n",
      "/home/krupal/anaconda3/lib/python3.6/site-packages/sklearn/model_selection/_split.py:2053: FutureWarning: You should specify a value for 'cv' instead of relying on the default value. The default value will change from 3 to 5 in version 0.22.\n",
      "  warnings.warn(CV_WARNING, FutureWarning)\n",
      "/home/krupal/anaconda3/lib/python3.6/site-packages/sklearn/linear_model/stochastic_gradient.py:166: FutureWarning: max_iter and tol parameters have been added in SGDClassifier in 0.19. If both are left unset, they default to max_iter=5 and tol=None. If tol is not None, max_iter defaults to max_iter=1000. From 0.21, default max_iter will be 1000, and default tol will be 1e-3.\n",
      "  FutureWarning)\n",
      "/home/krupal/anaconda3/lib/python3.6/site-packages/sklearn/linear_model/stochastic_gradient.py:166: FutureWarning: max_iter and tol parameters have been added in SGDClassifier in 0.19. If both are left unset, they default to max_iter=5 and tol=None. If tol is not None, max_iter defaults to max_iter=1000. From 0.21, default max_iter will be 1000, and default tol will be 1e-3.\n",
      "  FutureWarning)\n",
      "/home/krupal/anaconda3/lib/python3.6/site-packages/sklearn/linear_model/stochastic_gradient.py:166: FutureWarning: max_iter and tol parameters have been added in SGDClassifier in 0.19. If both are left unset, they default to max_iter=5 and tol=None. If tol is not None, max_iter defaults to max_iter=1000. From 0.21, default max_iter will be 1000, and default tol will be 1e-3.\n",
      "  FutureWarning)\n",
      "/home/krupal/anaconda3/lib/python3.6/site-packages/sklearn/linear_model/stochastic_gradient.py:166: FutureWarning: max_iter and tol parameters have been added in SGDClassifier in 0.19. If both are left unset, they default to max_iter=5 and tol=None. If tol is not None, max_iter defaults to max_iter=1000. From 0.21, default max_iter will be 1000, and default tol will be 1e-3.\n",
      "  FutureWarning)\n",
      "/home/krupal/anaconda3/lib/python3.6/site-packages/sklearn/model_selection/_split.py:2053: FutureWarning: You should specify a value for 'cv' instead of relying on the default value. The default value will change from 3 to 5 in version 0.22.\n",
      "  warnings.warn(CV_WARNING, FutureWarning)\n",
      "/home/krupal/anaconda3/lib/python3.6/site-packages/sklearn/linear_model/stochastic_gradient.py:166: FutureWarning: max_iter and tol parameters have been added in SGDClassifier in 0.19. If both are left unset, they default to max_iter=5 and tol=None. If tol is not None, max_iter defaults to max_iter=1000. From 0.21, default max_iter will be 1000, and default tol will be 1e-3.\n",
      "  FutureWarning)\n",
      "/home/krupal/anaconda3/lib/python3.6/site-packages/sklearn/linear_model/stochastic_gradient.py:166: FutureWarning: max_iter and tol parameters have been added in SGDClassifier in 0.19. If both are left unset, they default to max_iter=5 and tol=None. If tol is not None, max_iter defaults to max_iter=1000. From 0.21, default max_iter will be 1000, and default tol will be 1e-3.\n",
      "  FutureWarning)\n"
     ]
    },
    {
     "name": "stdout",
     "output_type": "stream",
     "text": [
      "For the value of alpha:  0.001  the log loss is:  1.24471972249\n",
      "For the value of alpha:  0.01  the log loss is:  1.37142676865\n"
     ]
    },
    {
     "name": "stderr",
     "output_type": "stream",
     "text": [
      "/home/krupal/anaconda3/lib/python3.6/site-packages/sklearn/linear_model/stochastic_gradient.py:166: FutureWarning: max_iter and tol parameters have been added in SGDClassifier in 0.19. If both are left unset, they default to max_iter=5 and tol=None. If tol is not None, max_iter defaults to max_iter=1000. From 0.21, default max_iter will be 1000, and default tol will be 1e-3.\n",
      "  FutureWarning)\n",
      "/home/krupal/anaconda3/lib/python3.6/site-packages/sklearn/linear_model/stochastic_gradient.py:166: FutureWarning: max_iter and tol parameters have been added in SGDClassifier in 0.19. If both are left unset, they default to max_iter=5 and tol=None. If tol is not None, max_iter defaults to max_iter=1000. From 0.21, default max_iter will be 1000, and default tol will be 1e-3.\n",
      "  FutureWarning)\n",
      "/home/krupal/anaconda3/lib/python3.6/site-packages/sklearn/model_selection/_split.py:2053: FutureWarning: You should specify a value for 'cv' instead of relying on the default value. The default value will change from 3 to 5 in version 0.22.\n",
      "  warnings.warn(CV_WARNING, FutureWarning)\n",
      "/home/krupal/anaconda3/lib/python3.6/site-packages/sklearn/linear_model/stochastic_gradient.py:166: FutureWarning: max_iter and tol parameters have been added in SGDClassifier in 0.19. If both are left unset, they default to max_iter=5 and tol=None. If tol is not None, max_iter defaults to max_iter=1000. From 0.21, default max_iter will be 1000, and default tol will be 1e-3.\n",
      "  FutureWarning)\n",
      "/home/krupal/anaconda3/lib/python3.6/site-packages/sklearn/linear_model/stochastic_gradient.py:166: FutureWarning: max_iter and tol parameters have been added in SGDClassifier in 0.19. If both are left unset, they default to max_iter=5 and tol=None. If tol is not None, max_iter defaults to max_iter=1000. From 0.21, default max_iter will be 1000, and default tol will be 1e-3.\n",
      "  FutureWarning)\n",
      "/home/krupal/anaconda3/lib/python3.6/site-packages/sklearn/linear_model/stochastic_gradient.py:166: FutureWarning: max_iter and tol parameters have been added in SGDClassifier in 0.19. If both are left unset, they default to max_iter=5 and tol=None. If tol is not None, max_iter defaults to max_iter=1000. From 0.21, default max_iter will be 1000, and default tol will be 1e-3.\n",
      "  FutureWarning)\n",
      "/home/krupal/anaconda3/lib/python3.6/site-packages/sklearn/linear_model/stochastic_gradient.py:166: FutureWarning: max_iter and tol parameters have been added in SGDClassifier in 0.19. If both are left unset, they default to max_iter=5 and tol=None. If tol is not None, max_iter defaults to max_iter=1000. From 0.21, default max_iter will be 1000, and default tol will be 1e-3.\n",
      "  FutureWarning)\n"
     ]
    },
    {
     "name": "stdout",
     "output_type": "stream",
     "text": [
      "For the value of alpha:  0.1  the log loss is:  1.47795878779\n",
      "For the value of alpha:  1  the log loss is:  1.50775025527\n"
     ]
    },
    {
     "name": "stderr",
     "output_type": "stream",
     "text": [
      "/home/krupal/anaconda3/lib/python3.6/site-packages/sklearn/model_selection/_split.py:2053: FutureWarning: You should specify a value for 'cv' instead of relying on the default value. The default value will change from 3 to 5 in version 0.22.\n",
      "  warnings.warn(CV_WARNING, FutureWarning)\n",
      "/home/krupal/anaconda3/lib/python3.6/site-packages/sklearn/linear_model/stochastic_gradient.py:166: FutureWarning: max_iter and tol parameters have been added in SGDClassifier in 0.19. If both are left unset, they default to max_iter=5 and tol=None. If tol is not None, max_iter defaults to max_iter=1000. From 0.21, default max_iter will be 1000, and default tol will be 1e-3.\n",
      "  FutureWarning)\n",
      "/home/krupal/anaconda3/lib/python3.6/site-packages/sklearn/linear_model/stochastic_gradient.py:166: FutureWarning: max_iter and tol parameters have been added in SGDClassifier in 0.19. If both are left unset, they default to max_iter=5 and tol=None. If tol is not None, max_iter defaults to max_iter=1000. From 0.21, default max_iter will be 1000, and default tol will be 1e-3.\n",
      "  FutureWarning)\n",
      "/home/krupal/anaconda3/lib/python3.6/site-packages/sklearn/linear_model/stochastic_gradient.py:166: FutureWarning: max_iter and tol parameters have been added in SGDClassifier in 0.19. If both are left unset, they default to max_iter=5 and tol=None. If tol is not None, max_iter defaults to max_iter=1000. From 0.21, default max_iter will be 1000, and default tol will be 1e-3.\n",
      "  FutureWarning)\n",
      "/home/krupal/anaconda3/lib/python3.6/site-packages/sklearn/linear_model/stochastic_gradient.py:166: FutureWarning: max_iter and tol parameters have been added in SGDClassifier in 0.19. If both are left unset, they default to max_iter=5 and tol=None. If tol is not None, max_iter defaults to max_iter=1000. From 0.21, default max_iter will be 1000, and default tol will be 1e-3.\n",
      "  FutureWarning)\n",
      "/home/krupal/anaconda3/lib/python3.6/site-packages/sklearn/model_selection/_split.py:2053: FutureWarning: You should specify a value for 'cv' instead of relying on the default value. The default value will change from 3 to 5 in version 0.22.\n",
      "  warnings.warn(CV_WARNING, FutureWarning)\n",
      "/home/krupal/anaconda3/lib/python3.6/site-packages/sklearn/linear_model/stochastic_gradient.py:166: FutureWarning: max_iter and tol parameters have been added in SGDClassifier in 0.19. If both are left unset, they default to max_iter=5 and tol=None. If tol is not None, max_iter defaults to max_iter=1000. From 0.21, default max_iter will be 1000, and default tol will be 1e-3.\n",
      "  FutureWarning)\n"
     ]
    },
    {
     "name": "stdout",
     "output_type": "stream",
     "text": [
      "For the value of alpha:  10  the log loss is:  1.51191774257\n"
     ]
    },
    {
     "name": "stderr",
     "output_type": "stream",
     "text": [
      "/home/krupal/anaconda3/lib/python3.6/site-packages/sklearn/linear_model/stochastic_gradient.py:166: FutureWarning: max_iter and tol parameters have been added in SGDClassifier in 0.19. If both are left unset, they default to max_iter=5 and tol=None. If tol is not None, max_iter defaults to max_iter=1000. From 0.21, default max_iter will be 1000, and default tol will be 1e-3.\n",
      "  FutureWarning)\n",
      "/home/krupal/anaconda3/lib/python3.6/site-packages/sklearn/linear_model/stochastic_gradient.py:166: FutureWarning: max_iter and tol parameters have been added in SGDClassifier in 0.19. If both are left unset, they default to max_iter=5 and tol=None. If tol is not None, max_iter defaults to max_iter=1000. From 0.21, default max_iter will be 1000, and default tol will be 1e-3.\n",
      "  FutureWarning)\n"
     ]
    }
   ],
   "source": [
    "#Creating a simple SGD in order to evaluate the importance of Gene column\n",
    "alpha = [0.001,0.01,0.1,1,10]\n",
    "cv_log_loss = []\n",
    "for i in alpha:\n",
    "    clf = SGDClassifier(alpha = i, penalty = 'l2', loss = 'log',random_state = 42)\n",
    "    clf.fit(train_gene_vector,y_train)\n",
    "    sig_clf = CalibratedClassifierCV(clf, method = 'sigmoid')\n",
    "    sig_clf.fit(train_gene_vector,y_train)\n",
    "    predicted_y = sig_clf.predict_proba(cv_gene_vector)\n",
    "    cv_log_loss.append(log_loss(y_cv,predicted_y))\n",
    "    print(\"For the value of alpha: \",i,\" the log loss is: \",log_loss(y_cv,predicted_y))\n",
    "    "
   ]
  },
  {
   "cell_type": "code",
   "execution_count": 47,
   "metadata": {},
   "outputs": [
    {
     "data": {
      "image/png": "[encoded data removed]",
      "text/plain": [
       "<Figure size 432x288 with 1 Axes>"
      ]
     },
     "metadata": {
      "needs_background": "light"
     },
     "output_type": "display_data"
    }
   ],
   "source": [
    "#Plotting the values and their log_losses\n",
    "fig, ax = plt.subplots()\n",
    "\n",
    "ax.plot(alpha, cv_log_loss)\n",
    "for i,txt in enumerate(np.round(cv_log_loss,3)):\n",
    "    ax.annotate((alpha[i],np.round(txt,3)),(alpha[i],cv_log_loss[i]))\n",
    "plt.grid()\n",
    "plt.title(\"CV Error for each alpha\")\n",
    "plt.xlabel(\"Alpha's\")\n",
    "plt.ylabel(\"Log_loss_Error\")\n",
    "plt.show()"
   ]
  },
  {
   "cell_type": "code",
   "execution_count": 48,
   "metadata": {},
   "outputs": [
    {
     "name": "stdout",
     "output_type": "stream",
     "text": [
      "98.34586466165413\n",
      "97.36842105263158\n"
     ]
    }
   ],
   "source": [
    "#Checking how many values in training set are overlapping for the Gene Column in the test and cross_validation set\n",
    "Common_text_test = X_test[X_test['Gene'].isin(X_train['Gene'])].shape[0]\n",
    "Common_text_cv = X_cv[X_cv['Gene'].isin(X_train['Gene'])].shape[0]\n",
    "test_percent_test = (Common_text_test / len(X_test['Gene']))*100\n",
    "test_percent_cv = (Common_text_cv / len(X_cv['Gene']))*100\n",
    "print(test_percent_test)\n",
    "print(test_percent_cv)"
   ]
  },
  {
   "cell_type": "code",
   "execution_count": 49,
   "metadata": {},
   "outputs": [
    {
     "name": "stdout",
     "output_type": "stream",
     "text": [
      "Truncating_Mutations          60\n",
      "Deletion                      48\n",
      "Amplification                 47\n",
      "Fusions                       18\n",
      "Overexpression                 5\n",
      "E17K                           3\n",
      "Q61H                           3\n",
      "Q61L                           3\n",
      "G12V                           2\n",
      "M1R                            2\n",
      "Q209L                          2\n",
      "G13D                           2\n",
      "G67R                           2\n",
      "G35R                           2\n",
      "Q61K                           2\n",
      "Promoter_Hypermethylation      2\n",
      "C618R                          2\n",
      "I31M                           2\n",
      "F384L                          2\n",
      "Y64A                           2\n",
      "Y42C                           2\n",
      "T58I                           2\n",
      "K117N                          2\n",
      "EWSR1-ETV1_Fusion              2\n",
      "ETV6-NTRK3_Fusion              2\n",
      "R841K                          2\n",
      "TMPRSS2-ETV1_Fusion            2\n",
      "L983F                          1\n",
      "E1210K                         1\n",
      "L607I                          1\n",
      "                              ..\n",
      "K38N                           1\n",
      "Q120E                          1\n",
      "G596R                          1\n",
      "F359C                          1\n",
      "E218*                          1\n",
      "T34_A289del                    1\n",
      "Y1003*                         1\n",
      "E81K                           1\n",
      "V1676D                         1\n",
      "T82A                           1\n",
      "GOLGA4-PDGFRB_Fusion           1\n",
      "Y236C                          1\n",
      "K648N                          1\n",
      "Exon_19_deletion/insertion     1\n",
      "Y1003C                         1\n",
      "H1805P                         1\n",
      "F1888V                         1\n",
      "P551_V555del                   1\n",
      "Y1230H                         1\n",
      "Y1235D                         1\n",
      "G13V                           1\n",
      "L2865V                         1\n",
      "R625D                          1\n",
      "D493A                          1\n",
      "N1044K                         1\n",
      "L412F                          1\n",
      "D1029Y                         1\n",
      "S1986F                         1\n",
      "R844H                          1\n",
      "S459F                          1\n",
      "Name: Variation, Length: 1926, dtype: int64\n"
     ]
    }
   ],
   "source": [
    "#Evaluating the variation column just like gene column\n",
    "unique_variation = X_train['Variation'].value_counts()\n",
    "print(unique_variation)"
   ]
  },
  {
   "cell_type": "code",
   "execution_count": 50,
   "metadata": {},
   "outputs": [],
   "source": [
    "variation_vectorize = CountVectorizer()\n",
    "train_variation_vector = variation_vectorize.fit_transform(X_train['Variation'])\n",
    "test_variation_vector = variation_vectorize.transform(X_test['Variation'])\n",
    "cv_variation_vector = variation_vectorize.transform(X_cv['Variation'])"
   ]
  },
  {
   "cell_type": "code",
   "execution_count": 51,
   "metadata": {},
   "outputs": [
    {
     "name": "stderr",
     "output_type": "stream",
     "text": [
      "/home/krupal/anaconda3/lib/python3.6/site-packages/sklearn/linear_model/stochastic_gradient.py:166: FutureWarning: max_iter and tol parameters have been added in SGDClassifier in 0.19. If both are left unset, they default to max_iter=5 and tol=None. If tol is not None, max_iter defaults to max_iter=1000. From 0.21, default max_iter will be 1000, and default tol will be 1e-3.\n",
      "  FutureWarning)\n",
      "/home/krupal/anaconda3/lib/python3.6/site-packages/sklearn/model_selection/_split.py:2053: FutureWarning: You should specify a value for 'cv' instead of relying on the default value. The default value will change from 3 to 5 in version 0.22.\n",
      "  warnings.warn(CV_WARNING, FutureWarning)\n",
      "/home/krupal/anaconda3/lib/python3.6/site-packages/sklearn/linear_model/stochastic_gradient.py:166: FutureWarning: max_iter and tol parameters have been added in SGDClassifier in 0.19. If both are left unset, they default to max_iter=5 and tol=None. If tol is not None, max_iter defaults to max_iter=1000. From 0.21, default max_iter will be 1000, and default tol will be 1e-3.\n",
      "  FutureWarning)\n",
      "/home/krupal/anaconda3/lib/python3.6/site-packages/sklearn/linear_model/stochastic_gradient.py:166: FutureWarning: max_iter and tol parameters have been added in SGDClassifier in 0.19. If both are left unset, they default to max_iter=5 and tol=None. If tol is not None, max_iter defaults to max_iter=1000. From 0.21, default max_iter will be 1000, and default tol will be 1e-3.\n",
      "  FutureWarning)\n",
      "/home/krupal/anaconda3/lib/python3.6/site-packages/sklearn/linear_model/stochastic_gradient.py:166: FutureWarning: max_iter and tol parameters have been added in SGDClassifier in 0.19. If both are left unset, they default to max_iter=5 and tol=None. If tol is not None, max_iter defaults to max_iter=1000. From 0.21, default max_iter will be 1000, and default tol will be 1e-3.\n",
      "  FutureWarning)\n",
      "/home/krupal/anaconda3/lib/python3.6/site-packages/sklearn/linear_model/stochastic_gradient.py:166: FutureWarning: max_iter and tol parameters have been added in SGDClassifier in 0.19. If both are left unset, they default to max_iter=5 and tol=None. If tol is not None, max_iter defaults to max_iter=1000. From 0.21, default max_iter will be 1000, and default tol will be 1e-3.\n",
      "  FutureWarning)\n",
      "/home/krupal/anaconda3/lib/python3.6/site-packages/sklearn/model_selection/_split.py:2053: FutureWarning: You should specify a value for 'cv' instead of relying on the default value. The default value will change from 3 to 5 in version 0.22.\n",
      "  warnings.warn(CV_WARNING, FutureWarning)\n",
      "/home/krupal/anaconda3/lib/python3.6/site-packages/sklearn/linear_model/stochastic_gradient.py:166: FutureWarning: max_iter and tol parameters have been added in SGDClassifier in 0.19. If both are left unset, they default to max_iter=5 and tol=None. If tol is not None, max_iter defaults to max_iter=1000. From 0.21, default max_iter will be 1000, and default tol will be 1e-3.\n",
      "  FutureWarning)\n"
     ]
    },
    {
     "name": "stdout",
     "output_type": "stream",
     "text": [
      "For the value of alpha:  0.001  the log loss is:  1.76592510582\n",
      "For the value of alpha:  0.01  the log loss is:  1.7782184261\n"
     ]
    },
    {
     "name": "stderr",
     "output_type": "stream",
     "text": [
      "/home/krupal/anaconda3/lib/python3.6/site-packages/sklearn/linear_model/stochastic_gradient.py:166: FutureWarning: max_iter and tol parameters have been added in SGDClassifier in 0.19. If both are left unset, they default to max_iter=5 and tol=None. If tol is not None, max_iter defaults to max_iter=1000. From 0.21, default max_iter will be 1000, and default tol will be 1e-3.\n",
      "  FutureWarning)\n",
      "/home/krupal/anaconda3/lib/python3.6/site-packages/sklearn/linear_model/stochastic_gradient.py:166: FutureWarning: max_iter and tol parameters have been added in SGDClassifier in 0.19. If both are left unset, they default to max_iter=5 and tol=None. If tol is not None, max_iter defaults to max_iter=1000. From 0.21, default max_iter will be 1000, and default tol will be 1e-3.\n",
      "  FutureWarning)\n",
      "/home/krupal/anaconda3/lib/python3.6/site-packages/sklearn/linear_model/stochastic_gradient.py:166: FutureWarning: max_iter and tol parameters have been added in SGDClassifier in 0.19. If both are left unset, they default to max_iter=5 and tol=None. If tol is not None, max_iter defaults to max_iter=1000. From 0.21, default max_iter will be 1000, and default tol will be 1e-3.\n",
      "  FutureWarning)\n",
      "/home/krupal/anaconda3/lib/python3.6/site-packages/sklearn/model_selection/_split.py:2053: FutureWarning: You should specify a value for 'cv' instead of relying on the default value. The default value will change from 3 to 5 in version 0.22.\n",
      "  warnings.warn(CV_WARNING, FutureWarning)\n",
      "/home/krupal/anaconda3/lib/python3.6/site-packages/sklearn/linear_model/stochastic_gradient.py:166: FutureWarning: max_iter and tol parameters have been added in SGDClassifier in 0.19. If both are left unset, they default to max_iter=5 and tol=None. If tol is not None, max_iter defaults to max_iter=1000. From 0.21, default max_iter will be 1000, and default tol will be 1e-3.\n",
      "  FutureWarning)\n",
      "/home/krupal/anaconda3/lib/python3.6/site-packages/sklearn/linear_model/stochastic_gradient.py:166: FutureWarning: max_iter and tol parameters have been added in SGDClassifier in 0.19. If both are left unset, they default to max_iter=5 and tol=None. If tol is not None, max_iter defaults to max_iter=1000. From 0.21, default max_iter will be 1000, and default tol will be 1e-3.\n",
      "  FutureWarning)\n",
      "/home/krupal/anaconda3/lib/python3.6/site-packages/sklearn/linear_model/stochastic_gradient.py:166: FutureWarning: max_iter and tol parameters have been added in SGDClassifier in 0.19. If both are left unset, they default to max_iter=5 and tol=None. If tol is not None, max_iter defaults to max_iter=1000. From 0.21, default max_iter will be 1000, and default tol will be 1e-3.\n",
      "  FutureWarning)\n",
      "/home/krupal/anaconda3/lib/python3.6/site-packages/sklearn/linear_model/stochastic_gradient.py:166: FutureWarning: max_iter and tol parameters have been added in SGDClassifier in 0.19. If both are left unset, they default to max_iter=5 and tol=None. If tol is not None, max_iter defaults to max_iter=1000. From 0.21, default max_iter will be 1000, and default tol will be 1e-3.\n",
      "  FutureWarning)\n",
      "/home/krupal/anaconda3/lib/python3.6/site-packages/sklearn/model_selection/_split.py:2053: FutureWarning: You should specify a value for 'cv' instead of relying on the default value. The default value will change from 3 to 5 in version 0.22.\n",
      "  warnings.warn(CV_WARNING, FutureWarning)\n",
      "/home/krupal/anaconda3/lib/python3.6/site-packages/sklearn/linear_model/stochastic_gradient.py:166: FutureWarning: max_iter and tol parameters have been added in SGDClassifier in 0.19. If both are left unset, they default to max_iter=5 and tol=None. If tol is not None, max_iter defaults to max_iter=1000. From 0.21, default max_iter will be 1000, and default tol will be 1e-3.\n",
      "  FutureWarning)\n",
      "/home/krupal/anaconda3/lib/python3.6/site-packages/sklearn/linear_model/stochastic_gradient.py:166: FutureWarning: max_iter and tol parameters have been added in SGDClassifier in 0.19. If both are left unset, they default to max_iter=5 and tol=None. If tol is not None, max_iter defaults to max_iter=1000. From 0.21, default max_iter will be 1000, and default tol will be 1e-3.\n",
      "  FutureWarning)\n",
      "/home/krupal/anaconda3/lib/python3.6/site-packages/sklearn/linear_model/stochastic_gradient.py:166: FutureWarning: max_iter and tol parameters have been added in SGDClassifier in 0.19. If both are left unset, they default to max_iter=5 and tol=None. If tol is not None, max_iter defaults to max_iter=1000. From 0.21, default max_iter will be 1000, and default tol will be 1e-3.\n",
      "  FutureWarning)\n"
     ]
    },
    {
     "name": "stdout",
     "output_type": "stream",
     "text": [
      "For the value of alpha:  0.1  the log loss is:  1.79145606475\n",
      "For the value of alpha:  1  the log loss is:  1.79125754748\n"
     ]
    },
    {
     "name": "stderr",
     "output_type": "stream",
     "text": [
      "/home/krupal/anaconda3/lib/python3.6/site-packages/sklearn/linear_model/stochastic_gradient.py:166: FutureWarning: max_iter and tol parameters have been added in SGDClassifier in 0.19. If both are left unset, they default to max_iter=5 and tol=None. If tol is not None, max_iter defaults to max_iter=1000. From 0.21, default max_iter will be 1000, and default tol will be 1e-3.\n",
      "  FutureWarning)\n",
      "/home/krupal/anaconda3/lib/python3.6/site-packages/sklearn/model_selection/_split.py:2053: FutureWarning: You should specify a value for 'cv' instead of relying on the default value. The default value will change from 3 to 5 in version 0.22.\n",
      "  warnings.warn(CV_WARNING, FutureWarning)\n",
      "/home/krupal/anaconda3/lib/python3.6/site-packages/sklearn/linear_model/stochastic_gradient.py:166: FutureWarning: max_iter and tol parameters have been added in SGDClassifier in 0.19. If both are left unset, they default to max_iter=5 and tol=None. If tol is not None, max_iter defaults to max_iter=1000. From 0.21, default max_iter will be 1000, and default tol will be 1e-3.\n",
      "  FutureWarning)\n",
      "/home/krupal/anaconda3/lib/python3.6/site-packages/sklearn/linear_model/stochastic_gradient.py:166: FutureWarning: max_iter and tol parameters have been added in SGDClassifier in 0.19. If both are left unset, they default to max_iter=5 and tol=None. If tol is not None, max_iter defaults to max_iter=1000. From 0.21, default max_iter will be 1000, and default tol will be 1e-3.\n",
      "  FutureWarning)\n",
      "/home/krupal/anaconda3/lib/python3.6/site-packages/sklearn/linear_model/stochastic_gradient.py:166: FutureWarning: max_iter and tol parameters have been added in SGDClassifier in 0.19. If both are left unset, they default to max_iter=5 and tol=None. If tol is not None, max_iter defaults to max_iter=1000. From 0.21, default max_iter will be 1000, and default tol will be 1e-3.\n",
      "  FutureWarning)\n"
     ]
    },
    {
     "name": "stdout",
     "output_type": "stream",
     "text": [
      "For the value of alpha:  10  the log loss is:  1.79114070038\n"
     ]
    }
   ],
   "source": [
    "#Creating a simple SGD in order to evaluate the importance of Variation column\n",
    "alpha = [0.001,0.01,0.1,1,10]\n",
    "cv_log_loss_variation = []\n",
    "for i in alpha:\n",
    "    clf = SGDClassifier(alpha = i, penalty = 'l2', loss = 'log',random_state = 42)\n",
    "    clf.fit(train_variation_vector,y_train)\n",
    "    sig_clf = CalibratedClassifierCV(clf, method = 'sigmoid')\n",
    "    sig_clf.fit(train_variation_vector,y_train)\n",
    "    predicted_y = sig_clf.predict_proba(cv_variation_vector)\n",
    "    cv_log_loss_variation.append(log_loss(y_cv,predicted_y))\n",
    "    print(\"For the value of alpha: \",i,\" the log loss is: \",log_loss(y_cv,predicted_y))"
   ]
  },
  {
   "cell_type": "code",
   "execution_count": 52,
   "metadata": {},
   "outputs": [
    {
     "data": {
      "image/png": "[encoded data removed]",
      "text/plain": [
       "<Figure size 432x288 with 1 Axes>"
      ]
     },
     "metadata": {
      "needs_background": "light"
     },
     "output_type": "display_data"
    }
   ],
   "source": [
    "fig, ax = plt.subplots()\n",
    "\n",
    "ax.plot(alpha, cv_log_loss_variation)\n",
    "for i,txt in enumerate(np.round(cv_log_loss_variation,3)):\n",
    "    ax.annotate((alpha[i],np.round(txt,3)),(alpha[i],cv_log_loss_variation[i]))\n",
    "plt.grid()\n",
    "plt.title(\"CV Error for each alpha\")\n",
    "plt.xlabel(\"Alpha's\")\n",
    "plt.ylabel(\"Log_loss_Error\")\n",
    "plt.show()"
   ]
  },
  {
   "cell_type": "code",
   "execution_count": 53,
   "metadata": {},
   "outputs": [],
   "source": [
    "#Evaluating text column\n",
    "#Function to store word count of the text frame\n",
    "def word_dict(text):\n",
    "    dictionay = defaultdict(int)\n",
    "    for index,row in text.iterrows():\n",
    "        for word in row['TEXT'].split():\n",
    "            dictionay[word] += 1\n",
    "    return dictionay"
   ]
  },
  {
   "cell_type": "code",
   "execution_count": 54,
   "metadata": {},
   "outputs": [],
   "source": [
    "#Creating a CountVectorizer with all the words that had occured minimum twice\n",
    "text_vector = CountVectorizer(min_df = 2)\n",
    "train_text_vector = text_vector.fit_transform(X_train['TEXT'])\n",
    "#print(train_text_vector)\n",
    "train_text_features = text_vector.get_feature_names()\n",
    "train_text_features_count = train_text_vector.sum(axis = 0).A1\n",
    "train_features_dict = dict(zip(list(train_text_features),train_text_features_count))\n"
   ]
  },
  {
   "cell_type": "code",
   "execution_count": 55,
   "metadata": {},
   "outputs": [
    {
     "name": "stdout",
     "output_type": "stream",
     "text": [
      "total number of unique words in the features is:  44345\n"
     ]
    }
   ],
   "source": [
    "print(\"total number of unique words in the features is: \",len(train_text_features))"
   ]
  },
  {
   "cell_type": "code",
   "execution_count": 56,
   "metadata": {},
   "outputs": [],
   "source": [
    "#Similarly creating test_text_vector, cv_text_vector and noralizing each of them\n",
    "train_text_vector = normalize(train_text_vector, axis = 0)\n",
    "test_text_vector = text_vector.transform(X_test['TEXT'])\n",
    "cv_text_vector = text_vector.transform(X_cv['TEXT'])\n",
    "test_text_vector = normalize(test_text_vector, axis = 0)\n",
    "cv_text_vector = normalize(cv_text_vector, axis = 0)"
   ]
  },
  {
   "cell_type": "code",
   "execution_count": 57,
   "metadata": {},
   "outputs": [
    {
     "name": "stdout",
     "output_type": "stream",
     "text": [
      "Counter({2: 6414, 4: 3315, 3: 3147, 5: 2040, 6: 1824, 7: 1484, 8: 1481, 9: 983, 10: 927, 11: 891, 12: 822, 13: 727, 14: 605, 16: 569, 15: 543, 19: 461, 18: 432, 17: 430, 21: 345, 20: 333, 24: 304, 22: 295, 26: 278, 23: 271, 25: 256, 27: 241, 30: 235, 28: 223, 32: 213, 33: 209, 31: 203, 29: 185, 36: 175, 34: 168, 42: 164, 35: 163, 47: 162, 39: 150, 45: 140, 50: 138, 37: 136, 41: 135, 38: 134, 40: 132, 44: 118, 57: 112, 48: 111, 49: 108, 51: 107, 46: 105, 59: 103, 53: 101, 43: 101, 55: 100, 60: 94, 52: 93, 61: 91, 56: 90, 54: 90, 69: 89, 58: 82, 70: 80, 63: 78, 64: 71, 72: 70, 65: 70, 66: 66, 76: 65, 75: 65, 68: 65, 67: 65, 62: 64, 86: 62, 71: 62, 73: 58, 78: 56, 77: 55, 91: 54, 90: 54, 80: 53, 100: 52, 85: 51, 81: 51, 74: 51, 82: 50, 83: 48, 96: 47, 88: 47, 84: 45, 79: 45, 122: 44, 104: 44, 94: 44, 98: 43, 89: 43, 103: 42, 101: 41, 93: 41, 92: 41, 87: 41, 97: 40, 135: 37, 111: 37, 108: 37, 102: 37, 110: 36, 125: 35, 107: 35, 99: 35, 95: 35, 113: 34, 105: 34, 128: 33, 123: 33, 106: 33, 114: 32, 112: 32, 150: 31, 147: 31, 143: 31, 121: 31, 115: 31, 139: 30, 130: 30, 166: 29, 145: 29, 136: 29, 129: 28, 117: 28, 109: 28, 141: 27, 134: 27, 132: 27, 126: 27, 119: 27, 151: 26, 164: 25, 124: 25, 118: 25, 116: 25, 197: 24, 156: 24, 138: 24, 137: 24, 131: 24, 120: 24, 202: 23, 170: 23, 133: 23, 186: 22, 180: 22, 155: 22, 154: 22, 153: 22, 211: 21, 172: 21, 165: 21, 161: 21, 152: 21, 227: 20, 199: 20, 198: 20, 171: 20, 146: 20, 142: 20, 235: 19, 208: 19, 204: 19, 176: 19, 158: 19, 148: 19, 140: 19, 270: 18, 182: 18, 178: 18, 159: 18, 248: 17, 209: 17, 192: 17, 188: 17, 169: 17, 167: 17, 162: 17, 160: 17, 127: 17, 284: 16, 268: 16, 263: 16, 245: 16, 239: 16, 228: 16, 226: 16, 203: 16, 190: 16, 179: 16, 173: 16, 149: 16, 144: 16, 276: 15, 260: 15, 243: 15, 236: 15, 224: 15, 214: 15, 191: 15, 184: 15, 175: 15, 314: 14, 313: 14, 287: 14, 281: 14, 247: 14, 240: 14, 234: 14, 223: 14, 210: 14, 206: 14, 196: 14, 187: 14, 183: 14, 181: 14, 174: 14, 157: 14, 319: 13, 304: 13, 292: 13, 285: 13, 278: 13, 259: 13, 258: 13, 252: 13, 249: 13, 242: 13, 241: 13, 229: 13, 222: 13, 221: 13, 219: 13, 215: 13, 201: 13, 200: 13, 195: 13, 185: 13, 177: 13, 360: 12, 312: 12, 264: 12, 256: 12, 251: 12, 238: 12, 237: 12, 213: 12, 194: 12, 193: 12, 419: 11, 414: 11, 356: 11, 324: 11, 321: 11, 316: 11, 306: 11, 274: 11, 267: 11, 253: 11, 244: 11, 212: 11, 207: 11, 163: 11, 449: 10, 435: 10, 415: 10, 378: 10, 366: 10, 334: 10, 332: 10, 329: 10, 318: 10, 311: 10, 300: 10, 295: 10, 288: 10, 282: 10, 280: 10, 277: 10, 265: 10, 257: 10, 246: 10, 232: 10, 220: 10, 218: 10, 217: 10, 189: 10, 535: 9, 475: 9, 444: 9, 439: 9, 434: 9, 429: 9, 396: 9, 379: 9, 363: 9, 361: 9, 344: 9, 340: 9, 339: 9, 331: 9, 323: 9, 302: 9, 301: 9, 290: 9, 289: 9, 279: 9, 262: 9, 230: 9, 225: 9, 216: 9, 205: 9, 620: 8, 487: 8, 469: 8, 461: 8, 450: 8, 401: 8, 392: 8, 381: 8, 365: 8, 357: 8, 350: 8, 343: 8, 337: 8, 327: 8, 317: 8, 315: 8, 308: 8, 307: 8, 303: 8, 299: 8, 297: 8, 294: 8, 283: 8, 275: 8, 271: 8, 261: 8, 231: 8, 168: 8, 939: 7, 734: 7, 622: 7, 570: 7, 550: 7, 544: 7, 540: 7, 525: 7, 508: 7, 488: 7, 484: 7, 454: 7, 433: 7, 408: 7, 407: 7, 406: 7, 405: 7, 389: 7, 383: 7, 377: 7, 376: 7, 370: 7, 364: 7, 358: 7, 355: 7, 348: 7, 345: 7, 296: 7, 293: 7, 291: 7, 272: 7, 269: 7, 266: 7, 254: 7, 250: 7, 233: 7, 1228: 6, 1144: 6, 889: 6, 674: 6, 658: 6, 653: 6, 644: 6, 603: 6, 567: 6, 556: 6, 555: 6, 520: 6, 513: 6, 512: 6, 499: 6, 498: 6, 476: 6, 472: 6, 467: 6, 459: 6, 453: 6, 445: 6, 443: 6, 440: 6, 426: 6, 425: 6, 420: 6, 410: 6, 409: 6, 404: 6, 394: 6, 393: 6, 385: 6, 373: 6, 372: 6, 368: 6, 362: 6, 359: 6, 354: 6, 349: 6, 347: 6, 346: 6, 342: 6, 341: 6, 333: 6, 330: 6, 326: 6, 320: 6, 305: 6, 298: 6, 273: 6, 1214: 5, 1106: 5, 876: 5, 870: 5, 814: 5, 775: 5, 758: 5, 757: 5, 746: 5, 741: 5, 728: 5, 713: 5, 705: 5, 695: 5, 692: 5, 686: 5, 679: 5, 673: 5, 648: 5, 643: 5, 640: 5, 614: 5, 599: 5, 597: 5, 593: 5, 579: 5, 577: 5, 572: 5, 554: 5, 536: 5, 531: 5, 530: 5, 528: 5, 524: 5, 511: 5, 505: 5, 504: 5, 502: 5, 489: 5, 486: 5, 480: 5, 479: 5, 468: 5, 464: 5, 462: 5, 460: 5, 458: 5, 452: 5, 446: 5, 442: 5, 436: 5, 424: 5, 423: 5, 402: 5, 397: 5, 395: 5, 387: 5, 384: 5, 382: 5, 380: 5, 336: 5, 335: 5, 322: 5, 286: 5, 255: 5, 3395: 4, 3325: 4, 3229: 4, 2216: 4, 1761: 4, 1692: 4, 1518: 4, 1424: 4, 1342: 4, 1293: 4, 1291: 4, 1259: 4, 1251: 4, 1226: 4, 1198: 4, 1173: 4, 1112: 4, 1041: 4, 1001: 4, 999: 4, 959: 4, 940: 4, 928: 4, 925: 4, 917: 4, 902: 4, 878: 4, 874: 4, 871: 4, 866: 4, 862: 4, 841: 4, 820: 4, 817: 4, 816: 4, 805: 4, 790: 4, 789: 4, 788: 4, 786: 4, 785: 4, 781: 4, 774: 4, 772: 4, 771: 4, 768: 4, 766: 4, 764: 4, 763: 4, 755: 4, 723: 4, 716: 4, 711: 4, 709: 4, 704: 4, 696: 4, 687: 4, 676: 4, 666: 4, 654: 4, 652: 4, 651: 4, 636: 4, 633: 4, 625: 4, 621: 4, 613: 4, 610: 4, 609: 4, 606: 4, 604: 4, 601: 4, 591: 4, 590: 4, 584: 4, 576: 4, 569: 4, 560: 4, 548: 4, 539: 4, 537: 4, 532: 4, 527: 4, 526: 4, 523: 4, 517: 4, 515: 4, 514: 4, 507: 4, 506: 4, 500: 4, 495: 4, 494: 4, 492: 4, 491: 4, 490: 4, 483: 4, 482: 4, 481: 4, 477: 4, 474: 4, 447: 4, 437: 4, 428: 4, 427: 4, 421: 4, 418: 4, 416: 4, 403: 4, 400: 4, 399: 4, 390: 4, 375: 4, 374: 4, 353: 4, 352: 4, 325: 4, 310: 4, 309: 4, 3490: 3, 3315: 3, 2355: 3, 2233: 3, 2060: 3, 2046: 3, 1956: 3, 1941: 3, 1862: 3, 1815: 3, 1786: 3, 1714: 3, 1696: 3, 1687: 3, 1684: 3, 1683: 3, 1672: 3, 1660: 3, 1563: 3, 1557: 3, 1540: 3, 1529: 3, 1492: 3, 1468: 3, 1466: 3, 1383: 3, 1358: 3, 1356: 3, 1328: 3, 1320: 3, 1300: 3, 1285: 3, 1276: 3, 1264: 3, 1249: 3, 1246: 3, 1231: 3, 1212: 3, 1195: 3, 1187: 3, 1162: 3, 1158: 3, 1151: 3, 1142: 3, 1118: 3, 1098: 3, 1093: 3, 1085: 3, 1073: 3, 1070: 3, 1055: 3, 1047: 3, 1046: 3, 1009: 3, 1007: 3, 1002: 3, 996: 3, 990: 3, 981: 3, 974: 3, 966: 3, 960: 3, 953: 3, 951: 3, 945: 3, 942: 3, 930: 3, 918: 3, 906: 3, 905: 3, 903: 3, 900: 3, 891: 3, 883: 3, 882: 3, 880: 3, 879: 3, 877: 3, 873: 3, 865: 3, 863: 3, 852: 3, 851: 3, 849: 3, 843: 3, 840: 3, 831: 3, 828: 3, 821: 3, 809: 3, 792: 3, 787: 3, 783: 3, 779: 3, 744: 3, 732: 3, 702: 3, 701: 3, 691: 3, 688: 3, 685: 3, 678: 3, 675: 3, 671: 3, 669: 3, 665: 3, 663: 3, 661: 3, 657: 3, 655: 3, 649: 3, 646: 3, 645: 3, 642: 3, 634: 3, 632: 3, 631: 3, 630: 3, 628: 3, 623: 3, 618: 3, 615: 3, 602: 3, 592: 3, 586: 3, 583: 3, 581: 3, 578: 3, 575: 3, 574: 3, 573: 3, 568: 3, 565: 3, 559: 3, 553: 3, 552: 3, 546: 3, 543: 3, 541: 3, 518: 3, 510: 3, 509: 3, 497: 3, 496: 3, 493: 3, 478: 3, 473: 3, 463: 3, 457: 3, 456: 3, 432: 3, 431: 3, 413: 3, 411: 3, 398: 3, 391: 3, 386: 3, 371: 3, 369: 3, 351: 3, 338: 3, 328: 3, 15651: 2, 7768: 2, 7546: 2, 7444: 2, 7416: 2, 7078: 2, 6956: 2, 6452: 2, 6365: 2, 5285: 2, 5129: 2, 4918: 2, 4898: 2, 4895: 2, 4874: 2, 4735: 2, 4377: 2, 4271: 2, 4266: 2, 4218: 2, 4150: 2, 3996: 2, 3870: 2, 3783: 2, 3510: 2, 3495: 2, 3482: 2, 3426: 2, 3377: 2, 3078: 2, 3064: 2, 3031: 2, 2946: 2, 2921: 2, 2898: 2, 2773: 2, 2697: 2, 2689: 2, 2685: 2, 2660: 2, 2650: 2, 2647: 2, 2620: 2, 2606: 2, 2585: 2, 2579: 2, 2560: 2, 2549: 2, 2525: 2, 2509: 2, 2493: 2, 2491: 2, 2446: 2, 2442: 2, 2439: 2, 2367: 2, 2338: 2, 2336: 2, 2328: 2, 2321: 2, 2320: 2, 2297: 2, 2279: 2, 2217: 2, 2172: 2, 2148: 2, 2130: 2, 2108: 2, 2084: 2, 2081: 2, 2066: 2, 2052: 2, 2045: 2, 2039: 2, 2034: 2, 2028: 2, 2024: 2, 2003: 2, 1997: 2, 1990: 2, 1961: 2, 1955: 2, 1923: 2, 1905: 2, 1902: 2, 1893: 2, 1879: 2, 1877: 2, 1872: 2, 1864: 2, 1854: 2, 1842: 2, 1812: 2, 1793: 2, 1787: 2, 1783: 2, 1777: 2, 1767: 2, 1759: 2, 1728: 2, 1725: 2, 1724: 2, 1721: 2, 1720: 2, 1716: 2, 1689: 2, 1681: 2, 1678: 2, 1676: 2, 1657: 2, 1655: 2, 1654: 2, 1636: 2, 1634: 2, 1625: 2, 1623: 2, 1620: 2, 1619: 2, 1618: 2, 1603: 2, 1590: 2, 1588: 2, 1586: 2, 1550: 2, 1541: 2, 1539: 2, 1536: 2, 1523: 2, 1507: 2, 1506: 2, 1503: 2, 1499: 2, 1487: 2, 1478: 2, 1455: 2, 1443: 2, 1442: 2, 1438: 2, 1434: 2, 1433: 2, 1422: 2, 1420: 2, 1418: 2, 1417: 2, 1414: 2, 1412: 2, 1407: 2, 1404: 2, 1396: 2, 1394: 2, 1391: 2, 1382: 2, 1375: 2, 1373: 2, 1372: 2, 1370: 2, 1365: 2, 1362: 2, 1354: 2, 1345: 2, 1337: 2, 1333: 2, 1329: 2, 1327: 2, 1323: 2, 1322: 2, 1321: 2, 1319: 2, 1306: 2, 1303: 2, 1299: 2, 1298: 2, 1290: 2, 1283: 2, 1282: 2, 1275: 2, 1274: 2, 1272: 2, 1265: 2, 1260: 2, 1256: 2, 1255: 2, 1252: 2, 1250: 2, 1248: 2, 1247: 2, 1245: 2, 1244: 2, 1243: 2, 1240: 2, 1236: 2, 1227: 2, 1225: 2, 1221: 2, 1220: 2, 1218: 2, 1216: 2, 1215: 2, 1209: 2, 1199: 2, 1194: 2, 1186: 2, 1185: 2, 1183: 2, 1182: 2, 1179: 2, 1166: 2, 1163: 2, 1157: 2, 1154: 2, 1150: 2, 1148: 2, 1146: 2, 1145: 2, 1140: 2, 1139: 2, 1138: 2, 1133: 2, 1129: 2, 1128: 2, 1122: 2, 1119: 2, 1116: 2, 1114: 2, 1111: 2, 1107: 2, 1101: 2, 1095: 2, 1090: 2, 1089: 2, 1087: 2, 1086: 2, 1084: 2, 1078: 2, 1072: 2, 1071: 2, 1064: 2, 1060: 2, 1057: 2, 1056: 2, 1053: 2, 1049: 2, 1048: 2, 1038: 2, 1037: 2, 1035: 2, 1027: 2, 1019: 2, 1013: 2, 1006: 2, 1005: 2, 989: 2, 985: 2, 983: 2, 980: 2, 978: 2, 977: 2, 969: 2, 967: 2, 964: 2, 963: 2, 952: 2, 947: 2, 946: 2, 944: 2, 943: 2, 934: 2, 933: 2, 927: 2, 921: 2, 920: 2, 919: 2, 916: 2, 913: 2, 912: 2, 910: 2, 908: 2, 904: 2, 899: 2, 898: 2, 897: 2, 894: 2, 893: 2, 890: 2, 886: 2, 884: 2, 881: 2, 869: 2, 868: 2, 861: 2, 859: 2, 856: 2, 855: 2, 845: 2, 844: 2, 839: 2, 832: 2, 830: 2, 829: 2, 826: 2, 822: 2, 818: 2, 815: 2, 813: 2, 812: 2, 810: 2, 808: 2, 804: 2, 803: 2, 802: 2, 801: 2, 796: 2, 793: 2, 784: 2, 782: 2, 780: 2, 778: 2, 777: 2, 776: 2, 769: 2, 767: 2, 765: 2, 760: 2, 754: 2, 753: 2, 752: 2, 750: 2, 749: 2, 747: 2, 742: 2, 739: 2, 737: 2, 736: 2, 735: 2, 733: 2, 730: 2, 729: 2, 726: 2, 721: 2, 720: 2, 718: 2, 712: 2, 710: 2, 706: 2, 703: 2, 700: 2, 698: 2, 690: 2, 689: 2, 683: 2, 682: 2, 681: 2, 672: 2, 670: 2, 668: 2, 660: 2, 656: 2, 639: 2, 638: 2, 637: 2, 629: 2, 624: 2, 619: 2, 617: 2, 612: 2, 611: 2, 608: 2, 607: 2, 595: 2, 594: 2, 587: 2, 582: 2, 580: 2, 564: 2, 562: 2, 558: 2, 557: 2, 551: 2, 549: 2, 547: 2, 545: 2, 538: 2, 534: 2, 522: 2, 516: 2, 503: 2, 501: 2, 485: 2, 471: 2, 466: 2, 455: 2, 451: 2, 441: 2, 438: 2, 430: 2, 422: 2, 417: 2, 412: 2, 388: 2, 367: 2, 151390: 1, 117019: 1, 81054: 1, 67639: 1, 65892: 1, 65713: 1, 64726: 1, 64417: 1, 63562: 1, 54976: 1, 54399: 1, 53281: 1, 48572: 1, 48456: 1, 46554: 1, 46250: 1, 44573: 1, 42768: 1, 42153: 1, 42148: 1, 40717: 1, 40067: 1, 39608: 1, 38720: 1, 38532: 1, 37356: 1, 35998: 1, 35610: 1, 34525: 1, 34093: 1, 33608: 1, 32986: 1, 32955: 1, 31789: 1, 31648: 1, 29141: 1, 27900: 1, 27013: 1, 26585: 1, 26465: 1, 26107: 1, 26019: 1, 25601: 1, 25256: 1, 24423: 1, 24345: 1, 24108: 1, 23978: 1, 23886: 1, 23801: 1, 23470: 1, 22832: 1, 22520: 1, 21607: 1, 21512: 1, 21264: 1, 21217: 1, 21074: 1, 20846: 1, 20348: 1, 20296: 1, 19939: 1, 19903: 1, 19857: 1, 19487: 1, 19275: 1, 19214: 1, 19162: 1, 18669: 1, 18659: 1, 18577: 1, 18463: 1, 18272: 1, 18095: 1, 18010: 1, 17926: 1, 17754: 1, 17750: 1, 17738: 1, 17665: 1, 17555: 1, 17283: 1, 17228: 1, 17074: 1, 17017: 1, 16896: 1, 16830: 1, 16802: 1, 16797: 1, 16646: 1, 16633: 1, 16279: 1, 16216: 1, 15756: 1, 15632: 1, 15598: 1, 15562: 1, 15462: 1, 15372: 1, 15357: 1, 15356: 1, 15270: 1, 15214: 1, 15100: 1, 14568: 1, 14493: 1, 14473: 1, 14429: 1, 14397: 1, 14367: 1, 14189: 1, 14117: 1, 13926: 1, 13822: 1, 13658: 1, 13624: 1, 13610: 1, 13595: 1, 13570: 1, 13556: 1, 13371: 1, 13340: 1, 13171: 1, 12993: 1, 12956: 1, 12932: 1, 12887: 1, 12793: 1, 12723: 1, 12622: 1, 12556: 1, 12531: 1, 12510: 1, 12494: 1, 12488: 1, 12446: 1, 12387: 1, 12367: 1, 12365: 1, 12289: 1, 12261: 1, 12202: 1, 12168: 1, 12090: 1, 12079: 1, 12051: 1, 11968: 1, 11939: 1, 11885: 1, 11862: 1, 11860: 1, 11857: 1, 11853: 1, 11847: 1, 11832: 1, 11788: 1, 11752: 1, 11670: 1, 11656: 1, 11654: 1, 11638: 1, 11491: 1, 11477: 1, 11319: 1, 11256: 1, 11239: 1, 11024: 1, 11021: 1, 10955: 1, 10843: 1, 10717: 1, 10715: 1, 10696: 1, 10688: 1, 10630: 1, 10602: 1, 10586: 1, 10486: 1, 10441: 1, 10324: 1, 10317: 1, 10231: 1, 10226: 1, 10210: 1, 10172: 1, 10137: 1, 10106: 1, 10085: 1, 10033: 1, 10031: 1, 9986: 1, 9921: 1, 9876: 1, 9855: 1, 9851: 1, 9843: 1, 9841: 1, 9774: 1, 9717: 1, 9697: 1, 9658: 1, 9628: 1, 9621: 1, 9563: 1, 9557: 1, 9545: 1, 9539: 1, 9478: 1, 9436: 1, 9409: 1, 9403: 1, 9374: 1, 9337: 1, 9282: 1, 9229: 1, 9210: 1, 9205: 1, 9171: 1, 9119: 1, 9052: 1, 9037: 1, 9032: 1, 9031: 1, 9021: 1, 9005: 1, 8993: 1, 8980: 1, 8946: 1, 8929: 1, 8879: 1, 8875: 1, 8851: 1, 8848: 1, 8816: 1, 8806: 1, 8783: 1, 8675: 1, 8630: 1, 8609: 1, 8582: 1, 8554: 1, 8477: 1, 8420: 1, 8413: 1, 8381: 1, 8344: 1, 8265: 1, 8258: 1, 8255: 1, 8248: 1, 8242: 1, 8223: 1, 8216: 1, 8183: 1, 8123: 1, 8119: 1, 8089: 1, 8073: 1, 8032: 1, 8016: 1, 7996: 1, 7993: 1, 7975: 1, 7969: 1, 7947: 1, 7938: 1, 7917: 1, 7900: 1, 7837: 1, 7805: 1, 7759: 1, 7758: 1, 7749: 1, 7674: 1, 7622: 1, 7575: 1, 7543: 1, 7525: 1, 7506: 1, 7497: 1, 7491: 1, 7489: 1, 7406: 1, 7383: 1, 7349: 1, 7348: 1, 7284: 1, 7238: 1, 7235: 1, 7220: 1, 7164: 1, 7156: 1, 7095: 1, 7082: 1, 7072: 1, 7063: 1, 7052: 1, 7041: 1, 7011: 1, 6986: 1, 6967: 1, 6938: 1, 6933: 1, 6932: 1, 6931: 1, 6888: 1, 6885: 1, 6806: 1, 6765: 1, 6762: 1, 6717: 1, 6713: 1, 6712: 1, 6683: 1, 6664: 1, 6646: 1, 6631: 1, 6621: 1, 6614: 1, 6595: 1, 6576: 1, 6570: 1, 6547: 1, 6528: 1, 6516: 1, 6512: 1, 6498: 1, 6496: 1, 6488: 1, 6483: 1, 6396: 1, 6337: 1, 6318: 1, 6312: 1, 6306: 1, 6304: 1, 6277: 1, 6264: 1, 6262: 1, 6258: 1, 6257: 1, 6244: 1, 6238: 1, 6222: 1, 6218: 1, 6167: 1, 6154: 1, 6144: 1, 6109: 1, 6100: 1, 6080: 1, 6069: 1, 6061: 1, 6057: 1, 6041: 1, 6004: 1, 5972: 1, 5949: 1, 5947: 1, 5940: 1, 5938: 1, 5920: 1, 5915: 1, 5902: 1, 5878: 1, 5871: 1, 5869: 1, 5867: 1, 5850: 1, 5834: 1, 5819: 1, 5817: 1, 5816: 1, 5797: 1, 5782: 1, 5761: 1, 5745: 1, 5710: 1, 5700: 1, 5683: 1, 5672: 1, 5668: 1, 5653: 1, 5649: 1, 5631: 1, 5582: 1, 5578: 1, 5505: 1, 5503: 1, 5495: 1, 5455: 1, 5450: 1, 5435: 1, 5428: 1, 5418: 1, 5413: 1, 5410: 1, 5399: 1, 5369: 1, 5367: 1, 5362: 1, 5350: 1, 5334: 1, 5320: 1, 5301: 1, 5284: 1, 5251: 1, 5236: 1, 5235: 1, 5226: 1, 5216: 1, 5198: 1, 5174: 1, 5171: 1, 5138: 1, 5118: 1, 5107: 1, 5101: 1, 5086: 1, 5078: 1, 5062: 1, 5050: 1, 5039: 1, 5035: 1, 4995: 1, 4985: 1, 4975: 1, 4970: 1, 4964: 1, 4959: 1, 4950: 1, 4946: 1, 4938: 1, 4937: 1, 4927: 1, 4926: 1, 4914: 1, 4894: 1, 4879: 1, 4876: 1, 4875: 1, 4867: 1, 4866: 1, 4861: 1, 4842: 1, 4810: 1, 4800: 1, 4793: 1, 4789: 1, 4779: 1, 4777: 1, 4769: 1, 4750: 1, 4743: 1, 4722: 1, 4713: 1, 4712: 1, 4696: 1, 4688: 1, 4685: 1, 4677: 1, 4676: 1, 4672: 1, 4671: 1, 4669: 1, 4664: 1, 4659: 1, 4645: 1, 4630: 1, 4622: 1, 4596: 1, 4583: 1, 4570: 1, 4556: 1, 4552: 1, 4533: 1, 4532: 1, 4528: 1, 4526: 1, 4515: 1, 4503: 1, 4497: 1, 4478: 1, 4472: 1, 4434: 1, 4421: 1, 4418: 1, 4414: 1, 4413: 1, 4399: 1, 4397: 1, 4375: 1, 4365: 1, 4364: 1, 4356: 1, 4355: 1, 4339: 1, 4324: 1, 4320: 1, 4312: 1, 4310: 1, 4298: 1, 4288: 1, 4274: 1, 4264: 1, 4263: 1, 4255: 1, 4253: 1, 4248: 1, 4242: 1, 4229: 1, 4215: 1, 4210: 1, 4207: 1, 4204: 1, 4197: 1, 4193: 1, 4187: 1, 4183: 1, 4163: 1, 4159: 1, 4145: 1, 4144: 1, 4141: 1, 4134: 1, 4123: 1, 4114: 1, 4089: 1, 4077: 1, 4068: 1, 4061: 1, 4059: 1, 4058: 1, 4043: 1, 4037: 1, 4029: 1, 4019: 1, 4018: 1, 4016: 1, 4006: 1, 3987: 1, 3979: 1, 3976: 1, 3973: 1, 3966: 1, 3964: 1, 3960: 1, 3958: 1, 3946: 1, 3944: 1, 3939: 1, 3924: 1, 3919: 1, 3911: 1, 3905: 1, 3902: 1, 3893: 1, 3887: 1, 3881: 1, 3880: 1, 3866: 1, 3865: 1, 3863: 1, 3862: 1, 3848: 1, 3844: 1, 3842: 1, 3828: 1, 3821: 1, 3813: 1, 3799: 1, 3797: 1, 3784: 1, 3776: 1, 3775: 1, 3769: 1, 3768: 1, 3749: 1, 3747: 1, 3744: 1, 3740: 1, 3739: 1, 3731: 1, 3730: 1, 3718: 1, 3713: 1, 3694: 1, 3693: 1, 3691: 1, 3688: 1, 3684: 1, 3681: 1, 3675: 1, 3667: 1, 3659: 1, 3651: 1, 3643: 1, 3637: 1, 3632: 1, 3622: 1, 3611: 1, 3606: 1, 3605: 1, 3604: 1, 3596: 1, 3595: 1, 3591: 1, 3590: 1, 3589: 1, 3578: 1, 3575: 1, 3568: 1, 3543: 1, 3540: 1, 3532: 1, 3525: 1, 3524: 1, 3521: 1, 3520: 1, 3515: 1, 3512: 1, 3507: 1, 3491: 1, 3488: 1, 3487: 1, 3483: 1, 3475: 1, 3473: 1, 3470: 1, 3468: 1, 3462: 1, 3461: 1, 3459: 1, 3451: 1, 3449: 1, 3448: 1, 3444: 1, 3442: 1, 3441: 1, 3434: 1, 3430: 1, 3421: 1, 3415: 1, 3409: 1, 3406: 1, 3396: 1, 3393: 1, 3388: 1, 3382: 1, 3381: 1, 3376: 1, 3370: 1, 3367: 1, 3365: 1, 3364: 1, 3361: 1, 3360: 1, 3348: 1, 3347: 1, 3345: 1, 3340: 1, 3328: 1, 3324: 1, 3322: 1, 3311: 1, 3306: 1, 3305: 1, 3290: 1, 3287: 1, 3284: 1, 3272: 1, 3260: 1, 3258: 1, 3257: 1, 3252: 1, 3250: 1, 3245: 1, 3241: 1, 3233: 1, 3228: 1, 3227: 1, 3226: 1, 3221: 1, 3217: 1, 3211: 1, 3201: 1, 3197: 1, 3194: 1, 3191: 1, 3190: 1, 3187: 1, 3186: 1, 3176: 1, 3168: 1, 3161: 1, 3158: 1, 3155: 1, 3152: 1, 3151: 1, 3143: 1, 3133: 1, 3131: 1, 3118: 1, 3117: 1, 3114: 1, 3106: 1, 3103: 1, 3099: 1, 3096: 1, 3095: 1, 3092: 1, 3091: 1, 3090: 1, 3080: 1, 3077: 1, 3073: 1, 3072: 1, 3071: 1, 3055: 1, 3051: 1, 3046: 1, 3043: 1, 3041: 1, 3040: 1, 3038: 1, 3037: 1, 3030: 1, 3027: 1, 3026: 1, 3025: 1, 3023: 1, 3019: 1, 3010: 1, 3005: 1, 2993: 1, 2981: 1, 2964: 1, 2959: 1, 2958: 1, 2957: 1, 2951: 1, 2943: 1, 2940: 1, 2931: 1, 2924: 1, 2923: 1, 2917: 1, 2914: 1, 2909: 1, 2908: 1, 2907: 1, 2901: 1, 2889: 1, 2883: 1, 2882: 1, 2880: 1, 2877: 1, 2875: 1, 2864: 1, 2863: 1, 2859: 1, 2851: 1, 2847: 1, 2839: 1, 2830: 1, 2825: 1, 2814: 1, 2809: 1, 2807: 1, 2801: 1, 2797: 1, 2792: 1, 2781: 1, 2776: 1, 2774: 1, 2770: 1, 2764: 1, 2762: 1, 2761: 1, 2760: 1, 2756: 1, 2753: 1, 2750: 1, 2748: 1, 2746: 1, 2738: 1, 2736: 1, 2727: 1, 2724: 1, 2721: 1, 2720: 1, 2714: 1, 2710: 1, 2699: 1, 2691: 1, 2680: 1, 2677: 1, 2676: 1, 2671: 1, 2662: 1, 2661: 1, 2651: 1, 2646: 1, 2643: 1, 2639: 1, 2637: 1, 2632: 1, 2625: 1, 2619: 1, 2615: 1, 2614: 1, 2613: 1, 2611: 1, 2610: 1, 2599: 1, 2598: 1, 2597: 1, 2590: 1, 2574: 1, 2568: 1, 2567: 1, 2564: 1, 2562: 1, 2554: 1, 2543: 1, 2541: 1, 2537: 1, 2533: 1, 2530: 1, 2529: 1, 2527: 1, 2523: 1, 2521: 1, 2506: 1, 2504: 1, 2501: 1, 2499: 1, 2497: 1, 2496: 1, 2495: 1, 2487: 1, 2481: 1, 2477: 1, 2472: 1, 2471: 1, 2467: 1, 2463: 1, 2459: 1, 2458: 1, 2454: 1, 2453: 1, 2448: 1, 2444: 1, 2440: 1, 2438: 1, 2437: 1, 2434: 1, 2431: 1, 2429: 1, 2427: 1, 2425: 1, 2424: 1, 2423: 1, 2422: 1, 2421: 1, 2418: 1, 2415: 1, 2411: 1, 2407: 1, 2402: 1, 2397: 1, 2396: 1, 2391: 1, 2387: 1, 2385: 1, 2382: 1, 2379: 1, 2377: 1, 2373: 1, 2372: 1, 2365: 1, 2358: 1, 2354: 1, 2353: 1, 2351: 1, 2347: 1, 2345: 1, 2337: 1, 2330: 1, 2322: 1, 2319: 1, 2316: 1, 2314: 1, 2312: 1, 2311: 1, 2308: 1, 2305: 1, 2301: 1, 2286: 1, 2281: 1, 2280: 1, 2278: 1, 2276: 1, 2270: 1, 2268: 1, 2258: 1, 2254: 1, 2252: 1, 2249: 1, 2244: 1, 2240: 1, 2238: 1, 2237: 1, 2231: 1, 2230: 1, 2226: 1, 2221: 1, 2219: 1, 2213: 1, 2208: 1, 2205: 1, 2204: 1, 2203: 1, 2200: 1, 2199: 1, 2197: 1, 2189: 1, 2188: 1, 2186: 1, 2185: 1, 2182: 1, 2180: 1, 2176: 1, 2175: 1, 2173: 1, 2171: 1, 2170: 1, 2165: 1, 2163: 1, 2156: 1, 2154: 1, 2150: 1, 2141: 1, 2139: 1, 2136: 1, 2133: 1, 2128: 1, 2127: 1, 2126: 1, 2123: 1, 2122: 1, 2121: 1, 2120: 1, 2116: 1, 2115: 1, 2112: 1, 2111: 1, 2104: 1, 2103: 1, 2101: 1, 2100: 1, 2099: 1, 2098: 1, 2096: 1, 2095: 1, 2091: 1, 2088: 1, 2086: 1, 2085: 1, 2079: 1, 2077: 1, 2074: 1, 2068: 1, 2067: 1, 2062: 1, 2053: 1, 2043: 1, 2042: 1, 2032: 1, 2029: 1, 2027: 1, 2017: 1, 2015: 1, 2007: 1, 2006: 1, 2004: 1, 1995: 1, 1993: 1, 1989: 1, 1987: 1, 1986: 1, 1983: 1, 1981: 1, 1980: 1, 1977: 1, 1976: 1, 1971: 1, 1966: 1, 1963: 1, 1962: 1, 1960: 1, 1953: 1, 1951: 1, 1944: 1, 1943: 1, 1936: 1, 1935: 1, 1930: 1, 1929: 1, 1927: 1, 1925: 1, 1924: 1, 1922: 1, 1921: 1, 1919: 1, 1918: 1, 1914: 1, 1910: 1, 1909: 1, 1906: 1, 1904: 1, 1901: 1, 1899: 1, 1892: 1, 1891: 1, 1890: 1, 1889: 1, 1887: 1, 1885: 1, 1883: 1, 1882: 1, 1878: 1, 1876: 1, 1869: 1, 1868: 1, 1867: 1, 1863: 1, 1858: 1, 1856: 1, 1852: 1, 1850: 1, 1849: 1, 1848: 1, 1841: 1, 1839: 1, 1837: 1, 1835: 1, 1834: 1, 1831: 1, 1829: 1, 1822: 1, 1821: 1, 1820: 1, 1814: 1, 1813: 1, 1803: 1, 1800: 1, 1797: 1, 1796: 1, 1795: 1, 1785: 1, 1782: 1, 1781: 1, 1780: 1, 1779: 1, 1778: 1, 1772: 1, 1771: 1, 1768: 1, 1766: 1, 1765: 1, 1760: 1, 1758: 1, 1755: 1, 1753: 1, 1750: 1, 1749: 1, 1748: 1, 1746: 1, 1741: 1, 1737: 1, 1736: 1, 1735: 1, 1726: 1, 1713: 1, 1712: 1, 1708: 1, 1706: 1, 1703: 1, 1702: 1, 1699: 1, 1698: 1, 1695: 1, 1694: 1, 1690: 1, 1680: 1, 1677: 1, 1675: 1, 1671: 1, 1669: 1, 1667: 1, 1662: 1, 1656: 1, 1650: 1, 1649: 1, 1648: 1, 1645: 1, 1644: 1, 1642: 1, 1641: 1, 1640: 1, 1633: 1, 1632: 1, 1624: 1, 1617: 1, 1616: 1, 1610: 1, 1607: 1, 1606: 1, 1605: 1, 1600: 1, 1596: 1, 1595: 1, 1587: 1, 1581: 1, 1578: 1, 1575: 1, 1572: 1, 1571: 1, 1569: 1, 1568: 1, 1562: 1, 1560: 1, 1559: 1, 1554: 1, 1552: 1, 1549: 1, 1548: 1, 1547: 1, 1546: 1, 1542: 1, 1537: 1, 1534: 1, 1533: 1, 1532: 1, 1531: 1, 1530: 1, 1526: 1, 1525: 1, 1524: 1, 1519: 1, 1517: 1, 1514: 1, 1513: 1, 1512: 1, 1508: 1, 1505: 1, 1502: 1, 1501: 1, 1500: 1, 1497: 1, 1496: 1, 1494: 1, 1493: 1, 1491: 1, 1486: 1, 1483: 1, 1481: 1, 1480: 1, 1479: 1, 1474: 1, 1472: 1, 1469: 1, 1464: 1, 1461: 1, 1458: 1, 1456: 1, 1454: 1, 1451: 1, 1450: 1, 1449: 1, 1446: 1, 1445: 1, 1444: 1, 1441: 1, 1436: 1, 1435: 1, 1432: 1, 1431: 1, 1430: 1, 1429: 1, 1427: 1, 1426: 1, 1423: 1, 1421: 1, 1419: 1, 1410: 1, 1408: 1, 1406: 1, 1402: 1, 1401: 1, 1400: 1, 1399: 1, 1397: 1, 1395: 1, 1390: 1, 1388: 1, 1385: 1, 1384: 1, 1378: 1, 1377: 1, 1368: 1, 1367: 1, 1361: 1, 1359: 1, 1353: 1, 1351: 1, 1350: 1, 1349: 1, 1348: 1, 1346: 1, 1344: 1, 1343: 1, 1338: 1, 1332: 1, 1331: 1, 1326: 1, 1318: 1, 1315: 1, 1314: 1, 1313: 1, 1312: 1, 1311: 1, 1309: 1, 1307: 1, 1305: 1, 1304: 1, 1302: 1, 1297: 1, 1296: 1, 1295: 1, 1288: 1, 1287: 1, 1286: 1, 1281: 1, 1277: 1, 1273: 1, 1270: 1, 1266: 1, 1263: 1, 1258: 1, 1254: 1, 1253: 1, 1239: 1, 1237: 1, 1233: 1, 1230: 1, 1229: 1, 1224: 1, 1223: 1, 1213: 1, 1210: 1, 1208: 1, 1206: 1, 1204: 1, 1203: 1, 1202: 1, 1197: 1, 1192: 1, 1181: 1, 1180: 1, 1177: 1, 1176: 1, 1175: 1, 1172: 1, 1169: 1, 1168: 1, 1164: 1, 1161: 1, 1160: 1, 1156: 1, 1155: 1, 1153: 1, 1152: 1, 1149: 1, 1147: 1, 1137: 1, 1136: 1, 1135: 1, 1131: 1, 1130: 1, 1126: 1, 1123: 1, 1117: 1, 1115: 1, 1113: 1, 1110: 1, 1105: 1, 1096: 1, 1092: 1, 1091: 1, 1083: 1, 1080: 1, 1079: 1, 1077: 1, 1076: 1, 1074: 1, 1069: 1, 1068: 1, 1067: 1, 1066: 1, 1058: 1, 1051: 1, 1044: 1, 1040: 1, 1039: 1, 1036: 1, 1034: 1, 1033: 1, 1032: 1, 1030: 1, 1028: 1, 1026: 1, 1024: 1, 1023: 1, 1022: 1, 1021: 1, 1020: 1, 1018: 1, 1017: 1, 1016: 1, 1012: 1, 1011: 1, 1010: 1, 1004: 1, 1003: 1, 998: 1, 995: 1, 994: 1, 992: 1, 991: 1, 984: 1, 982: 1, 976: 1, 975: 1, 973: 1, 972: 1, 970: 1, 968: 1, 965: 1, 961: 1, 957: 1, 956: 1, 955: 1, 950: 1, 949: 1, 948: 1, 941: 1, 938: 1, 937: 1, 936: 1, 931: 1, 929: 1, 924: 1, 915: 1, 914: 1, 911: 1, 907: 1, 888: 1, 887: 1, 885: 1, 872: 1, 858: 1, 853: 1, 847: 1, 846: 1, 842: 1, 838: 1, 837: 1, 836: 1, 834: 1, 833: 1, 827: 1, 825: 1, 824: 1, 819: 1, 811: 1, 807: 1, 806: 1, 800: 1, 799: 1, 798: 1, 797: 1, 795: 1, 794: 1, 791: 1, 773: 1, 770: 1, 762: 1, 761: 1, 759: 1, 756: 1, 751: 1, 748: 1, 740: 1, 738: 1, 727: 1, 725: 1, 724: 1, 722: 1, 717: 1, 715: 1, 714: 1, 708: 1, 707: 1, 697: 1, 694: 1, 693: 1, 684: 1, 680: 1, 677: 1, 664: 1, 662: 1, 659: 1, 650: 1, 647: 1, 635: 1, 627: 1, 626: 1, 616: 1, 605: 1, 598: 1, 596: 1, 589: 1, 588: 1, 571: 1, 566: 1, 563: 1, 561: 1, 542: 1, 533: 1, 529: 1, 521: 1, 519: 1, 470: 1, 465: 1, 448: 1})\n"
     ]
    }
   ],
   "source": [
    "sorted_train_features_dict = dict(sorted(train_features_dict.items(),key = lambda x:x[1],reverse = True))\n",
    "sorted_text_occur = np.array(list(sorted_train_features_dict.values()))\n",
    "#Number of words for a given frequency\n",
    "print(Counter(sorted_text_occur))"
   ]
  },
  {
   "cell_type": "code",
   "execution_count": 58,
   "metadata": {},
   "outputs": [
    {
     "name": "stderr",
     "output_type": "stream",
     "text": [
      "/home/krupal/anaconda3/lib/python3.6/site-packages/sklearn/linear_model/stochastic_gradient.py:166: FutureWarning: max_iter and tol parameters have been added in SGDClassifier in 0.19. If both are left unset, they default to max_iter=5 and tol=None. If tol is not None, max_iter defaults to max_iter=1000. From 0.21, default max_iter will be 1000, and default tol will be 1e-3.\n",
      "  FutureWarning)\n",
      "/home/krupal/anaconda3/lib/python3.6/site-packages/sklearn/model_selection/_split.py:2053: FutureWarning: You should specify a value for 'cv' instead of relying on the default value. The default value will change from 3 to 5 in version 0.22.\n",
      "  warnings.warn(CV_WARNING, FutureWarning)\n",
      "/home/krupal/anaconda3/lib/python3.6/site-packages/sklearn/linear_model/stochastic_gradient.py:166: FutureWarning: max_iter and tol parameters have been added in SGDClassifier in 0.19. If both are left unset, they default to max_iter=5 and tol=None. If tol is not None, max_iter defaults to max_iter=1000. From 0.21, default max_iter will be 1000, and default tol will be 1e-3.\n",
      "  FutureWarning)\n",
      "/home/krupal/anaconda3/lib/python3.6/site-packages/sklearn/linear_model/stochastic_gradient.py:166: FutureWarning: max_iter and tol parameters have been added in SGDClassifier in 0.19. If both are left unset, they default to max_iter=5 and tol=None. If tol is not None, max_iter defaults to max_iter=1000. From 0.21, default max_iter will be 1000, and default tol will be 1e-3.\n",
      "  FutureWarning)\n",
      "/home/krupal/anaconda3/lib/python3.6/site-packages/sklearn/linear_model/stochastic_gradient.py:166: FutureWarning: max_iter and tol parameters have been added in SGDClassifier in 0.19. If both are left unset, they default to max_iter=5 and tol=None. If tol is not None, max_iter defaults to max_iter=1000. From 0.21, default max_iter will be 1000, and default tol will be 1e-3.\n",
      "  FutureWarning)\n"
     ]
    },
    {
     "name": "stdout",
     "output_type": "stream",
     "text": [
      "For values of alpha =  0.001 The log loss is: 1.37143196453\n"
     ]
    },
    {
     "name": "stderr",
     "output_type": "stream",
     "text": [
      "/home/krupal/anaconda3/lib/python3.6/site-packages/sklearn/linear_model/stochastic_gradient.py:166: FutureWarning: max_iter and tol parameters have been added in SGDClassifier in 0.19. If both are left unset, they default to max_iter=5 and tol=None. If tol is not None, max_iter defaults to max_iter=1000. From 0.21, default max_iter will be 1000, and default tol will be 1e-3.\n",
      "  FutureWarning)\n",
      "/home/krupal/anaconda3/lib/python3.6/site-packages/sklearn/model_selection/_split.py:2053: FutureWarning: You should specify a value for 'cv' instead of relying on the default value. The default value will change from 3 to 5 in version 0.22.\n",
      "  warnings.warn(CV_WARNING, FutureWarning)\n",
      "/home/krupal/anaconda3/lib/python3.6/site-packages/sklearn/linear_model/stochastic_gradient.py:166: FutureWarning: max_iter and tol parameters have been added in SGDClassifier in 0.19. If both are left unset, they default to max_iter=5 and tol=None. If tol is not None, max_iter defaults to max_iter=1000. From 0.21, default max_iter will be 1000, and default tol will be 1e-3.\n",
      "  FutureWarning)\n",
      "/home/krupal/anaconda3/lib/python3.6/site-packages/sklearn/linear_model/stochastic_gradient.py:166: FutureWarning: max_iter and tol parameters have been added in SGDClassifier in 0.19. If both are left unset, they default to max_iter=5 and tol=None. If tol is not None, max_iter defaults to max_iter=1000. From 0.21, default max_iter will be 1000, and default tol will be 1e-3.\n",
      "  FutureWarning)\n",
      "/home/krupal/anaconda3/lib/python3.6/site-packages/sklearn/linear_model/stochastic_gradient.py:166: FutureWarning: max_iter and tol parameters have been added in SGDClassifier in 0.19. If both are left unset, they default to max_iter=5 and tol=None. If tol is not None, max_iter defaults to max_iter=1000. From 0.21, default max_iter will be 1000, and default tol will be 1e-3.\n",
      "  FutureWarning)\n"
     ]
    },
    {
     "name": "stdout",
     "output_type": "stream",
     "text": [
      "For values of alpha =  0.01 The log loss is: 1.48412640712\n"
     ]
    },
    {
     "name": "stderr",
     "output_type": "stream",
     "text": [
      "/home/krupal/anaconda3/lib/python3.6/site-packages/sklearn/linear_model/stochastic_gradient.py:166: FutureWarning: max_iter and tol parameters have been added in SGDClassifier in 0.19. If both are left unset, they default to max_iter=5 and tol=None. If tol is not None, max_iter defaults to max_iter=1000. From 0.21, default max_iter will be 1000, and default tol will be 1e-3.\n",
      "  FutureWarning)\n",
      "/home/krupal/anaconda3/lib/python3.6/site-packages/sklearn/model_selection/_split.py:2053: FutureWarning: You should specify a value for 'cv' instead of relying on the default value. The default value will change from 3 to 5 in version 0.22.\n",
      "  warnings.warn(CV_WARNING, FutureWarning)\n",
      "/home/krupal/anaconda3/lib/python3.6/site-packages/sklearn/linear_model/stochastic_gradient.py:166: FutureWarning: max_iter and tol parameters have been added in SGDClassifier in 0.19. If both are left unset, they default to max_iter=5 and tol=None. If tol is not None, max_iter defaults to max_iter=1000. From 0.21, default max_iter will be 1000, and default tol will be 1e-3.\n",
      "  FutureWarning)\n",
      "/home/krupal/anaconda3/lib/python3.6/site-packages/sklearn/linear_model/stochastic_gradient.py:166: FutureWarning: max_iter and tol parameters have been added in SGDClassifier in 0.19. If both are left unset, they default to max_iter=5 and tol=None. If tol is not None, max_iter defaults to max_iter=1000. From 0.21, default max_iter will be 1000, and default tol will be 1e-3.\n",
      "  FutureWarning)\n",
      "/home/krupal/anaconda3/lib/python3.6/site-packages/sklearn/linear_model/stochastic_gradient.py:166: FutureWarning: max_iter and tol parameters have been added in SGDClassifier in 0.19. If both are left unset, they default to max_iter=5 and tol=None. If tol is not None, max_iter defaults to max_iter=1000. From 0.21, default max_iter will be 1000, and default tol will be 1e-3.\n",
      "  FutureWarning)\n"
     ]
    },
    {
     "name": "stdout",
     "output_type": "stream",
     "text": [
      "For values of alpha =  0.1 The log loss is: 1.68004385412\n"
     ]
    },
    {
     "name": "stderr",
     "output_type": "stream",
     "text": [
      "/home/krupal/anaconda3/lib/python3.6/site-packages/sklearn/linear_model/stochastic_gradient.py:166: FutureWarning: max_iter and tol parameters have been added in SGDClassifier in 0.19. If both are left unset, they default to max_iter=5 and tol=None. If tol is not None, max_iter defaults to max_iter=1000. From 0.21, default max_iter will be 1000, and default tol will be 1e-3.\n",
      "  FutureWarning)\n",
      "/home/krupal/anaconda3/lib/python3.6/site-packages/sklearn/model_selection/_split.py:2053: FutureWarning: You should specify a value for 'cv' instead of relying on the default value. The default value will change from 3 to 5 in version 0.22.\n",
      "  warnings.warn(CV_WARNING, FutureWarning)\n",
      "/home/krupal/anaconda3/lib/python3.6/site-packages/sklearn/linear_model/stochastic_gradient.py:166: FutureWarning: max_iter and tol parameters have been added in SGDClassifier in 0.19. If both are left unset, they default to max_iter=5 and tol=None. If tol is not None, max_iter defaults to max_iter=1000. From 0.21, default max_iter will be 1000, and default tol will be 1e-3.\n",
      "  FutureWarning)\n",
      "/home/krupal/anaconda3/lib/python3.6/site-packages/sklearn/linear_model/stochastic_gradient.py:166: FutureWarning: max_iter and tol parameters have been added in SGDClassifier in 0.19. If both are left unset, they default to max_iter=5 and tol=None. If tol is not None, max_iter defaults to max_iter=1000. From 0.21, default max_iter will be 1000, and default tol will be 1e-3.\n",
      "  FutureWarning)\n",
      "/home/krupal/anaconda3/lib/python3.6/site-packages/sklearn/linear_model/stochastic_gradient.py:166: FutureWarning: max_iter and tol parameters have been added in SGDClassifier in 0.19. If both are left unset, they default to max_iter=5 and tol=None. If tol is not None, max_iter defaults to max_iter=1000. From 0.21, default max_iter will be 1000, and default tol will be 1e-3.\n",
      "  FutureWarning)\n"
     ]
    },
    {
     "name": "stdout",
     "output_type": "stream",
     "text": [
      "For values of alpha =  1 The log loss is: 1.84306321192\n"
     ]
    },
    {
     "name": "stderr",
     "output_type": "stream",
     "text": [
      "/home/krupal/anaconda3/lib/python3.6/site-packages/sklearn/linear_model/stochastic_gradient.py:166: FutureWarning: max_iter and tol parameters have been added in SGDClassifier in 0.19. If both are left unset, they default to max_iter=5 and tol=None. If tol is not None, max_iter defaults to max_iter=1000. From 0.21, default max_iter will be 1000, and default tol will be 1e-3.\n",
      "  FutureWarning)\n",
      "/home/krupal/anaconda3/lib/python3.6/site-packages/sklearn/model_selection/_split.py:2053: FutureWarning: You should specify a value for 'cv' instead of relying on the default value. The default value will change from 3 to 5 in version 0.22.\n",
      "  warnings.warn(CV_WARNING, FutureWarning)\n",
      "/home/krupal/anaconda3/lib/python3.6/site-packages/sklearn/linear_model/stochastic_gradient.py:166: FutureWarning: max_iter and tol parameters have been added in SGDClassifier in 0.19. If both are left unset, they default to max_iter=5 and tol=None. If tol is not None, max_iter defaults to max_iter=1000. From 0.21, default max_iter will be 1000, and default tol will be 1e-3.\n",
      "  FutureWarning)\n",
      "/home/krupal/anaconda3/lib/python3.6/site-packages/sklearn/linear_model/stochastic_gradient.py:166: FutureWarning: max_iter and tol parameters have been added in SGDClassifier in 0.19. If both are left unset, they default to max_iter=5 and tol=None. If tol is not None, max_iter defaults to max_iter=1000. From 0.21, default max_iter will be 1000, and default tol will be 1e-3.\n",
      "  FutureWarning)\n",
      "/home/krupal/anaconda3/lib/python3.6/site-packages/sklearn/linear_model/stochastic_gradient.py:166: FutureWarning: max_iter and tol parameters have been added in SGDClassifier in 0.19. If both are left unset, they default to max_iter=5 and tol=None. If tol is not None, max_iter defaults to max_iter=1000. From 0.21, default max_iter will be 1000, and default tol will be 1e-3.\n",
      "  FutureWarning)\n"
     ]
    },
    {
     "name": "stdout",
     "output_type": "stream",
     "text": [
      "For values of alpha =  10 The log loss is: 1.86254217811\n"
     ]
    }
   ],
   "source": [
    "#Building a model for evaluation of features columns\n",
    "cv_log_error_array=[]\n",
    "for i in alpha:\n",
    "    clf = SGDClassifier(alpha=i, penalty='l2', loss='log', random_state=42)\n",
    "    clf.fit(train_text_vector, y_train)\n",
    "    \n",
    "    sig_clf = CalibratedClassifierCV(clf, method=\"sigmoid\")\n",
    "    sig_clf.fit(train_text_vector, y_train)\n",
    "    predict_y = sig_clf.predict_proba(cv_text_vector)\n",
    "    cv_log_error_array.append(log_loss(y_cv, predict_y, eps=1e-15))\n",
    "    print('For values of alpha = ', i, \"The log loss is:\",log_loss(y_cv, predict_y, eps=1e-15))\n"
   ]
  },
  {
   "cell_type": "code",
   "execution_count": 59,
   "metadata": {},
   "outputs": [
    {
     "data": {
      "image/png": "[encoded data removed]",
      "text/plain": [
       "<Figure size 432x288 with 1 Axes>"
      ]
     },
     "metadata": {
      "needs_background": "light"
     },
     "output_type": "display_data"
    }
   ],
   "source": [
    "fig, ax = plt.subplots()\n",
    "\n",
    "ax.plot(alpha, cv_log_error_array)\n",
    "for i,txt in enumerate(np.round(cv_log_error_array,3)):\n",
    "    ax.annotate((alpha[i],np.round(txt,3)),(alpha[i],cv_log_error_array[i]))\n",
    "plt.grid()\n",
    "plt.title(\"CV Error for each alpha\")\n",
    "plt.xlabel(\"Alpha's\")\n",
    "plt.ylabel(\"Log_loss_Error\")\n",
    "plt.show()"
   ]
  },
  {
   "cell_type": "code",
   "execution_count": 60,
   "metadata": {},
   "outputs": [],
   "source": [
    "#Checking the overlapping of feature data in test and cv \n",
    "def word_intersect(df):\n",
    "    df_vectorizer = CountVectorizer(min_df = 2)\n",
    "    df_text_vectorize = df_vectorizer.fit_transform(df['TEXT'])\n",
    "    df_text_features = df_vectorizer.get_feature_names()\n",
    "    l1 = len(set(df_text_features))\n",
    "    l2 = len(set(train_text_features) and set(df_text_features))\n",
    "    return l1,l2"
   ]
  },
  {
   "cell_type": "code",
   "execution_count": 61,
   "metadata": {},
   "outputs": [
    {
     "name": "stdout",
     "output_type": "stream",
     "text": [
      "100.0 % of word of test data appeared in train data\n",
      "100.0 % of word of Cross Validation appeared in train data\n"
     ]
    }
   ],
   "source": [
    "len1,len2 = word_intersect(X_test)\n",
    "print(np.round((len2/len1)*100, 3), \"% of word of test data appeared in train data\")\n",
    "len1,len2 = word_intersect(X_cv)\n",
    "print(np.round((len2/len1)*100, 3), \"% of word of Cross Validation appeared in train data\")"
   ]
  },
  {
   "cell_type": "code",
   "execution_count": 62,
   "metadata": {},
   "outputs": [],
   "source": [
    "#Preparing data for different Machine Learning Models\n",
    "def report_log_loss(train_x, train_y, test_x, test_y,  clf):\n",
    "    clf.fit(train_x, train_y)\n",
    "    sig_clf = CalibratedClassifierCV(clf, method=\"sigmoid\")\n",
    "    sig_clf.fit(train_x, train_y)\n",
    "    sig_clf_probs = sig_clf.predict_proba(test_x)\n",
    "    return log_loss(test_y, sig_clf_probs, eps=1e-15)"
   ]
  },
  {
   "cell_type": "code",
   "execution_count": 63,
   "metadata": {},
   "outputs": [],
   "source": [
    "#Function to plot confusion matrix\n",
    "def plot_confusion_matrix(test_y,predicted_y):\n",
    "    C = confusion_matrix(test_y, predict_y)\n",
    "    labels = [1,2,3,4,5,6,7,8,9]\n",
    "    print(\" \"*20, \"Confusion matrix\", \" \"*20)\n",
    "    plt.figure(figsize=(20,7))\n",
    "    sn.heatmap(C, annot=True, cmap=\"YlGnBu\", xticklabels=labels, yticklabels=labels)\n",
    "    plt.xlabel('Predicted Class')\n",
    "    plt.ylabel('Original Class')\n",
    "    plt.show()\n"
   ]
  },
  {
   "cell_type": "code",
   "execution_count": 64,
   "metadata": {},
   "outputs": [],
   "source": [
    "#Function to print number of missclassified points\n",
    "def missclassified_points(test_y,predicted_y):\n",
    "    num = np.count_nonzero((predicted_y - test_y))/test_y.shape[0]\n",
    "    print(\"Number of missclassified points are: \",num)\n",
    "    return num"
   ]
  },
  {
   "cell_type": "code",
   "execution_count": 65,
   "metadata": {},
   "outputs": [],
   "source": [
    "#Combining all three features to create training and test sets\n",
    "\n",
    "training_X = hstack((train_gene_vector,train_variation_vector))\n",
    "training_X = hstack((training_X,train_text_vector)).tocsr()\n",
    "training_Y = np.array(list(X_train['Class']))\n",
    "test_X = hstack((test_gene_vector,test_variation_vector))\n",
    "test_X = hstack((test_X,test_text_vector)).tocsr()\n",
    "test_Y = np.array(list(X_test['Class']))\n",
    "cv_X = hstack((cv_gene_vector,cv_variation_vector))\n",
    "cv_X = hstack((cv_X,cv_text_vector)).tocsr()\n",
    "cv_Y = np.array(list(X_cv['Class']))\n"
   ]
  },
  {
   "cell_type": "code",
   "execution_count": 66,
   "metadata": {},
   "outputs": [
    {
     "name": "stdout",
     "output_type": "stream",
     "text": [
      "number of data points in train data =  2124\n",
      "number of data points number of features in test data =  665\n",
      "number of data points number of features in cross validation data = 532\n"
     ]
    }
   ],
   "source": [
    "print(\"number of data points in train data = \", training_X.shape[0])\n",
    "print(\"number of data points number of features in test data = \", test_X.shape[0])\n",
    "print(\"number of data points number of features in cross validation data =\", cv_X.shape[0])"
   ]
  },
  {
   "cell_type": "markdown",
   "metadata": {},
   "source": [
    "# Building Machine Learning Models"
   ]
  },
  {
   "cell_type": "markdown",
   "metadata": {},
   "source": [
    "# Naive Bayes"
   ]
  },
  {
   "cell_type": "code",
   "execution_count": 67,
   "metadata": {},
   "outputs": [
    {
     "name": "stdout",
     "output_type": "stream",
     "text": [
      "for alpha = 1e-05\n"
     ]
    },
    {
     "name": "stderr",
     "output_type": "stream",
     "text": [
      "/home/krupal/anaconda3/lib/python3.6/site-packages/sklearn/model_selection/_split.py:2053: FutureWarning: You should specify a value for 'cv' instead of relying on the default value. The default value will change from 3 to 5 in version 0.22.\n",
      "  warnings.warn(CV_WARNING, FutureWarning)\n"
     ]
    },
    {
     "name": "stdout",
     "output_type": "stream",
     "text": [
      "Log Loss : 1.36316814081\n",
      "for alpha = 0.0001\n"
     ]
    },
    {
     "name": "stderr",
     "output_type": "stream",
     "text": [
      "/home/krupal/anaconda3/lib/python3.6/site-packages/sklearn/model_selection/_split.py:2053: FutureWarning: You should specify a value for 'cv' instead of relying on the default value. The default value will change from 3 to 5 in version 0.22.\n",
      "  warnings.warn(CV_WARNING, FutureWarning)\n"
     ]
    },
    {
     "name": "stdout",
     "output_type": "stream",
     "text": [
      "Log Loss : 1.34798484619\n",
      "for alpha = 0.001\n"
     ]
    },
    {
     "name": "stderr",
     "output_type": "stream",
     "text": [
      "/home/krupal/anaconda3/lib/python3.6/site-packages/sklearn/model_selection/_split.py:2053: FutureWarning: You should specify a value for 'cv' instead of relying on the default value. The default value will change from 3 to 5 in version 0.22.\n",
      "  warnings.warn(CV_WARNING, FutureWarning)\n"
     ]
    },
    {
     "name": "stdout",
     "output_type": "stream",
     "text": [
      "Log Loss : 1.34012884963\n",
      "for alpha = 0.1\n"
     ]
    },
    {
     "name": "stderr",
     "output_type": "stream",
     "text": [
      "/home/krupal/anaconda3/lib/python3.6/site-packages/sklearn/model_selection/_split.py:2053: FutureWarning: You should specify a value for 'cv' instead of relying on the default value. The default value will change from 3 to 5 in version 0.22.\n",
      "  warnings.warn(CV_WARNING, FutureWarning)\n"
     ]
    },
    {
     "name": "stdout",
     "output_type": "stream",
     "text": [
      "Log Loss : 1.33384686369\n",
      "for alpha = 1\n"
     ]
    },
    {
     "name": "stderr",
     "output_type": "stream",
     "text": [
      "/home/krupal/anaconda3/lib/python3.6/site-packages/sklearn/model_selection/_split.py:2053: FutureWarning: You should specify a value for 'cv' instead of relying on the default value. The default value will change from 3 to 5 in version 0.22.\n",
      "  warnings.warn(CV_WARNING, FutureWarning)\n"
     ]
    },
    {
     "name": "stdout",
     "output_type": "stream",
     "text": [
      "Log Loss : 1.38873347014\n",
      "for alpha = 10\n"
     ]
    },
    {
     "name": "stderr",
     "output_type": "stream",
     "text": [
      "/home/krupal/anaconda3/lib/python3.6/site-packages/sklearn/model_selection/_split.py:2053: FutureWarning: You should specify a value for 'cv' instead of relying on the default value. The default value will change from 3 to 5 in version 0.22.\n",
      "  warnings.warn(CV_WARNING, FutureWarning)\n"
     ]
    },
    {
     "name": "stdout",
     "output_type": "stream",
     "text": [
      "Log Loss : 1.47682000085\n",
      "for alpha = 100\n"
     ]
    },
    {
     "name": "stderr",
     "output_type": "stream",
     "text": [
      "/home/krupal/anaconda3/lib/python3.6/site-packages/sklearn/model_selection/_split.py:2053: FutureWarning: You should specify a value for 'cv' instead of relying on the default value. The default value will change from 3 to 5 in version 0.22.\n",
      "  warnings.warn(CV_WARNING, FutureWarning)\n"
     ]
    },
    {
     "name": "stdout",
     "output_type": "stream",
     "text": [
      "Log Loss : 1.54457035201\n",
      "for alpha = 1000\n"
     ]
    },
    {
     "name": "stderr",
     "output_type": "stream",
     "text": [
      "/home/krupal/anaconda3/lib/python3.6/site-packages/sklearn/model_selection/_split.py:2053: FutureWarning: You should specify a value for 'cv' instead of relying on the default value. The default value will change from 3 to 5 in version 0.22.\n",
      "  warnings.warn(CV_WARNING, FutureWarning)\n"
     ]
    },
    {
     "name": "stdout",
     "output_type": "stream",
     "text": [
      "Log Loss : 1.5468481921\n"
     ]
    }
   ],
   "source": [
    "#Building Machine Learning models\n",
    "#1. Naive Bayes\n",
    "alpha = [0.00001, 0.0001, 0.001, 0.1, 1, 10, 100,1000]\n",
    "cv_log_error_array = []\n",
    "for i in alpha:\n",
    "    print(\"for alpha =\", i)\n",
    "    clf = MultinomialNB(alpha=i)\n",
    "    clf.fit(training_X, training_Y)\n",
    "    sig_clf = CalibratedClassifierCV(clf, method=\"sigmoid\")\n",
    "    sig_clf.fit(training_X, training_Y)\n",
    "    sig_clf_probs = sig_clf.predict_proba(cv_X)\n",
    "    cv_log_error_array.append(log_loss(cv_Y, sig_clf_probs, labels=clf.classes_, eps=1e-15))\n",
    "    # to avoid rounding error while multiplying probabilites we use log-probability estimates\n",
    "    print(\"Log Loss :\",log_loss(cv_Y, sig_clf_probs)) "
   ]
  },
  {
   "cell_type": "code",
   "execution_count": 68,
   "metadata": {},
   "outputs": [
    {
     "data": {
      "image/png": "[encoded data removed]",
      "text/plain": [
       "<Figure size 432x288 with 1 Axes>"
      ]
     },
     "metadata": {
      "needs_background": "light"
     },
     "output_type": "display_data"
    }
   ],
   "source": [
    "fig, ax = plt.subplots()\n",
    "ax.plot(np.log10(alpha), cv_log_error_array)\n",
    "for i, txt in enumerate(np.round(cv_log_error_array,3)):\n",
    "    ax.annotate((alpha[i],str(txt)), (np.log10(alpha[i]),cv_log_error_array[i]))\n",
    "plt.grid()\n",
    "plt.xticks(np.log10(alpha))\n",
    "plt.title(\"Cross Validation Error for each alpha\")\n",
    "plt.xlabel(\"Alpha i's\")\n",
    "plt.ylabel(\"Error measure\")\n",
    "plt.show()"
   ]
  },
  {
   "cell_type": "code",
   "execution_count": 69,
   "metadata": {},
   "outputs": [
    {
     "name": "stderr",
     "output_type": "stream",
     "text": [
      "/home/krupal/anaconda3/lib/python3.6/site-packages/sklearn/model_selection/_split.py:2053: FutureWarning: You should specify a value for 'cv' instead of relying on the default value. The default value will change from 3 to 5 in version 0.22.\n",
      "  warnings.warn(CV_WARNING, FutureWarning)\n"
     ]
    },
    {
     "name": "stdout",
     "output_type": "stream",
     "text": [
      "The train loss for the best alpha value is:  0.839277160081\n",
      "The cross validation loss for the best alpha value is:  1.33384686369\n",
      "The test loss for the best alpha value is:  1.23474114322\n"
     ]
    }
   ],
   "source": [
    "#Using the best alpha for final Naive Bayes model\n",
    "best_alpha = np.argmin(cv_log_error_array)\n",
    "clf = MultinomialNB(alpha = alpha[best_alpha])\n",
    "clf.fit(training_X, training_Y)\n",
    "sig_clf = CalibratedClassifierCV(clf, method=\"sigmoid\")\n",
    "sig_clf.fit(training_X, training_Y)\n",
    "\n",
    "predict_y = sig_clf.predict_proba(training_X)\n",
    "print(\"The train loss for the best alpha value is: \",log_loss(training_Y,predict_y))\n",
    "predict_y = sig_clf.predict_proba(cv_X)\n",
    "print(\"The cross validation loss for the best alpha value is: \",log_loss(cv_Y,predict_y))\n",
    "predict_y = sig_clf.predict_proba(test_X)\n",
    "print(\"The test loss for the best alpha value is: \",log_loss(test_Y,predict_y))\n"
   ]
  },
  {
   "cell_type": "code",
   "execution_count": 70,
   "metadata": {},
   "outputs": [
    {
     "name": "stdout",
     "output_type": "stream",
     "text": [
      "Number of missclassified points are:  0.37894736842105264\n",
      "The accuray score for the model is:  0.6210526315789473\n",
      "                     Confusion matrix                     \n"
     ]
    },
    {
     "data": {
      "image/png": "[encoded data removed]",
      "text/plain": [
       "<Figure size 1440x504 with 2 Axes>"
      ]
     },
     "metadata": {
      "needs_background": "light"
     },
     "output_type": "display_data"
    }
   ],
   "source": [
    "predict_y = sig_clf.predict(test_X)\n",
    "x = missclassified_points(test_Y,predict_y)\n",
    "print(\"The accuray score for the model is: \",(1-x))\n",
    "plot_confusion_matrix(test_Y,predict_y)"
   ]
  },
  {
   "cell_type": "code",
   "execution_count": 71,
   "metadata": {},
   "outputs": [
    {
     "name": "stdout",
     "output_type": "stream",
     "text": [
      "Predicted Class : 7\n",
      "Predicted Class Probabilities: [[ 0.086   0.0722  0.0121  0.0888  0.0345  0.0295  0.6709  0.0035  0.0026]]\n",
      "Actual Class : 5\n"
     ]
    }
   ],
   "source": [
    "#Testing on a random point\n",
    "test_point_index = 10\n",
    "no_feature = 100\n",
    "predicted_cls = sig_clf.predict(test_X[test_point_index])\n",
    "print(\"Predicted Class :\", predicted_cls[0])\n",
    "print(\"Predicted Class Probabilities:\", np.round(sig_clf.predict_proba(test_X[test_point_index]),4))\n",
    "print(\"Actual Class :\", test_Y[test_point_index])"
   ]
  },
  {
   "cell_type": "markdown",
   "metadata": {},
   "source": [
    "# K Nearest Neighbour"
   ]
  },
  {
   "cell_type": "code",
   "execution_count": 72,
   "metadata": {},
   "outputs": [
    {
     "name": "stdout",
     "output_type": "stream",
     "text": [
      "for alpha = 5\n"
     ]
    },
    {
     "name": "stderr",
     "output_type": "stream",
     "text": [
      "/home/krupal/anaconda3/lib/python3.6/site-packages/sklearn/model_selection/_split.py:2053: FutureWarning: You should specify a value for 'cv' instead of relying on the default value. The default value will change from 3 to 5 in version 0.22.\n",
      "  warnings.warn(CV_WARNING, FutureWarning)\n"
     ]
    },
    {
     "name": "stdout",
     "output_type": "stream",
     "text": [
      "Log Loss : 1.31005157898\n",
      "for alpha = 11\n"
     ]
    },
    {
     "name": "stderr",
     "output_type": "stream",
     "text": [
      "/home/krupal/anaconda3/lib/python3.6/site-packages/sklearn/model_selection/_split.py:2053: FutureWarning: You should specify a value for 'cv' instead of relying on the default value. The default value will change from 3 to 5 in version 0.22.\n",
      "  warnings.warn(CV_WARNING, FutureWarning)\n"
     ]
    },
    {
     "name": "stdout",
     "output_type": "stream",
     "text": [
      "Log Loss : 1.30847956649\n",
      "for alpha = 15\n"
     ]
    },
    {
     "name": "stderr",
     "output_type": "stream",
     "text": [
      "/home/krupal/anaconda3/lib/python3.6/site-packages/sklearn/model_selection/_split.py:2053: FutureWarning: You should specify a value for 'cv' instead of relying on the default value. The default value will change from 3 to 5 in version 0.22.\n",
      "  warnings.warn(CV_WARNING, FutureWarning)\n"
     ]
    },
    {
     "name": "stdout",
     "output_type": "stream",
     "text": [
      "Log Loss : 1.34567535086\n",
      "for alpha = 21\n"
     ]
    },
    {
     "name": "stderr",
     "output_type": "stream",
     "text": [
      "/home/krupal/anaconda3/lib/python3.6/site-packages/sklearn/model_selection/_split.py:2053: FutureWarning: You should specify a value for 'cv' instead of relying on the default value. The default value will change from 3 to 5 in version 0.22.\n",
      "  warnings.warn(CV_WARNING, FutureWarning)\n"
     ]
    },
    {
     "name": "stdout",
     "output_type": "stream",
     "text": [
      "Log Loss : 1.44606225029\n",
      "for alpha = 31\n"
     ]
    },
    {
     "name": "stderr",
     "output_type": "stream",
     "text": [
      "/home/krupal/anaconda3/lib/python3.6/site-packages/sklearn/model_selection/_split.py:2053: FutureWarning: You should specify a value for 'cv' instead of relying on the default value. The default value will change from 3 to 5 in version 0.22.\n",
      "  warnings.warn(CV_WARNING, FutureWarning)\n"
     ]
    },
    {
     "name": "stdout",
     "output_type": "stream",
     "text": [
      "Log Loss : 1.48746767207\n",
      "for alpha = 41\n"
     ]
    },
    {
     "name": "stderr",
     "output_type": "stream",
     "text": [
      "/home/krupal/anaconda3/lib/python3.6/site-packages/sklearn/model_selection/_split.py:2053: FutureWarning: You should specify a value for 'cv' instead of relying on the default value. The default value will change from 3 to 5 in version 0.22.\n",
      "  warnings.warn(CV_WARNING, FutureWarning)\n"
     ]
    },
    {
     "name": "stdout",
     "output_type": "stream",
     "text": [
      "Log Loss : 1.48177820195\n",
      "for alpha = 51\n"
     ]
    },
    {
     "name": "stderr",
     "output_type": "stream",
     "text": [
      "/home/krupal/anaconda3/lib/python3.6/site-packages/sklearn/model_selection/_split.py:2053: FutureWarning: You should specify a value for 'cv' instead of relying on the default value. The default value will change from 3 to 5 in version 0.22.\n",
      "  warnings.warn(CV_WARNING, FutureWarning)\n"
     ]
    },
    {
     "name": "stdout",
     "output_type": "stream",
     "text": [
      "Log Loss : 1.46239600485\n",
      "for alpha = 99\n"
     ]
    },
    {
     "name": "stderr",
     "output_type": "stream",
     "text": [
      "/home/krupal/anaconda3/lib/python3.6/site-packages/sklearn/model_selection/_split.py:2053: FutureWarning: You should specify a value for 'cv' instead of relying on the default value. The default value will change from 3 to 5 in version 0.22.\n",
      "  warnings.warn(CV_WARNING, FutureWarning)\n"
     ]
    },
    {
     "name": "stdout",
     "output_type": "stream",
     "text": [
      "Log Loss : 1.5077811454\n"
     ]
    }
   ],
   "source": [
    "#Implementing K Nearest Neighbour\n",
    "#Since we need to decide the number of neighbours in the KNN, we would take a range of values\n",
    "alpha = [5, 11, 15, 21, 31, 41, 51, 99]\n",
    "cv_log_error_array = []\n",
    "for i in alpha:\n",
    "    print(\"for alpha =\", i)\n",
    "    clf = KNeighborsClassifier(n_neighbors=i)\n",
    "    clf.fit(training_X, training_Y)\n",
    "    sig_clf = CalibratedClassifierCV(clf, method=\"sigmoid\")\n",
    "    sig_clf.fit(training_X, training_Y)\n",
    "    sig_clf_probs = sig_clf.predict_proba(cv_X)\n",
    "    cv_log_error_array.append(log_loss(cv_Y, sig_clf_probs))\n",
    "    print(\"Log Loss :\",log_loss(cv_Y, sig_clf_probs))"
   ]
  },
  {
   "cell_type": "code",
   "execution_count": 73,
   "metadata": {},
   "outputs": [
    {
     "data": {
      "image/png": "[encoded data removed]",
      "text/plain": [
       "<Figure size 432x288 with 1 Axes>"
      ]
     },
     "metadata": {
      "needs_background": "light"
     },
     "output_type": "display_data"
    }
   ],
   "source": [
    "fig, ax = plt.subplots()\n",
    "ax.plot(np.log10(alpha), cv_log_error_array)\n",
    "for i, txt in enumerate(np.round(cv_log_error_array,3)):\n",
    "    ax.annotate((alpha[i],str(txt)), (np.log10(alpha[i]),cv_log_error_array[i]))\n",
    "plt.grid()\n",
    "plt.xticks(np.log10(alpha))\n",
    "plt.title(\"Cross Validation Error for each alpha\")\n",
    "plt.xlabel(\"Alpha i's\")\n",
    "plt.ylabel(\"Error measure\")\n",
    "plt.show()"
   ]
  },
  {
   "cell_type": "code",
   "execution_count": 74,
   "metadata": {},
   "outputs": [
    {
     "name": "stderr",
     "output_type": "stream",
     "text": [
      "/home/krupal/anaconda3/lib/python3.6/site-packages/sklearn/model_selection/_split.py:2053: FutureWarning: You should specify a value for 'cv' instead of relying on the default value. The default value will change from 3 to 5 in version 0.22.\n",
      "  warnings.warn(CV_WARNING, FutureWarning)\n"
     ]
    },
    {
     "name": "stdout",
     "output_type": "stream",
     "text": [
      "The train loss for the best alpha value is:  1.09690757268\n",
      "The cross validation loss for the best alpha value is:  1.30847956649\n",
      "The test loss for the best alpha value is:  1.29589638324\n"
     ]
    }
   ],
   "source": [
    "best_alpha = np.argmin(cv_log_error_array)\n",
    "clf = KNeighborsClassifier(n_neighbors = alpha[best_alpha])\n",
    "clf.fit(training_X, training_Y)\n",
    "sig_clf = CalibratedClassifierCV(clf, method=\"sigmoid\")\n",
    "sig_clf.fit(training_X, training_Y)\n",
    "\n",
    "predict_y = sig_clf.predict_proba(training_X)\n",
    "print(\"The train loss for the best alpha value is: \",log_loss(training_Y,predict_y))\n",
    "predict_y = sig_clf.predict_proba(cv_X)\n",
    "print(\"The cross validation loss for the best alpha value is: \",log_loss(cv_Y,predict_y))\n",
    "predict_y = sig_clf.predict_proba(test_X)\n",
    "print(\"The test loss for the best alpha value is: \",log_loss(test_Y,predict_y))"
   ]
  },
  {
   "cell_type": "code",
   "execution_count": 75,
   "metadata": {},
   "outputs": [
    {
     "name": "stdout",
     "output_type": "stream",
     "text": [
      "Number of missclassified points are:  0.42406015037593986\n",
      "The accuray score for the model is:  0.5759398496240602\n",
      "                     Confusion matrix                     \n"
     ]
    },
    {
     "data": {
      "image/png": "[encoded data removed]",
      "text/plain": [
       "<Figure size 1440x504 with 2 Axes>"
      ]
     },
     "metadata": {
      "needs_background": "light"
     },
     "output_type": "display_data"
    }
   ],
   "source": [
    "predict_y = sig_clf.predict(test_X)\n",
    "x = missclassified_points(test_Y,predict_y)\n",
    "print(\"The accuray score for the model is: \",(1-x))\n",
    "plot_confusion_matrix(test_Y,predict_y)"
   ]
  },
  {
   "cell_type": "code",
   "execution_count": 76,
   "metadata": {},
   "outputs": [
    {
     "name": "stdout",
     "output_type": "stream",
     "text": [
      "Predicted Class : 7\n",
      "Predicted Class Probabilities: [[ 0.0453  0.2639  0.0137  0.1203  0.0223  0.0327  0.4937  0.0041  0.0039]]\n",
      "Actual Class : 5\n"
     ]
    }
   ],
   "source": [
    "#Testing a random pont\n",
    "test_point_index = 10\n",
    "no_feature = 100\n",
    "predicted_cls = sig_clf.predict(test_X[test_point_index])\n",
    "print(\"Predicted Class :\", predicted_cls[0])\n",
    "print(\"Predicted Class Probabilities:\", np.round(sig_clf.predict_proba(test_X[test_point_index]),4))\n",
    "print(\"Actual Class :\", test_Y[test_point_index])"
   ]
  },
  {
   "cell_type": "markdown",
   "metadata": {},
   "source": [
    "# Logistic Regression Model "
   ]
  },
  {
   "cell_type": "code",
   "execution_count": 77,
   "metadata": {},
   "outputs": [
    {
     "name": "stderr",
     "output_type": "stream",
     "text": [
      "/home/krupal/anaconda3/lib/python3.6/site-packages/sklearn/model_selection/_split.py:2053: FutureWarning: You should specify a value for 'cv' instead of relying on the default value. The default value will change from 3 to 5 in version 0.22.\n",
      "  warnings.warn(CV_WARNING, FutureWarning)\n"
     ]
    },
    {
     "name": "stdout",
     "output_type": "stream",
     "text": [
      "Log Loss : 1.14303838965\n"
     ]
    }
   ],
   "source": [
    "#Implementing Logistic Regression model\n",
    "clf = LogisticRegression(random_state = 42, solver = 'lbfgs', multi_class= 'multinomial')\n",
    "clf.fit(training_X, training_Y)\n",
    "sig_clf = CalibratedClassifierCV(clf, method=\"sigmoid\")\n",
    "sig_clf.fit(training_X, training_Y)\n",
    "sig_clf_probs = sig_clf.predict_proba(cv_X)\n",
    "print(\"Log Loss :\",log_loss(cv_Y, sig_clf_probs))"
   ]
  },
  {
   "cell_type": "code",
   "execution_count": 78,
   "metadata": {},
   "outputs": [
    {
     "name": "stdout",
     "output_type": "stream",
     "text": [
      "The train loss for the best alpha value is:  0.543534745732\n",
      "The cross validation loss for the best alpha value is:  1.14303838965\n",
      "The test loss for the best alpha value is:  0.995029616699\n"
     ]
    }
   ],
   "source": [
    "predict_y = sig_clf.predict_proba(training_X)\n",
    "print(\"The train loss for the best alpha value is: \",log_loss(training_Y,predict_y))\n",
    "predict_y = sig_clf.predict_proba(cv_X)\n",
    "print(\"The cross validation loss for the best alpha value is: \",log_loss(cv_Y,predict_y))\n",
    "predict_y = sig_clf.predict_proba(test_X)\n",
    "print(\"The test loss for the best alpha value is: \",log_loss(test_Y,predict_y))"
   ]
  },
  {
   "cell_type": "code",
   "execution_count": 79,
   "metadata": {},
   "outputs": [
    {
     "name": "stdout",
     "output_type": "stream",
     "text": [
      "Number of missclassified points are:  0.33533834586466166\n",
      "The accuray score for the model is:  0.6646616541353383\n",
      "                     Confusion matrix                     \n"
     ]
    },
    {
     "data": {
      "image/png": "[encoded data removed]",
      "text/plain": [
       "<Figure size 1440x504 with 2 Axes>"
      ]
     },
     "metadata": {
      "needs_background": "light"
     },
     "output_type": "display_data"
    }
   ],
   "source": [
    "predict_y = sig_clf.predict(test_X)\n",
    "x = missclassified_points(test_Y,predict_y)\n",
    "print(\"The accuray score for the model is: \",(1-x))\n",
    "plot_confusion_matrix(test_Y,predict_y)"
   ]
  },
  {
   "cell_type": "markdown",
   "metadata": {},
   "source": [
    "# Stochastic Gradient Descent "
   ]
  },
  {
   "cell_type": "code",
   "execution_count": 93,
   "metadata": {},
   "outputs": [
    {
     "name": "stdout",
     "output_type": "stream",
     "text": [
      "for alpha = 0.0001\n"
     ]
    },
    {
     "name": "stderr",
     "output_type": "stream",
     "text": [
      "/home/krupal/anaconda3/lib/python3.6/site-packages/sklearn/linear_model/stochastic_gradient.py:183: FutureWarning: max_iter and tol parameters have been added in SGDClassifier in 0.19. If max_iter is set but tol is left unset, the default value for tol in 0.19 and 0.20 will be None (which is equivalent to -infinity, so it has no effect) but will change in 0.21 to 1e-3. Specify tol to silence this warning.\n",
      "  FutureWarning)\n",
      "/home/krupal/anaconda3/lib/python3.6/site-packages/sklearn/model_selection/_split.py:2053: FutureWarning: You should specify a value for 'cv' instead of relying on the default value. The default value will change from 3 to 5 in version 0.22.\n",
      "  warnings.warn(CV_WARNING, FutureWarning)\n",
      "/home/krupal/anaconda3/lib/python3.6/site-packages/sklearn/linear_model/stochastic_gradient.py:183: FutureWarning: max_iter and tol parameters have been added in SGDClassifier in 0.19. If max_iter is set but tol is left unset, the default value for tol in 0.19 and 0.20 will be None (which is equivalent to -infinity, so it has no effect) but will change in 0.21 to 1e-3. Specify tol to silence this warning.\n",
      "  FutureWarning)\n",
      "/home/krupal/anaconda3/lib/python3.6/site-packages/sklearn/linear_model/stochastic_gradient.py:183: FutureWarning: max_iter and tol parameters have been added in SGDClassifier in 0.19. If max_iter is set but tol is left unset, the default value for tol in 0.19 and 0.20 will be None (which is equivalent to -infinity, so it has no effect) but will change in 0.21 to 1e-3. Specify tol to silence this warning.\n",
      "  FutureWarning)\n",
      "/home/krupal/anaconda3/lib/python3.6/site-packages/sklearn/linear_model/stochastic_gradient.py:183: FutureWarning: max_iter and tol parameters have been added in SGDClassifier in 0.19. If max_iter is set but tol is left unset, the default value for tol in 0.19 and 0.20 will be None (which is equivalent to -infinity, so it has no effect) but will change in 0.21 to 1e-3. Specify tol to silence this warning.\n",
      "  FutureWarning)\n"
     ]
    },
    {
     "name": "stdout",
     "output_type": "stream",
     "text": [
      "Log Loss : 1.21956868863\n",
      "for alpha = 0.001\n"
     ]
    },
    {
     "name": "stderr",
     "output_type": "stream",
     "text": [
      "/home/krupal/anaconda3/lib/python3.6/site-packages/sklearn/linear_model/stochastic_gradient.py:183: FutureWarning: max_iter and tol parameters have been added in SGDClassifier in 0.19. If max_iter is set but tol is left unset, the default value for tol in 0.19 and 0.20 will be None (which is equivalent to -infinity, so it has no effect) but will change in 0.21 to 1e-3. Specify tol to silence this warning.\n",
      "  FutureWarning)\n",
      "/home/krupal/anaconda3/lib/python3.6/site-packages/sklearn/model_selection/_split.py:2053: FutureWarning: You should specify a value for 'cv' instead of relying on the default value. The default value will change from 3 to 5 in version 0.22.\n",
      "  warnings.warn(CV_WARNING, FutureWarning)\n",
      "/home/krupal/anaconda3/lib/python3.6/site-packages/sklearn/linear_model/stochastic_gradient.py:183: FutureWarning: max_iter and tol parameters have been added in SGDClassifier in 0.19. If max_iter is set but tol is left unset, the default value for tol in 0.19 and 0.20 will be None (which is equivalent to -infinity, so it has no effect) but will change in 0.21 to 1e-3. Specify tol to silence this warning.\n",
      "  FutureWarning)\n",
      "/home/krupal/anaconda3/lib/python3.6/site-packages/sklearn/linear_model/stochastic_gradient.py:183: FutureWarning: max_iter and tol parameters have been added in SGDClassifier in 0.19. If max_iter is set but tol is left unset, the default value for tol in 0.19 and 0.20 will be None (which is equivalent to -infinity, so it has no effect) but will change in 0.21 to 1e-3. Specify tol to silence this warning.\n",
      "  FutureWarning)\n",
      "/home/krupal/anaconda3/lib/python3.6/site-packages/sklearn/linear_model/stochastic_gradient.py:183: FutureWarning: max_iter and tol parameters have been added in SGDClassifier in 0.19. If max_iter is set but tol is left unset, the default value for tol in 0.19 and 0.20 will be None (which is equivalent to -infinity, so it has no effect) but will change in 0.21 to 1e-3. Specify tol to silence this warning.\n",
      "  FutureWarning)\n"
     ]
    },
    {
     "name": "stdout",
     "output_type": "stream",
     "text": [
      "Log Loss : 1.23310928101\n",
      "for alpha = 0.01\n"
     ]
    },
    {
     "name": "stderr",
     "output_type": "stream",
     "text": [
      "/home/krupal/anaconda3/lib/python3.6/site-packages/sklearn/linear_model/stochastic_gradient.py:183: FutureWarning: max_iter and tol parameters have been added in SGDClassifier in 0.19. If max_iter is set but tol is left unset, the default value for tol in 0.19 and 0.20 will be None (which is equivalent to -infinity, so it has no effect) but will change in 0.21 to 1e-3. Specify tol to silence this warning.\n",
      "  FutureWarning)\n",
      "/home/krupal/anaconda3/lib/python3.6/site-packages/sklearn/model_selection/_split.py:2053: FutureWarning: You should specify a value for 'cv' instead of relying on the default value. The default value will change from 3 to 5 in version 0.22.\n",
      "  warnings.warn(CV_WARNING, FutureWarning)\n",
      "/home/krupal/anaconda3/lib/python3.6/site-packages/sklearn/linear_model/stochastic_gradient.py:183: FutureWarning: max_iter and tol parameters have been added in SGDClassifier in 0.19. If max_iter is set but tol is left unset, the default value for tol in 0.19 and 0.20 will be None (which is equivalent to -infinity, so it has no effect) but will change in 0.21 to 1e-3. Specify tol to silence this warning.\n",
      "  FutureWarning)\n",
      "/home/krupal/anaconda3/lib/python3.6/site-packages/sklearn/linear_model/stochastic_gradient.py:183: FutureWarning: max_iter and tol parameters have been added in SGDClassifier in 0.19. If max_iter is set but tol is left unset, the default value for tol in 0.19 and 0.20 will be None (which is equivalent to -infinity, so it has no effect) but will change in 0.21 to 1e-3. Specify tol to silence this warning.\n",
      "  FutureWarning)\n",
      "/home/krupal/anaconda3/lib/python3.6/site-packages/sklearn/linear_model/stochastic_gradient.py:183: FutureWarning: max_iter and tol parameters have been added in SGDClassifier in 0.19. If max_iter is set but tol is left unset, the default value for tol in 0.19 and 0.20 will be None (which is equivalent to -infinity, so it has no effect) but will change in 0.21 to 1e-3. Specify tol to silence this warning.\n",
      "  FutureWarning)\n"
     ]
    },
    {
     "name": "stdout",
     "output_type": "stream",
     "text": [
      "Log Loss : 1.27281438309\n",
      "for alpha = 0.1\n"
     ]
    },
    {
     "name": "stderr",
     "output_type": "stream",
     "text": [
      "/home/krupal/anaconda3/lib/python3.6/site-packages/sklearn/linear_model/stochastic_gradient.py:183: FutureWarning: max_iter and tol parameters have been added in SGDClassifier in 0.19. If max_iter is set but tol is left unset, the default value for tol in 0.19 and 0.20 will be None (which is equivalent to -infinity, so it has no effect) but will change in 0.21 to 1e-3. Specify tol to silence this warning.\n",
      "  FutureWarning)\n",
      "/home/krupal/anaconda3/lib/python3.6/site-packages/sklearn/model_selection/_split.py:2053: FutureWarning: You should specify a value for 'cv' instead of relying on the default value. The default value will change from 3 to 5 in version 0.22.\n",
      "  warnings.warn(CV_WARNING, FutureWarning)\n",
      "/home/krupal/anaconda3/lib/python3.6/site-packages/sklearn/linear_model/stochastic_gradient.py:183: FutureWarning: max_iter and tol parameters have been added in SGDClassifier in 0.19. If max_iter is set but tol is left unset, the default value for tol in 0.19 and 0.20 will be None (which is equivalent to -infinity, so it has no effect) but will change in 0.21 to 1e-3. Specify tol to silence this warning.\n",
      "  FutureWarning)\n",
      "/home/krupal/anaconda3/lib/python3.6/site-packages/sklearn/linear_model/stochastic_gradient.py:183: FutureWarning: max_iter and tol parameters have been added in SGDClassifier in 0.19. If max_iter is set but tol is left unset, the default value for tol in 0.19 and 0.20 will be None (which is equivalent to -infinity, so it has no effect) but will change in 0.21 to 1e-3. Specify tol to silence this warning.\n",
      "  FutureWarning)\n",
      "/home/krupal/anaconda3/lib/python3.6/site-packages/sklearn/linear_model/stochastic_gradient.py:183: FutureWarning: max_iter and tol parameters have been added in SGDClassifier in 0.19. If max_iter is set but tol is left unset, the default value for tol in 0.19 and 0.20 will be None (which is equivalent to -infinity, so it has no effect) but will change in 0.21 to 1e-3. Specify tol to silence this warning.\n",
      "  FutureWarning)\n"
     ]
    },
    {
     "name": "stdout",
     "output_type": "stream",
     "text": [
      "Log Loss : 1.75819914309\n",
      "for alpha = 1\n"
     ]
    },
    {
     "name": "stderr",
     "output_type": "stream",
     "text": [
      "/home/krupal/anaconda3/lib/python3.6/site-packages/sklearn/linear_model/stochastic_gradient.py:183: FutureWarning: max_iter and tol parameters have been added in SGDClassifier in 0.19. If max_iter is set but tol is left unset, the default value for tol in 0.19 and 0.20 will be None (which is equivalent to -infinity, so it has no effect) but will change in 0.21 to 1e-3. Specify tol to silence this warning.\n",
      "  FutureWarning)\n",
      "/home/krupal/anaconda3/lib/python3.6/site-packages/sklearn/model_selection/_split.py:2053: FutureWarning: You should specify a value for 'cv' instead of relying on the default value. The default value will change from 3 to 5 in version 0.22.\n",
      "  warnings.warn(CV_WARNING, FutureWarning)\n",
      "/home/krupal/anaconda3/lib/python3.6/site-packages/sklearn/linear_model/stochastic_gradient.py:183: FutureWarning: max_iter and tol parameters have been added in SGDClassifier in 0.19. If max_iter is set but tol is left unset, the default value for tol in 0.19 and 0.20 will be None (which is equivalent to -infinity, so it has no effect) but will change in 0.21 to 1e-3. Specify tol to silence this warning.\n",
      "  FutureWarning)\n",
      "/home/krupal/anaconda3/lib/python3.6/site-packages/sklearn/linear_model/stochastic_gradient.py:183: FutureWarning: max_iter and tol parameters have been added in SGDClassifier in 0.19. If max_iter is set but tol is left unset, the default value for tol in 0.19 and 0.20 will be None (which is equivalent to -infinity, so it has no effect) but will change in 0.21 to 1e-3. Specify tol to silence this warning.\n",
      "  FutureWarning)\n",
      "/home/krupal/anaconda3/lib/python3.6/site-packages/sklearn/linear_model/stochastic_gradient.py:183: FutureWarning: max_iter and tol parameters have been added in SGDClassifier in 0.19. If max_iter is set but tol is left unset, the default value for tol in 0.19 and 0.20 will be None (which is equivalent to -infinity, so it has no effect) but will change in 0.21 to 1e-3. Specify tol to silence this warning.\n",
      "  FutureWarning)\n"
     ]
    },
    {
     "name": "stdout",
     "output_type": "stream",
     "text": [
      "Log Loss : 1.92877601249\n",
      "for alpha = 10\n"
     ]
    },
    {
     "name": "stderr",
     "output_type": "stream",
     "text": [
      "/home/krupal/anaconda3/lib/python3.6/site-packages/sklearn/linear_model/stochastic_gradient.py:183: FutureWarning: max_iter and tol parameters have been added in SGDClassifier in 0.19. If max_iter is set but tol is left unset, the default value for tol in 0.19 and 0.20 will be None (which is equivalent to -infinity, so it has no effect) but will change in 0.21 to 1e-3. Specify tol to silence this warning.\n",
      "  FutureWarning)\n",
      "/home/krupal/anaconda3/lib/python3.6/site-packages/sklearn/model_selection/_split.py:2053: FutureWarning: You should specify a value for 'cv' instead of relying on the default value. The default value will change from 3 to 5 in version 0.22.\n",
      "  warnings.warn(CV_WARNING, FutureWarning)\n",
      "/home/krupal/anaconda3/lib/python3.6/site-packages/sklearn/linear_model/stochastic_gradient.py:183: FutureWarning: max_iter and tol parameters have been added in SGDClassifier in 0.19. If max_iter is set but tol is left unset, the default value for tol in 0.19 and 0.20 will be None (which is equivalent to -infinity, so it has no effect) but will change in 0.21 to 1e-3. Specify tol to silence this warning.\n",
      "  FutureWarning)\n",
      "/home/krupal/anaconda3/lib/python3.6/site-packages/sklearn/linear_model/stochastic_gradient.py:183: FutureWarning: max_iter and tol parameters have been added in SGDClassifier in 0.19. If max_iter is set but tol is left unset, the default value for tol in 0.19 and 0.20 will be None (which is equivalent to -infinity, so it has no effect) but will change in 0.21 to 1e-3. Specify tol to silence this warning.\n",
      "  FutureWarning)\n",
      "/home/krupal/anaconda3/lib/python3.6/site-packages/sklearn/linear_model/stochastic_gradient.py:183: FutureWarning: max_iter and tol parameters have been added in SGDClassifier in 0.19. If max_iter is set but tol is left unset, the default value for tol in 0.19 and 0.20 will be None (which is equivalent to -infinity, so it has no effect) but will change in 0.21 to 1e-3. Specify tol to silence this warning.\n",
      "  FutureWarning)\n"
     ]
    },
    {
     "name": "stdout",
     "output_type": "stream",
     "text": [
      "Log Loss : 1.94021042539\n",
      "for alpha = 100\n"
     ]
    },
    {
     "name": "stderr",
     "output_type": "stream",
     "text": [
      "/home/krupal/anaconda3/lib/python3.6/site-packages/sklearn/linear_model/stochastic_gradient.py:183: FutureWarning: max_iter and tol parameters have been added in SGDClassifier in 0.19. If max_iter is set but tol is left unset, the default value for tol in 0.19 and 0.20 will be None (which is equivalent to -infinity, so it has no effect) but will change in 0.21 to 1e-3. Specify tol to silence this warning.\n",
      "  FutureWarning)\n",
      "/home/krupal/anaconda3/lib/python3.6/site-packages/sklearn/model_selection/_split.py:2053: FutureWarning: You should specify a value for 'cv' instead of relying on the default value. The default value will change from 3 to 5 in version 0.22.\n",
      "  warnings.warn(CV_WARNING, FutureWarning)\n",
      "/home/krupal/anaconda3/lib/python3.6/site-packages/sklearn/linear_model/stochastic_gradient.py:183: FutureWarning: max_iter and tol parameters have been added in SGDClassifier in 0.19. If max_iter is set but tol is left unset, the default value for tol in 0.19 and 0.20 will be None (which is equivalent to -infinity, so it has no effect) but will change in 0.21 to 1e-3. Specify tol to silence this warning.\n",
      "  FutureWarning)\n",
      "/home/krupal/anaconda3/lib/python3.6/site-packages/sklearn/linear_model/stochastic_gradient.py:183: FutureWarning: max_iter and tol parameters have been added in SGDClassifier in 0.19. If max_iter is set but tol is left unset, the default value for tol in 0.19 and 0.20 will be None (which is equivalent to -infinity, so it has no effect) but will change in 0.21 to 1e-3. Specify tol to silence this warning.\n",
      "  FutureWarning)\n",
      "/home/krupal/anaconda3/lib/python3.6/site-packages/sklearn/linear_model/stochastic_gradient.py:183: FutureWarning: max_iter and tol parameters have been added in SGDClassifier in 0.19. If max_iter is set but tol is left unset, the default value for tol in 0.19 and 0.20 will be None (which is equivalent to -infinity, so it has no effect) but will change in 0.21 to 1e-3. Specify tol to silence this warning.\n",
      "  FutureWarning)\n"
     ]
    },
    {
     "name": "stdout",
     "output_type": "stream",
     "text": [
      "Log Loss : 1.94124502768\n",
      "for alpha = 1000\n"
     ]
    },
    {
     "name": "stderr",
     "output_type": "stream",
     "text": [
      "/home/krupal/anaconda3/lib/python3.6/site-packages/sklearn/linear_model/stochastic_gradient.py:183: FutureWarning: max_iter and tol parameters have been added in SGDClassifier in 0.19. If max_iter is set but tol is left unset, the default value for tol in 0.19 and 0.20 will be None (which is equivalent to -infinity, so it has no effect) but will change in 0.21 to 1e-3. Specify tol to silence this warning.\n",
      "  FutureWarning)\n",
      "/home/krupal/anaconda3/lib/python3.6/site-packages/sklearn/model_selection/_split.py:2053: FutureWarning: You should specify a value for 'cv' instead of relying on the default value. The default value will change from 3 to 5 in version 0.22.\n",
      "  warnings.warn(CV_WARNING, FutureWarning)\n",
      "/home/krupal/anaconda3/lib/python3.6/site-packages/sklearn/linear_model/stochastic_gradient.py:183: FutureWarning: max_iter and tol parameters have been added in SGDClassifier in 0.19. If max_iter is set but tol is left unset, the default value for tol in 0.19 and 0.20 will be None (which is equivalent to -infinity, so it has no effect) but will change in 0.21 to 1e-3. Specify tol to silence this warning.\n",
      "  FutureWarning)\n",
      "/home/krupal/anaconda3/lib/python3.6/site-packages/sklearn/linear_model/stochastic_gradient.py:183: FutureWarning: max_iter and tol parameters have been added in SGDClassifier in 0.19. If max_iter is set but tol is left unset, the default value for tol in 0.19 and 0.20 will be None (which is equivalent to -infinity, so it has no effect) but will change in 0.21 to 1e-3. Specify tol to silence this warning.\n",
      "  FutureWarning)\n",
      "/home/krupal/anaconda3/lib/python3.6/site-packages/sklearn/linear_model/stochastic_gradient.py:183: FutureWarning: max_iter and tol parameters have been added in SGDClassifier in 0.19. If max_iter is set but tol is left unset, the default value for tol in 0.19 and 0.20 will be None (which is equivalent to -infinity, so it has no effect) but will change in 0.21 to 1e-3. Specify tol to silence this warning.\n",
      "  FutureWarning)\n"
     ]
    },
    {
     "name": "stdout",
     "output_type": "stream",
     "text": [
      "Log Loss : 1.94138359512\n"
     ]
    }
   ],
   "source": [
    "#Implementing Stochastic Gradient Descent with balancing all classes\n",
    "alpha = [10 ** x for x in range(-4, 4)]\n",
    "cv_log_error_array = []\n",
    "for i in alpha:\n",
    "    print(\"for alpha =\", i)\n",
    "    clf = SGDClassifier(class_weight='balanced', alpha=i, penalty='l2', loss='log', random_state=42, max_iter = 100)\n",
    "    clf.fit(training_X, training_Y)\n",
    "    sig_clf = CalibratedClassifierCV(clf, method=\"sigmoid\")\n",
    "    sig_clf.fit(training_X, training_Y)\n",
    "    sig_clf_probs = sig_clf.predict_proba(cv_X)\n",
    "    cv_log_error_array.append(log_loss(cv_Y, sig_clf_probs, eps=1e-15))\n",
    "    print(\"Log Loss :\",log_loss(cv_Y, sig_clf_probs)) \n"
   ]
  },
  {
   "cell_type": "code",
   "execution_count": 94,
   "metadata": {},
   "outputs": [
    {
     "data": {
      "image/png": "[encoded data removed]",
      "text/plain": [
       "<Figure size 432x288 with 1 Axes>"
      ]
     },
     "metadata": {
      "needs_background": "light"
     },
     "output_type": "display_data"
    }
   ],
   "source": [
    "fig, ax = plt.subplots()\n",
    "ax.plot(np.log10(alpha), cv_log_error_array)\n",
    "for i, txt in enumerate(np.round(cv_log_error_array,3)):\n",
    "    ax.annotate((alpha[i],str(txt)), (np.log10(alpha[i]),cv_log_error_array[i]))\n",
    "plt.grid()\n",
    "plt.xticks(np.log10(alpha))\n",
    "plt.title(\"Cross Validation Error for each alpha\")\n",
    "plt.xlabel(\"Alpha i's\")\n",
    "plt.ylabel(\"Error measure\")\n",
    "plt.show()"
   ]
  },
  {
   "cell_type": "code",
   "execution_count": 95,
   "metadata": {},
   "outputs": [
    {
     "name": "stderr",
     "output_type": "stream",
     "text": [
      "/home/krupal/anaconda3/lib/python3.6/site-packages/sklearn/linear_model/stochastic_gradient.py:183: FutureWarning: max_iter and tol parameters have been added in SGDClassifier in 0.19. If max_iter is set but tol is left unset, the default value for tol in 0.19 and 0.20 will be None (which is equivalent to -infinity, so it has no effect) but will change in 0.21 to 1e-3. Specify tol to silence this warning.\n",
      "  FutureWarning)\n",
      "/home/krupal/anaconda3/lib/python3.6/site-packages/sklearn/model_selection/_split.py:2053: FutureWarning: You should specify a value for 'cv' instead of relying on the default value. The default value will change from 3 to 5 in version 0.22.\n",
      "  warnings.warn(CV_WARNING, FutureWarning)\n",
      "/home/krupal/anaconda3/lib/python3.6/site-packages/sklearn/linear_model/stochastic_gradient.py:183: FutureWarning: max_iter and tol parameters have been added in SGDClassifier in 0.19. If max_iter is set but tol is left unset, the default value for tol in 0.19 and 0.20 will be None (which is equivalent to -infinity, so it has no effect) but will change in 0.21 to 1e-3. Specify tol to silence this warning.\n",
      "  FutureWarning)\n",
      "/home/krupal/anaconda3/lib/python3.6/site-packages/sklearn/linear_model/stochastic_gradient.py:183: FutureWarning: max_iter and tol parameters have been added in SGDClassifier in 0.19. If max_iter is set but tol is left unset, the default value for tol in 0.19 and 0.20 will be None (which is equivalent to -infinity, so it has no effect) but will change in 0.21 to 1e-3. Specify tol to silence this warning.\n",
      "  FutureWarning)\n",
      "/home/krupal/anaconda3/lib/python3.6/site-packages/sklearn/linear_model/stochastic_gradient.py:183: FutureWarning: max_iter and tol parameters have been added in SGDClassifier in 0.19. If max_iter is set but tol is left unset, the default value for tol in 0.19 and 0.20 will be None (which is equivalent to -infinity, so it has no effect) but will change in 0.21 to 1e-3. Specify tol to silence this warning.\n",
      "  FutureWarning)\n"
     ]
    },
    {
     "name": "stdout",
     "output_type": "stream",
     "text": [
      "The train loss for the best alpha value is:  0.435533683819\n",
      "The cross validation loss for the best alpha value is:  1.21956868863\n",
      "The test loss for the best alpha value is:  1.04637655722\n"
     ]
    }
   ],
   "source": [
    "best_alpha = np.argmin(cv_log_error_array)\n",
    "clf = SGDClassifier(class_weight='balanced', alpha=alpha[best_alpha], penalty='l2', loss='log', random_state=42, max_iter = 100)\n",
    "clf.fit(training_X, training_Y)\n",
    "sig_clf = CalibratedClassifierCV(clf, method=\"sigmoid\")\n",
    "sig_clf.fit(training_X, training_Y)\n",
    "\n",
    "predict_y = sig_clf.predict_proba(training_X)\n",
    "print(\"The train loss for the best alpha value is: \",log_loss(training_Y,predict_y))\n",
    "predict_y = sig_clf.predict_proba(cv_X)\n",
    "print(\"The cross validation loss for the best alpha value is: \",log_loss(cv_Y,predict_y))\n",
    "predict_y = sig_clf.predict_proba(test_X)\n",
    "print(\"The test loss for the best alpha value is: \",log_loss(test_Y,predict_y))"
   ]
  },
  {
   "cell_type": "code",
   "execution_count": 96,
   "metadata": {},
   "outputs": [
    {
     "name": "stdout",
     "output_type": "stream",
     "text": [
      "Number of missclassified points are:  0.3263157894736842\n",
      "The accuray score for the model is:  0.6736842105263158\n",
      "                     Confusion matrix                     \n"
     ]
    },
    {
     "data": {
      "image/png": "[encoded data removed]",
      "text/plain": [
       "<Figure size 1440x504 with 2 Axes>"
      ]
     },
     "metadata": {
      "needs_background": "light"
     },
     "output_type": "display_data"
    }
   ],
   "source": [
    "predict_y = sig_clf.predict(test_X)\n",
    "x = missclassified_points(test_Y,predict_y)\n",
    "print(\"The accuray score for the model is: \",(1-x))\n",
    "plot_confusion_matrix(test_Y,predict_y)"
   ]
  },
  {
   "cell_type": "code",
   "execution_count": 84,
   "metadata": {},
   "outputs": [
    {
     "name": "stdout",
     "output_type": "stream",
     "text": [
      "Predicted Class : 7\n",
      "Predicted Class Probabilities: [[ 0.0301  0.1693  0.0034  0.0189  0.012   0.0049  0.7557  0.0037  0.002 ]]\n",
      "Actual Class : 5\n"
     ]
    }
   ],
   "source": [
    "#Testing a random pont\n",
    "test_point_index = 10\n",
    "no_feature = 100\n",
    "predicted_cls = sig_clf.predict(test_X[test_point_index])\n",
    "print(\"Predicted Class :\", predicted_cls[0])\n",
    "print(\"Predicted Class Probabilities:\", np.round(sig_clf.predict_proba(test_X[test_point_index]),4))\n",
    "print(\"Actual Class :\", test_Y[test_point_index])"
   ]
  },
  {
   "cell_type": "markdown",
   "metadata": {},
   "source": [
    "# Stochastic Gradient Descent with Class Balancing"
   ]
  },
  {
   "cell_type": "code",
   "execution_count": 85,
   "metadata": {},
   "outputs": [
    {
     "name": "stdout",
     "output_type": "stream",
     "text": [
      "for alpha = 0.0001\n"
     ]
    },
    {
     "name": "stderr",
     "output_type": "stream",
     "text": [
      "/home/krupal/anaconda3/lib/python3.6/site-packages/sklearn/linear_model/stochastic_gradient.py:183: FutureWarning: max_iter and tol parameters have been added in SGDClassifier in 0.19. If max_iter is set but tol is left unset, the default value for tol in 0.19 and 0.20 will be None (which is equivalent to -infinity, so it has no effect) but will change in 0.21 to 1e-3. Specify tol to silence this warning.\n",
      "  FutureWarning)\n",
      "/home/krupal/anaconda3/lib/python3.6/site-packages/sklearn/model_selection/_split.py:2053: FutureWarning: You should specify a value for 'cv' instead of relying on the default value. The default value will change from 3 to 5 in version 0.22.\n",
      "  warnings.warn(CV_WARNING, FutureWarning)\n",
      "/home/krupal/anaconda3/lib/python3.6/site-packages/sklearn/linear_model/stochastic_gradient.py:183: FutureWarning: max_iter and tol parameters have been added in SGDClassifier in 0.19. If max_iter is set but tol is left unset, the default value for tol in 0.19 and 0.20 will be None (which is equivalent to -infinity, so it has no effect) but will change in 0.21 to 1e-3. Specify tol to silence this warning.\n",
      "  FutureWarning)\n",
      "/home/krupal/anaconda3/lib/python3.6/site-packages/sklearn/linear_model/stochastic_gradient.py:183: FutureWarning: max_iter and tol parameters have been added in SGDClassifier in 0.19. If max_iter is set but tol is left unset, the default value for tol in 0.19 and 0.20 will be None (which is equivalent to -infinity, so it has no effect) but will change in 0.21 to 1e-3. Specify tol to silence this warning.\n",
      "  FutureWarning)\n",
      "/home/krupal/anaconda3/lib/python3.6/site-packages/sklearn/linear_model/stochastic_gradient.py:183: FutureWarning: max_iter and tol parameters have been added in SGDClassifier in 0.19. If max_iter is set but tol is left unset, the default value for tol in 0.19 and 0.20 will be None (which is equivalent to -infinity, so it has no effect) but will change in 0.21 to 1e-3. Specify tol to silence this warning.\n",
      "  FutureWarning)\n"
     ]
    },
    {
     "name": "stdout",
     "output_type": "stream",
     "text": [
      "Log Loss : 1.27113683106\n",
      "for alpha = 0.001\n"
     ]
    },
    {
     "name": "stderr",
     "output_type": "stream",
     "text": [
      "/home/krupal/anaconda3/lib/python3.6/site-packages/sklearn/linear_model/stochastic_gradient.py:183: FutureWarning: max_iter and tol parameters have been added in SGDClassifier in 0.19. If max_iter is set but tol is left unset, the default value for tol in 0.19 and 0.20 will be None (which is equivalent to -infinity, so it has no effect) but will change in 0.21 to 1e-3. Specify tol to silence this warning.\n",
      "  FutureWarning)\n",
      "/home/krupal/anaconda3/lib/python3.6/site-packages/sklearn/model_selection/_split.py:2053: FutureWarning: You should specify a value for 'cv' instead of relying on the default value. The default value will change from 3 to 5 in version 0.22.\n",
      "  warnings.warn(CV_WARNING, FutureWarning)\n",
      "/home/krupal/anaconda3/lib/python3.6/site-packages/sklearn/linear_model/stochastic_gradient.py:183: FutureWarning: max_iter and tol parameters have been added in SGDClassifier in 0.19. If max_iter is set but tol is left unset, the default value for tol in 0.19 and 0.20 will be None (which is equivalent to -infinity, so it has no effect) but will change in 0.21 to 1e-3. Specify tol to silence this warning.\n",
      "  FutureWarning)\n",
      "/home/krupal/anaconda3/lib/python3.6/site-packages/sklearn/linear_model/stochastic_gradient.py:183: FutureWarning: max_iter and tol parameters have been added in SGDClassifier in 0.19. If max_iter is set but tol is left unset, the default value for tol in 0.19 and 0.20 will be None (which is equivalent to -infinity, so it has no effect) but will change in 0.21 to 1e-3. Specify tol to silence this warning.\n",
      "  FutureWarning)\n",
      "/home/krupal/anaconda3/lib/python3.6/site-packages/sklearn/linear_model/stochastic_gradient.py:183: FutureWarning: max_iter and tol parameters have been added in SGDClassifier in 0.19. If max_iter is set but tol is left unset, the default value for tol in 0.19 and 0.20 will be None (which is equivalent to -infinity, so it has no effect) but will change in 0.21 to 1e-3. Specify tol to silence this warning.\n",
      "  FutureWarning)\n"
     ]
    },
    {
     "name": "stdout",
     "output_type": "stream",
     "text": [
      "Log Loss : 1.27681983146\n",
      "for alpha = 0.01\n"
     ]
    },
    {
     "name": "stderr",
     "output_type": "stream",
     "text": [
      "/home/krupal/anaconda3/lib/python3.6/site-packages/sklearn/linear_model/stochastic_gradient.py:183: FutureWarning: max_iter and tol parameters have been added in SGDClassifier in 0.19. If max_iter is set but tol is left unset, the default value for tol in 0.19 and 0.20 will be None (which is equivalent to -infinity, so it has no effect) but will change in 0.21 to 1e-3. Specify tol to silence this warning.\n",
      "  FutureWarning)\n",
      "/home/krupal/anaconda3/lib/python3.6/site-packages/sklearn/model_selection/_split.py:2053: FutureWarning: You should specify a value for 'cv' instead of relying on the default value. The default value will change from 3 to 5 in version 0.22.\n",
      "  warnings.warn(CV_WARNING, FutureWarning)\n",
      "/home/krupal/anaconda3/lib/python3.6/site-packages/sklearn/linear_model/stochastic_gradient.py:183: FutureWarning: max_iter and tol parameters have been added in SGDClassifier in 0.19. If max_iter is set but tol is left unset, the default value for tol in 0.19 and 0.20 will be None (which is equivalent to -infinity, so it has no effect) but will change in 0.21 to 1e-3. Specify tol to silence this warning.\n",
      "  FutureWarning)\n",
      "/home/krupal/anaconda3/lib/python3.6/site-packages/sklearn/linear_model/stochastic_gradient.py:183: FutureWarning: max_iter and tol parameters have been added in SGDClassifier in 0.19. If max_iter is set but tol is left unset, the default value for tol in 0.19 and 0.20 will be None (which is equivalent to -infinity, so it has no effect) but will change in 0.21 to 1e-3. Specify tol to silence this warning.\n",
      "  FutureWarning)\n",
      "/home/krupal/anaconda3/lib/python3.6/site-packages/sklearn/linear_model/stochastic_gradient.py:183: FutureWarning: max_iter and tol parameters have been added in SGDClassifier in 0.19. If max_iter is set but tol is left unset, the default value for tol in 0.19 and 0.20 will be None (which is equivalent to -infinity, so it has no effect) but will change in 0.21 to 1e-3. Specify tol to silence this warning.\n",
      "  FutureWarning)\n"
     ]
    },
    {
     "name": "stdout",
     "output_type": "stream",
     "text": [
      "Log Loss : 1.41123672706\n",
      "for alpha = 0.1\n"
     ]
    },
    {
     "name": "stderr",
     "output_type": "stream",
     "text": [
      "/home/krupal/anaconda3/lib/python3.6/site-packages/sklearn/linear_model/stochastic_gradient.py:183: FutureWarning: max_iter and tol parameters have been added in SGDClassifier in 0.19. If max_iter is set but tol is left unset, the default value for tol in 0.19 and 0.20 will be None (which is equivalent to -infinity, so it has no effect) but will change in 0.21 to 1e-3. Specify tol to silence this warning.\n",
      "  FutureWarning)\n",
      "/home/krupal/anaconda3/lib/python3.6/site-packages/sklearn/model_selection/_split.py:2053: FutureWarning: You should specify a value for 'cv' instead of relying on the default value. The default value will change from 3 to 5 in version 0.22.\n",
      "  warnings.warn(CV_WARNING, FutureWarning)\n",
      "/home/krupal/anaconda3/lib/python3.6/site-packages/sklearn/linear_model/stochastic_gradient.py:183: FutureWarning: max_iter and tol parameters have been added in SGDClassifier in 0.19. If max_iter is set but tol is left unset, the default value for tol in 0.19 and 0.20 will be None (which is equivalent to -infinity, so it has no effect) but will change in 0.21 to 1e-3. Specify tol to silence this warning.\n",
      "  FutureWarning)\n",
      "/home/krupal/anaconda3/lib/python3.6/site-packages/sklearn/linear_model/stochastic_gradient.py:183: FutureWarning: max_iter and tol parameters have been added in SGDClassifier in 0.19. If max_iter is set but tol is left unset, the default value for tol in 0.19 and 0.20 will be None (which is equivalent to -infinity, so it has no effect) but will change in 0.21 to 1e-3. Specify tol to silence this warning.\n",
      "  FutureWarning)\n",
      "/home/krupal/anaconda3/lib/python3.6/site-packages/sklearn/linear_model/stochastic_gradient.py:183: FutureWarning: max_iter and tol parameters have been added in SGDClassifier in 0.19. If max_iter is set but tol is left unset, the default value for tol in 0.19 and 0.20 will be None (which is equivalent to -infinity, so it has no effect) but will change in 0.21 to 1e-3. Specify tol to silence this warning.\n",
      "  FutureWarning)\n"
     ]
    },
    {
     "name": "stdout",
     "output_type": "stream",
     "text": [
      "Log Loss : 1.54230980365\n",
      "for alpha = 1\n"
     ]
    },
    {
     "name": "stderr",
     "output_type": "stream",
     "text": [
      "/home/krupal/anaconda3/lib/python3.6/site-packages/sklearn/linear_model/stochastic_gradient.py:183: FutureWarning: max_iter and tol parameters have been added in SGDClassifier in 0.19. If max_iter is set but tol is left unset, the default value for tol in 0.19 and 0.20 will be None (which is equivalent to -infinity, so it has no effect) but will change in 0.21 to 1e-3. Specify tol to silence this warning.\n",
      "  FutureWarning)\n",
      "/home/krupal/anaconda3/lib/python3.6/site-packages/sklearn/model_selection/_split.py:2053: FutureWarning: You should specify a value for 'cv' instead of relying on the default value. The default value will change from 3 to 5 in version 0.22.\n",
      "  warnings.warn(CV_WARNING, FutureWarning)\n",
      "/home/krupal/anaconda3/lib/python3.6/site-packages/sklearn/linear_model/stochastic_gradient.py:183: FutureWarning: max_iter and tol parameters have been added in SGDClassifier in 0.19. If max_iter is set but tol is left unset, the default value for tol in 0.19 and 0.20 will be None (which is equivalent to -infinity, so it has no effect) but will change in 0.21 to 1e-3. Specify tol to silence this warning.\n",
      "  FutureWarning)\n",
      "/home/krupal/anaconda3/lib/python3.6/site-packages/sklearn/linear_model/stochastic_gradient.py:183: FutureWarning: max_iter and tol parameters have been added in SGDClassifier in 0.19. If max_iter is set but tol is left unset, the default value for tol in 0.19 and 0.20 will be None (which is equivalent to -infinity, so it has no effect) but will change in 0.21 to 1e-3. Specify tol to silence this warning.\n",
      "  FutureWarning)\n",
      "/home/krupal/anaconda3/lib/python3.6/site-packages/sklearn/linear_model/stochastic_gradient.py:183: FutureWarning: max_iter and tol parameters have been added in SGDClassifier in 0.19. If max_iter is set but tol is left unset, the default value for tol in 0.19 and 0.20 will be None (which is equivalent to -infinity, so it has no effect) but will change in 0.21 to 1e-3. Specify tol to silence this warning.\n",
      "  FutureWarning)\n"
     ]
    },
    {
     "name": "stdout",
     "output_type": "stream",
     "text": [
      "Log Loss : 1.77923784853\n",
      "for alpha = 10\n"
     ]
    },
    {
     "name": "stderr",
     "output_type": "stream",
     "text": [
      "/home/krupal/anaconda3/lib/python3.6/site-packages/sklearn/linear_model/stochastic_gradient.py:183: FutureWarning: max_iter and tol parameters have been added in SGDClassifier in 0.19. If max_iter is set but tol is left unset, the default value for tol in 0.19 and 0.20 will be None (which is equivalent to -infinity, so it has no effect) but will change in 0.21 to 1e-3. Specify tol to silence this warning.\n",
      "  FutureWarning)\n",
      "/home/krupal/anaconda3/lib/python3.6/site-packages/sklearn/model_selection/_split.py:2053: FutureWarning: You should specify a value for 'cv' instead of relying on the default value. The default value will change from 3 to 5 in version 0.22.\n",
      "  warnings.warn(CV_WARNING, FutureWarning)\n",
      "/home/krupal/anaconda3/lib/python3.6/site-packages/sklearn/linear_model/stochastic_gradient.py:183: FutureWarning: max_iter and tol parameters have been added in SGDClassifier in 0.19. If max_iter is set but tol is left unset, the default value for tol in 0.19 and 0.20 will be None (which is equivalent to -infinity, so it has no effect) but will change in 0.21 to 1e-3. Specify tol to silence this warning.\n",
      "  FutureWarning)\n",
      "/home/krupal/anaconda3/lib/python3.6/site-packages/sklearn/linear_model/stochastic_gradient.py:183: FutureWarning: max_iter and tol parameters have been added in SGDClassifier in 0.19. If max_iter is set but tol is left unset, the default value for tol in 0.19 and 0.20 will be None (which is equivalent to -infinity, so it has no effect) but will change in 0.21 to 1e-3. Specify tol to silence this warning.\n",
      "  FutureWarning)\n",
      "/home/krupal/anaconda3/lib/python3.6/site-packages/sklearn/linear_model/stochastic_gradient.py:183: FutureWarning: max_iter and tol parameters have been added in SGDClassifier in 0.19. If max_iter is set but tol is left unset, the default value for tol in 0.19 and 0.20 will be None (which is equivalent to -infinity, so it has no effect) but will change in 0.21 to 1e-3. Specify tol to silence this warning.\n",
      "  FutureWarning)\n"
     ]
    },
    {
     "name": "stdout",
     "output_type": "stream",
     "text": [
      "Log Loss : 1.81111123478\n",
      "for alpha = 100\n"
     ]
    },
    {
     "name": "stderr",
     "output_type": "stream",
     "text": [
      "/home/krupal/anaconda3/lib/python3.6/site-packages/sklearn/linear_model/stochastic_gradient.py:183: FutureWarning: max_iter and tol parameters have been added in SGDClassifier in 0.19. If max_iter is set but tol is left unset, the default value for tol in 0.19 and 0.20 will be None (which is equivalent to -infinity, so it has no effect) but will change in 0.21 to 1e-3. Specify tol to silence this warning.\n",
      "  FutureWarning)\n",
      "/home/krupal/anaconda3/lib/python3.6/site-packages/sklearn/model_selection/_split.py:2053: FutureWarning: You should specify a value for 'cv' instead of relying on the default value. The default value will change from 3 to 5 in version 0.22.\n",
      "  warnings.warn(CV_WARNING, FutureWarning)\n",
      "/home/krupal/anaconda3/lib/python3.6/site-packages/sklearn/linear_model/stochastic_gradient.py:183: FutureWarning: max_iter and tol parameters have been added in SGDClassifier in 0.19. If max_iter is set but tol is left unset, the default value for tol in 0.19 and 0.20 will be None (which is equivalent to -infinity, so it has no effect) but will change in 0.21 to 1e-3. Specify tol to silence this warning.\n",
      "  FutureWarning)\n",
      "/home/krupal/anaconda3/lib/python3.6/site-packages/sklearn/linear_model/stochastic_gradient.py:183: FutureWarning: max_iter and tol parameters have been added in SGDClassifier in 0.19. If max_iter is set but tol is left unset, the default value for tol in 0.19 and 0.20 will be None (which is equivalent to -infinity, so it has no effect) but will change in 0.21 to 1e-3. Specify tol to silence this warning.\n",
      "  FutureWarning)\n",
      "/home/krupal/anaconda3/lib/python3.6/site-packages/sklearn/linear_model/stochastic_gradient.py:183: FutureWarning: max_iter and tol parameters have been added in SGDClassifier in 0.19. If max_iter is set but tol is left unset, the default value for tol in 0.19 and 0.20 will be None (which is equivalent to -infinity, so it has no effect) but will change in 0.21 to 1e-3. Specify tol to silence this warning.\n",
      "  FutureWarning)\n"
     ]
    },
    {
     "name": "stdout",
     "output_type": "stream",
     "text": [
      "Log Loss : 1.81430838775\n",
      "for alpha = 1000\n"
     ]
    },
    {
     "name": "stderr",
     "output_type": "stream",
     "text": [
      "/home/krupal/anaconda3/lib/python3.6/site-packages/sklearn/linear_model/stochastic_gradient.py:183: FutureWarning: max_iter and tol parameters have been added in SGDClassifier in 0.19. If max_iter is set but tol is left unset, the default value for tol in 0.19 and 0.20 will be None (which is equivalent to -infinity, so it has no effect) but will change in 0.21 to 1e-3. Specify tol to silence this warning.\n",
      "  FutureWarning)\n",
      "/home/krupal/anaconda3/lib/python3.6/site-packages/sklearn/model_selection/_split.py:2053: FutureWarning: You should specify a value for 'cv' instead of relying on the default value. The default value will change from 3 to 5 in version 0.22.\n",
      "  warnings.warn(CV_WARNING, FutureWarning)\n",
      "/home/krupal/anaconda3/lib/python3.6/site-packages/sklearn/linear_model/stochastic_gradient.py:183: FutureWarning: max_iter and tol parameters have been added in SGDClassifier in 0.19. If max_iter is set but tol is left unset, the default value for tol in 0.19 and 0.20 will be None (which is equivalent to -infinity, so it has no effect) but will change in 0.21 to 1e-3. Specify tol to silence this warning.\n",
      "  FutureWarning)\n",
      "/home/krupal/anaconda3/lib/python3.6/site-packages/sklearn/linear_model/stochastic_gradient.py:183: FutureWarning: max_iter and tol parameters have been added in SGDClassifier in 0.19. If max_iter is set but tol is left unset, the default value for tol in 0.19 and 0.20 will be None (which is equivalent to -infinity, so it has no effect) but will change in 0.21 to 1e-3. Specify tol to silence this warning.\n",
      "  FutureWarning)\n",
      "/home/krupal/anaconda3/lib/python3.6/site-packages/sklearn/linear_model/stochastic_gradient.py:183: FutureWarning: max_iter and tol parameters have been added in SGDClassifier in 0.19. If max_iter is set but tol is left unset, the default value for tol in 0.19 and 0.20 will be None (which is equivalent to -infinity, so it has no effect) but will change in 0.21 to 1e-3. Specify tol to silence this warning.\n",
      "  FutureWarning)\n"
     ]
    },
    {
     "name": "stdout",
     "output_type": "stream",
     "text": [
      "Log Loss : 1.81465238295\n"
     ]
    },
    {
     "data": {
      "image/png": "[encoded data removed]",
      "text/plain": [
       "<Figure size 432x288 with 1 Axes>"
      ]
     },
     "metadata": {
      "needs_background": "light"
     },
     "output_type": "display_data"
    },
    {
     "name": "stderr",
     "output_type": "stream",
     "text": [
      "/home/krupal/anaconda3/lib/python3.6/site-packages/sklearn/linear_model/stochastic_gradient.py:183: FutureWarning: max_iter and tol parameters have been added in SGDClassifier in 0.19. If max_iter is set but tol is left unset, the default value for tol in 0.19 and 0.20 will be None (which is equivalent to -infinity, so it has no effect) but will change in 0.21 to 1e-3. Specify tol to silence this warning.\n",
      "  FutureWarning)\n",
      "/home/krupal/anaconda3/lib/python3.6/site-packages/sklearn/model_selection/_split.py:2053: FutureWarning: You should specify a value for 'cv' instead of relying on the default value. The default value will change from 3 to 5 in version 0.22.\n",
      "  warnings.warn(CV_WARNING, FutureWarning)\n",
      "/home/krupal/anaconda3/lib/python3.6/site-packages/sklearn/linear_model/stochastic_gradient.py:183: FutureWarning: max_iter and tol parameters have been added in SGDClassifier in 0.19. If max_iter is set but tol is left unset, the default value for tol in 0.19 and 0.20 will be None (which is equivalent to -infinity, so it has no effect) but will change in 0.21 to 1e-3. Specify tol to silence this warning.\n",
      "  FutureWarning)\n",
      "/home/krupal/anaconda3/lib/python3.6/site-packages/sklearn/linear_model/stochastic_gradient.py:183: FutureWarning: max_iter and tol parameters have been added in SGDClassifier in 0.19. If max_iter is set but tol is left unset, the default value for tol in 0.19 and 0.20 will be None (which is equivalent to -infinity, so it has no effect) but will change in 0.21 to 1e-3. Specify tol to silence this warning.\n",
      "  FutureWarning)\n",
      "/home/krupal/anaconda3/lib/python3.6/site-packages/sklearn/linear_model/stochastic_gradient.py:183: FutureWarning: max_iter and tol parameters have been added in SGDClassifier in 0.19. If max_iter is set but tol is left unset, the default value for tol in 0.19 and 0.20 will be None (which is equivalent to -infinity, so it has no effect) but will change in 0.21 to 1e-3. Specify tol to silence this warning.\n",
      "  FutureWarning)\n"
     ]
    },
    {
     "name": "stdout",
     "output_type": "stream",
     "text": [
      "The train loss for the best alpha value is:  0.439463003706\n",
      "The cross validation loss for the best alpha value is:  1.27113683106\n",
      "The test loss for the best alpha value is:  1.0586870927\n",
      "Number of missclassified points are:  0.32781954887218046\n",
      "The accuray score for the model is:  0.6721804511278195\n",
      "                     Confusion matrix                     \n"
     ]
    },
    {
     "data": {
      "image/png": "[encoded data removed]",
      "text/plain": [
       "<Figure size 1440x504 with 2 Axes>"
      ]
     },
     "metadata": {
      "needs_background": "light"
     },
     "output_type": "display_data"
    }
   ],
   "source": [
    "#Implementing Stochastic Gradient Descent with balancing all classes\n",
    "alpha = [10 ** x for x in range(-4, 4)]\n",
    "cv_log_error_array = []\n",
    "for i in alpha:\n",
    "    print(\"for alpha =\", i)\n",
    "    clf = SGDClassifier(alpha=i, penalty='l2', loss='log', random_state=42, max_iter = 100)\n",
    "    clf.fit(training_X, training_Y)\n",
    "    sig_clf = CalibratedClassifierCV(clf, method=\"sigmoid\")\n",
    "    sig_clf.fit(training_X, training_Y)\n",
    "    sig_clf_probs = sig_clf.predict_proba(cv_X)\n",
    "    cv_log_error_array.append(log_loss(cv_Y, sig_clf_probs, eps=1e-15))\n",
    "    print(\"Log Loss :\",log_loss(cv_Y, sig_clf_probs)) \n",
    "\n",
    "    \n",
    "fig, ax = plt.subplots()\n",
    "ax.plot(np.log10(alpha), cv_log_error_array)\n",
    "for i, txt in enumerate(np.round(cv_log_error_array,3)):\n",
    "    ax.annotate((alpha[i],str(txt)), (np.log10(alpha[i]),cv_log_error_array[i]))\n",
    "plt.grid()\n",
    "plt.xticks(np.log10(alpha))\n",
    "plt.title(\"Cross Validation Error for each alpha\")\n",
    "plt.xlabel(\"Alpha i's\")\n",
    "plt.ylabel(\"Error measure\")\n",
    "plt.show()\n",
    "\n",
    "\n",
    "best_alpha = np.argmin(cv_log_error_array)\n",
    "clf = SGDClassifier(alpha=alpha[best_alpha], penalty='l2', loss='log', random_state=42, max_iter = 100)\n",
    "clf.fit(training_X, training_Y)\n",
    "sig_clf = CalibratedClassifierCV(clf, method=\"sigmoid\")\n",
    "sig_clf.fit(training_X, training_Y)\n",
    "\n",
    "predict_y = sig_clf.predict_proba(training_X)\n",
    "print(\"The train loss for the best alpha value is: \",log_loss(training_Y,predict_y))\n",
    "predict_y = sig_clf.predict_proba(cv_X)\n",
    "print(\"The cross validation loss for the best alpha value is: \",log_loss(cv_Y,predict_y))\n",
    "predict_y = sig_clf.predict_proba(test_X)\n",
    "print(\"The test loss for the best alpha value is: \",log_loss(test_Y,predict_y))\n",
    "\n",
    "\n",
    "predict_y = sig_clf.predict(test_X)\n",
    "x = missclassified_points(test_Y,predict_y)\n",
    "print(\"The accuray score for the model is: \",(1-x))\n",
    "plot_confusion_matrix(test_Y,predict_y)"
   ]
  },
  {
   "cell_type": "code",
   "execution_count": 86,
   "metadata": {},
   "outputs": [
    {
     "name": "stdout",
     "output_type": "stream",
     "text": [
      "Predicted Class : 7\n",
      "Predicted Class Probabilities: [[  3.30000000e-02   1.65900000e-01   2.80000000e-03   2.03000000e-02\n",
      "    1.13000000e-02   4.70000000e-03   7.56700000e-01   5.10000000e-03\n",
      "    3.00000000e-04]]\n",
      "Actual Class : 5\n"
     ]
    }
   ],
   "source": [
    "#Testing a random pont\n",
    "test_point_index = 10\n",
    "no_feature = 100\n",
    "predicted_cls = sig_clf.predict(test_X[test_point_index])\n",
    "print(\"Predicted Class :\", predicted_cls[0])\n",
    "print(\"Predicted Class Probabilities:\", np.round(sig_clf.predict_proba(test_X[test_point_index]),4))\n",
    "print(\"Actual Class :\", test_Y[test_point_index])"
   ]
  },
  {
   "cell_type": "markdown",
   "metadata": {},
   "source": [
    "# Random Forest Classifier"
   ]
  },
  {
   "cell_type": "code",
   "execution_count": 87,
   "metadata": {},
   "outputs": [
    {
     "name": "stdout",
     "output_type": "stream",
     "text": [
      "for n_estimators = 100 and max depth =  5\n"
     ]
    },
    {
     "name": "stderr",
     "output_type": "stream",
     "text": [
      "/home/krupal/anaconda3/lib/python3.6/site-packages/sklearn/model_selection/_split.py:2053: FutureWarning: You should specify a value for 'cv' instead of relying on the default value. The default value will change from 3 to 5 in version 0.22.\n",
      "  warnings.warn(CV_WARNING, FutureWarning)\n"
     ]
    },
    {
     "name": "stdout",
     "output_type": "stream",
     "text": [
      "Log Loss : 1.29021447856\n",
      "for n_estimators = 100 and max depth =  10\n"
     ]
    },
    {
     "name": "stderr",
     "output_type": "stream",
     "text": [
      "/home/krupal/anaconda3/lib/python3.6/site-packages/sklearn/model_selection/_split.py:2053: FutureWarning: You should specify a value for 'cv' instead of relying on the default value. The default value will change from 3 to 5 in version 0.22.\n",
      "  warnings.warn(CV_WARNING, FutureWarning)\n"
     ]
    },
    {
     "name": "stdout",
     "output_type": "stream",
     "text": [
      "Log Loss : 1.24976805028\n",
      "for n_estimators = 200 and max depth =  5\n"
     ]
    },
    {
     "name": "stderr",
     "output_type": "stream",
     "text": [
      "/home/krupal/anaconda3/lib/python3.6/site-packages/sklearn/model_selection/_split.py:2053: FutureWarning: You should specify a value for 'cv' instead of relying on the default value. The default value will change from 3 to 5 in version 0.22.\n",
      "  warnings.warn(CV_WARNING, FutureWarning)\n"
     ]
    },
    {
     "name": "stdout",
     "output_type": "stream",
     "text": [
      "Log Loss : 1.28265788111\n",
      "for n_estimators = 200 and max depth =  10\n"
     ]
    },
    {
     "name": "stderr",
     "output_type": "stream",
     "text": [
      "/home/krupal/anaconda3/lib/python3.6/site-packages/sklearn/model_selection/_split.py:2053: FutureWarning: You should specify a value for 'cv' instead of relying on the default value. The default value will change from 3 to 5 in version 0.22.\n",
      "  warnings.warn(CV_WARNING, FutureWarning)\n"
     ]
    },
    {
     "name": "stdout",
     "output_type": "stream",
     "text": [
      "Log Loss : 1.23710229761\n",
      "for n_estimators = 500 and max depth =  5\n"
     ]
    },
    {
     "name": "stderr",
     "output_type": "stream",
     "text": [
      "/home/krupal/anaconda3/lib/python3.6/site-packages/sklearn/model_selection/_split.py:2053: FutureWarning: You should specify a value for 'cv' instead of relying on the default value. The default value will change from 3 to 5 in version 0.22.\n",
      "  warnings.warn(CV_WARNING, FutureWarning)\n"
     ]
    },
    {
     "name": "stdout",
     "output_type": "stream",
     "text": [
      "Log Loss : 1.2742604681\n",
      "for n_estimators = 500 and max depth =  10\n"
     ]
    },
    {
     "name": "stderr",
     "output_type": "stream",
     "text": [
      "/home/krupal/anaconda3/lib/python3.6/site-packages/sklearn/model_selection/_split.py:2053: FutureWarning: You should specify a value for 'cv' instead of relying on the default value. The default value will change from 3 to 5 in version 0.22.\n",
      "  warnings.warn(CV_WARNING, FutureWarning)\n"
     ]
    },
    {
     "name": "stdout",
     "output_type": "stream",
     "text": [
      "Log Loss : 1.22630089606\n",
      "for n_estimators = 1000 and max depth =  5\n"
     ]
    },
    {
     "name": "stderr",
     "output_type": "stream",
     "text": [
      "/home/krupal/anaconda3/lib/python3.6/site-packages/sklearn/model_selection/_split.py:2053: FutureWarning: You should specify a value for 'cv' instead of relying on the default value. The default value will change from 3 to 5 in version 0.22.\n",
      "  warnings.warn(CV_WARNING, FutureWarning)\n"
     ]
    },
    {
     "name": "stdout",
     "output_type": "stream",
     "text": [
      "Log Loss : 1.27727194474\n",
      "for n_estimators = 1000 and max depth =  10\n"
     ]
    },
    {
     "name": "stderr",
     "output_type": "stream",
     "text": [
      "/home/krupal/anaconda3/lib/python3.6/site-packages/sklearn/model_selection/_split.py:2053: FutureWarning: You should specify a value for 'cv' instead of relying on the default value. The default value will change from 3 to 5 in version 0.22.\n",
      "  warnings.warn(CV_WARNING, FutureWarning)\n"
     ]
    },
    {
     "name": "stdout",
     "output_type": "stream",
     "text": [
      "Log Loss : 1.21951907857\n",
      "for n_estimators = 2000 and max depth =  5\n"
     ]
    },
    {
     "name": "stderr",
     "output_type": "stream",
     "text": [
      "/home/krupal/anaconda3/lib/python3.6/site-packages/sklearn/model_selection/_split.py:2053: FutureWarning: You should specify a value for 'cv' instead of relying on the default value. The default value will change from 3 to 5 in version 0.22.\n",
      "  warnings.warn(CV_WARNING, FutureWarning)\n"
     ]
    },
    {
     "name": "stdout",
     "output_type": "stream",
     "text": [
      "Log Loss : 1.27247240516\n",
      "for n_estimators = 2000 and max depth =  10\n"
     ]
    },
    {
     "name": "stderr",
     "output_type": "stream",
     "text": [
      "/home/krupal/anaconda3/lib/python3.6/site-packages/sklearn/model_selection/_split.py:2053: FutureWarning: You should specify a value for 'cv' instead of relying on the default value. The default value will change from 3 to 5 in version 0.22.\n",
      "  warnings.warn(CV_WARNING, FutureWarning)\n"
     ]
    },
    {
     "name": "stdout",
     "output_type": "stream",
     "text": [
      "Log Loss : 1.2176231632\n"
     ]
    }
   ],
   "source": [
    "#Implementing Random Forest Classifier\n",
    "alpha = [100,200,500,1000,2000]\n",
    "max_depth = [5, 10]\n",
    "cv_log_error_array = []\n",
    "for i in alpha:\n",
    "    for j in max_depth:\n",
    "        print(\"for n_estimators =\", i,\"and max depth = \", j)\n",
    "        clf = RandomForestClassifier(n_estimators=i, criterion='gini', max_depth=j, random_state=42, n_jobs=-1)\n",
    "        clf.fit(training_X, training_Y)\n",
    "        sig_clf = CalibratedClassifierCV(clf, method=\"sigmoid\")\n",
    "        sig_clf.fit(training_X, training_Y)\n",
    "        sig_clf_probs = sig_clf.predict_proba(cv_X)\n",
    "        cv_log_error_array.append(log_loss(cv_Y, sig_clf_probs, eps=1e-15))\n",
    "        print(\"Log Loss :\",log_loss(cv_Y, sig_clf_probs)) \n"
   ]
  },
  {
   "cell_type": "code",
   "execution_count": 88,
   "metadata": {},
   "outputs": [
    {
     "name": "stderr",
     "output_type": "stream",
     "text": [
      "/home/krupal/anaconda3/lib/python3.6/site-packages/sklearn/model_selection/_split.py:2053: FutureWarning: You should specify a value for 'cv' instead of relying on the default value. The default value will change from 3 to 5 in version 0.22.\n",
      "  warnings.warn(CV_WARNING, FutureWarning)\n"
     ]
    },
    {
     "name": "stdout",
     "output_type": "stream",
     "text": [
      "The train loss for the best alpha value is:  0.648472829434\n",
      "The cross validation loss for the best alpha value is:  1.2176231632\n",
      "The test loss for the best alpha value is:  1.14430862252\n",
      "Number of missclassified points are:  0.3894736842105263\n",
      "The accuray score for the model is:  0.6105263157894737\n",
      "                     Confusion matrix                     \n"
     ]
    },
    {
     "data": {
      "image/png": "[encoded data removed]",
      "text/plain": [
       "<Figure size 1440x504 with 2 Axes>"
      ]
     },
     "metadata": {
      "needs_background": "light"
     },
     "output_type": "display_data"
    }
   ],
   "source": [
    "best_alpha = np.argmin(cv_log_error_array)\n",
    "clf = RandomForestClassifier(n_estimators=alpha[int(best_alpha/2)], criterion='gini', max_depth=j, random_state=42, n_jobs=-1)\n",
    "clf.fit(training_X, training_Y)\n",
    "sig_clf = CalibratedClassifierCV(clf, method=\"sigmoid\")\n",
    "sig_clf.fit(training_X, training_Y)\n",
    "\n",
    "predict_y = sig_clf.predict_proba(training_X)\n",
    "print(\"The train loss for the best alpha value is: \",log_loss(training_Y,predict_y))\n",
    "predict_y = sig_clf.predict_proba(cv_X)\n",
    "print(\"The cross validation loss for the best alpha value is: \",log_loss(cv_Y,predict_y))\n",
    "predict_y = sig_clf.predict_proba(test_X)\n",
    "print(\"The test loss for the best alpha value is: \",log_loss(test_Y,predict_y))\n",
    "\n",
    "\n",
    "predict_y = sig_clf.predict(test_X)\n",
    "x = missclassified_points(test_Y,predict_y)\n",
    "print(\"The accuray score for the model is: \",(1-x))\n",
    "plot_confusion_matrix(test_Y,predict_y)"
   ]
  },
  {
   "cell_type": "code",
   "execution_count": 89,
   "metadata": {},
   "outputs": [
    {
     "data": {
      "text/plain": [
       "array([23938,  2696, 43812, ...,  6213,  6218, 46538])"
      ]
     },
     "execution_count": 89,
     "metadata": {},
     "output_type": "execute_result"
    }
   ],
   "source": [
    "np.argsort(-clf.feature_importances_)"
   ]
  },
  {
   "cell_type": "markdown",
   "metadata": {},
   "source": [
    "# Stacking Classifier "
   ]
  },
  {
   "cell_type": "code",
   "execution_count": 90,
   "metadata": {},
   "outputs": [
    {
     "name": "stderr",
     "output_type": "stream",
     "text": [
      "/home/krupal/anaconda3/lib/python3.6/site-packages/sklearn/linear_model/stochastic_gradient.py:166: FutureWarning: max_iter and tol parameters have been added in SGDClassifier in 0.19. If both are left unset, they default to max_iter=5 and tol=None. If tol is not None, max_iter defaults to max_iter=1000. From 0.21, default max_iter will be 1000, and default tol will be 1e-3.\n",
      "  FutureWarning)\n",
      "/home/krupal/anaconda3/lib/python3.6/site-packages/sklearn/model_selection/_split.py:2053: FutureWarning: You should specify a value for 'cv' instead of relying on the default value. The default value will change from 3 to 5 in version 0.22.\n",
      "  warnings.warn(CV_WARNING, FutureWarning)\n",
      "/home/krupal/anaconda3/lib/python3.6/site-packages/sklearn/linear_model/stochastic_gradient.py:166: FutureWarning: max_iter and tol parameters have been added in SGDClassifier in 0.19. If both are left unset, they default to max_iter=5 and tol=None. If tol is not None, max_iter defaults to max_iter=1000. From 0.21, default max_iter will be 1000, and default tol will be 1e-3.\n",
      "  FutureWarning)\n",
      "/home/krupal/anaconda3/lib/python3.6/site-packages/sklearn/linear_model/stochastic_gradient.py:166: FutureWarning: max_iter and tol parameters have been added in SGDClassifier in 0.19. If both are left unset, they default to max_iter=5 and tol=None. If tol is not None, max_iter defaults to max_iter=1000. From 0.21, default max_iter will be 1000, and default tol will be 1e-3.\n",
      "  FutureWarning)\n",
      "/home/krupal/anaconda3/lib/python3.6/site-packages/sklearn/linear_model/stochastic_gradient.py:166: FutureWarning: max_iter and tol parameters have been added in SGDClassifier in 0.19. If both are left unset, they default to max_iter=5 and tol=None. If tol is not None, max_iter defaults to max_iter=1000. From 0.21, default max_iter will be 1000, and default tol will be 1e-3.\n",
      "  FutureWarning)\n"
     ]
    },
    {
     "name": "stdout",
     "output_type": "stream",
     "text": [
      "Logistic Regression :  Log Loss: 1.26\n"
     ]
    },
    {
     "name": "stderr",
     "output_type": "stream",
     "text": [
      "/home/krupal/anaconda3/lib/python3.6/site-packages/sklearn/model_selection/_split.py:2053: FutureWarning: You should specify a value for 'cv' instead of relying on the default value. The default value will change from 3 to 5 in version 0.22.\n",
      "  warnings.warn(CV_WARNING, FutureWarning)\n",
      "/home/krupal/anaconda3/lib/python3.6/site-packages/sklearn/linear_model/stochastic_gradient.py:166: FutureWarning: max_iter and tol parameters have been added in SGDClassifier in 0.19. If both are left unset, they default to max_iter=5 and tol=None. If tol is not None, max_iter defaults to max_iter=1000. From 0.21, default max_iter will be 1000, and default tol will be 1e-3.\n",
      "  FutureWarning)\n",
      "/home/krupal/anaconda3/lib/python3.6/site-packages/sklearn/linear_model/stochastic_gradient.py:166: FutureWarning: max_iter and tol parameters have been added in SGDClassifier in 0.19. If both are left unset, they default to max_iter=5 and tol=None. If tol is not None, max_iter defaults to max_iter=1000. From 0.21, default max_iter will be 1000, and default tol will be 1e-3.\n",
      "  FutureWarning)\n",
      "/home/krupal/anaconda3/lib/python3.6/site-packages/sklearn/linear_model/stochastic_gradient.py:166: FutureWarning: max_iter and tol parameters have been added in SGDClassifier in 0.19. If both are left unset, they default to max_iter=5 and tol=None. If tol is not None, max_iter defaults to max_iter=1000. From 0.21, default max_iter will be 1000, and default tol will be 1e-3.\n",
      "  FutureWarning)\n"
     ]
    },
    {
     "name": "stdout",
     "output_type": "stream",
     "text": [
      "Support vector machines : Log Loss: 1.93\n"
     ]
    },
    {
     "name": "stderr",
     "output_type": "stream",
     "text": [
      "/home/krupal/anaconda3/lib/python3.6/site-packages/sklearn/model_selection/_split.py:2053: FutureWarning: You should specify a value for 'cv' instead of relying on the default value. The default value will change from 3 to 5 in version 0.22.\n",
      "  warnings.warn(CV_WARNING, FutureWarning)\n"
     ]
    },
    {
     "name": "stdout",
     "output_type": "stream",
     "text": [
      "Naive Bayes : Log Loss: 1.34\n",
      "--------------------------------------------------\n"
     ]
    },
    {
     "name": "stderr",
     "output_type": "stream",
     "text": [
      "/home/krupal/anaconda3/lib/python3.6/site-packages/sklearn/model_selection/_split.py:2053: FutureWarning: You should specify a value for 'cv' instead of relying on the default value. The default value will change from 3 to 5 in version 0.22.\n",
      "  warnings.warn(CV_WARNING, FutureWarning)\n",
      "/home/krupal/anaconda3/lib/python3.6/site-packages/sklearn/linear_model/stochastic_gradient.py:166: FutureWarning: max_iter and tol parameters have been added in SGDClassifier in 0.19. If both are left unset, they default to max_iter=5 and tol=None. If tol is not None, max_iter defaults to max_iter=1000. From 0.21, default max_iter will be 1000, and default tol will be 1e-3.\n",
      "  FutureWarning)\n",
      "/home/krupal/anaconda3/lib/python3.6/site-packages/sklearn/linear_model/stochastic_gradient.py:166: FutureWarning: max_iter and tol parameters have been added in SGDClassifier in 0.19. If both are left unset, they default to max_iter=5 and tol=None. If tol is not None, max_iter defaults to max_iter=1000. From 0.21, default max_iter will be 1000, and default tol will be 1e-3.\n",
      "  FutureWarning)\n",
      "/home/krupal/anaconda3/lib/python3.6/site-packages/sklearn/linear_model/stochastic_gradient.py:166: FutureWarning: max_iter and tol parameters have been added in SGDClassifier in 0.19. If both are left unset, they default to max_iter=5 and tol=None. If tol is not None, max_iter defaults to max_iter=1000. From 0.21, default max_iter will be 1000, and default tol will be 1e-3.\n",
      "  FutureWarning)\n",
      "/home/krupal/anaconda3/lib/python3.6/site-packages/sklearn/model_selection/_split.py:2053: FutureWarning: You should specify a value for 'cv' instead of relying on the default value. The default value will change from 3 to 5 in version 0.22.\n",
      "  warnings.warn(CV_WARNING, FutureWarning)\n",
      "/home/krupal/anaconda3/lib/python3.6/site-packages/sklearn/linear_model/stochastic_gradient.py:166: FutureWarning: max_iter and tol parameters have been added in SGDClassifier in 0.19. If both are left unset, they default to max_iter=5 and tol=None. If tol is not None, max_iter defaults to max_iter=1000. From 0.21, default max_iter will be 1000, and default tol will be 1e-3.\n",
      "  FutureWarning)\n",
      "/home/krupal/anaconda3/lib/python3.6/site-packages/sklearn/linear_model/stochastic_gradient.py:166: FutureWarning: max_iter and tol parameters have been added in SGDClassifier in 0.19. If both are left unset, they default to max_iter=5 and tol=None. If tol is not None, max_iter defaults to max_iter=1000. From 0.21, default max_iter will be 1000, and default tol will be 1e-3.\n",
      "  FutureWarning)\n",
      "/home/krupal/anaconda3/lib/python3.6/site-packages/sklearn/linear_model/stochastic_gradient.py:166: FutureWarning: max_iter and tol parameters have been added in SGDClassifier in 0.19. If both are left unset, they default to max_iter=5 and tol=None. If tol is not None, max_iter defaults to max_iter=1000. From 0.21, default max_iter will be 1000, and default tol will be 1e-3.\n",
      "  FutureWarning)\n",
      "/home/krupal/anaconda3/lib/python3.6/site-packages/sklearn/model_selection/_split.py:2053: FutureWarning: You should specify a value for 'cv' instead of relying on the default value. The default value will change from 3 to 5 in version 0.22.\n",
      "  warnings.warn(CV_WARNING, FutureWarning)\n",
      "/home/krupal/anaconda3/lib/python3.6/site-packages/sklearn/linear_model/logistic.py:433: FutureWarning: Default solver will be changed to 'lbfgs' in 0.22. Specify a solver to silence this warning.\n",
      "  FutureWarning)\n",
      "/home/krupal/anaconda3/lib/python3.6/site-packages/sklearn/linear_model/logistic.py:460: FutureWarning: Default multi_class will be changed to 'auto' in 0.22. Specify the multi_class option to silence this warning.\n",
      "  \"this warning.\", FutureWarning)\n"
     ]
    },
    {
     "name": "stdout",
     "output_type": "stream",
     "text": [
      "Stacking Classifer : for the value of alpha: 0.000100 Log Loss: 2.179\n"
     ]
    },
    {
     "name": "stderr",
     "output_type": "stream",
     "text": [
      "/home/krupal/anaconda3/lib/python3.6/site-packages/sklearn/model_selection/_split.py:2053: FutureWarning: You should specify a value for 'cv' instead of relying on the default value. The default value will change from 3 to 5 in version 0.22.\n",
      "  warnings.warn(CV_WARNING, FutureWarning)\n",
      "/home/krupal/anaconda3/lib/python3.6/site-packages/sklearn/linear_model/stochastic_gradient.py:166: FutureWarning: max_iter and tol parameters have been added in SGDClassifier in 0.19. If both are left unset, they default to max_iter=5 and tol=None. If tol is not None, max_iter defaults to max_iter=1000. From 0.21, default max_iter will be 1000, and default tol will be 1e-3.\n",
      "  FutureWarning)\n",
      "/home/krupal/anaconda3/lib/python3.6/site-packages/sklearn/linear_model/stochastic_gradient.py:166: FutureWarning: max_iter and tol parameters have been added in SGDClassifier in 0.19. If both are left unset, they default to max_iter=5 and tol=None. If tol is not None, max_iter defaults to max_iter=1000. From 0.21, default max_iter will be 1000, and default tol will be 1e-3.\n",
      "  FutureWarning)\n",
      "/home/krupal/anaconda3/lib/python3.6/site-packages/sklearn/linear_model/stochastic_gradient.py:166: FutureWarning: max_iter and tol parameters have been added in SGDClassifier in 0.19. If both are left unset, they default to max_iter=5 and tol=None. If tol is not None, max_iter defaults to max_iter=1000. From 0.21, default max_iter will be 1000, and default tol will be 1e-3.\n",
      "  FutureWarning)\n",
      "/home/krupal/anaconda3/lib/python3.6/site-packages/sklearn/model_selection/_split.py:2053: FutureWarning: You should specify a value for 'cv' instead of relying on the default value. The default value will change from 3 to 5 in version 0.22.\n",
      "  warnings.warn(CV_WARNING, FutureWarning)\n",
      "/home/krupal/anaconda3/lib/python3.6/site-packages/sklearn/linear_model/stochastic_gradient.py:166: FutureWarning: max_iter and tol parameters have been added in SGDClassifier in 0.19. If both are left unset, they default to max_iter=5 and tol=None. If tol is not None, max_iter defaults to max_iter=1000. From 0.21, default max_iter will be 1000, and default tol will be 1e-3.\n",
      "  FutureWarning)\n",
      "/home/krupal/anaconda3/lib/python3.6/site-packages/sklearn/linear_model/stochastic_gradient.py:166: FutureWarning: max_iter and tol parameters have been added in SGDClassifier in 0.19. If both are left unset, they default to max_iter=5 and tol=None. If tol is not None, max_iter defaults to max_iter=1000. From 0.21, default max_iter will be 1000, and default tol will be 1e-3.\n",
      "  FutureWarning)\n",
      "/home/krupal/anaconda3/lib/python3.6/site-packages/sklearn/linear_model/stochastic_gradient.py:166: FutureWarning: max_iter and tol parameters have been added in SGDClassifier in 0.19. If both are left unset, they default to max_iter=5 and tol=None. If tol is not None, max_iter defaults to max_iter=1000. From 0.21, default max_iter will be 1000, and default tol will be 1e-3.\n",
      "  FutureWarning)\n",
      "/home/krupal/anaconda3/lib/python3.6/site-packages/sklearn/model_selection/_split.py:2053: FutureWarning: You should specify a value for 'cv' instead of relying on the default value. The default value will change from 3 to 5 in version 0.22.\n",
      "  warnings.warn(CV_WARNING, FutureWarning)\n",
      "/home/krupal/anaconda3/lib/python3.6/site-packages/sklearn/linear_model/logistic.py:433: FutureWarning: Default solver will be changed to 'lbfgs' in 0.22. Specify a solver to silence this warning.\n",
      "  FutureWarning)\n",
      "/home/krupal/anaconda3/lib/python3.6/site-packages/sklearn/linear_model/logistic.py:460: FutureWarning: Default multi_class will be changed to 'auto' in 0.22. Specify the multi_class option to silence this warning.\n",
      "  \"this warning.\", FutureWarning)\n"
     ]
    },
    {
     "name": "stdout",
     "output_type": "stream",
     "text": [
      "Stacking Classifer : for the value of alpha: 0.001000 Log Loss: 2.048\n"
     ]
    },
    {
     "name": "stderr",
     "output_type": "stream",
     "text": [
      "/home/krupal/anaconda3/lib/python3.6/site-packages/sklearn/model_selection/_split.py:2053: FutureWarning: You should specify a value for 'cv' instead of relying on the default value. The default value will change from 3 to 5 in version 0.22.\n",
      "  warnings.warn(CV_WARNING, FutureWarning)\n",
      "/home/krupal/anaconda3/lib/python3.6/site-packages/sklearn/linear_model/stochastic_gradient.py:166: FutureWarning: max_iter and tol parameters have been added in SGDClassifier in 0.19. If both are left unset, they default to max_iter=5 and tol=None. If tol is not None, max_iter defaults to max_iter=1000. From 0.21, default max_iter will be 1000, and default tol will be 1e-3.\n",
      "  FutureWarning)\n",
      "/home/krupal/anaconda3/lib/python3.6/site-packages/sklearn/linear_model/stochastic_gradient.py:166: FutureWarning: max_iter and tol parameters have been added in SGDClassifier in 0.19. If both are left unset, they default to max_iter=5 and tol=None. If tol is not None, max_iter defaults to max_iter=1000. From 0.21, default max_iter will be 1000, and default tol will be 1e-3.\n",
      "  FutureWarning)\n",
      "/home/krupal/anaconda3/lib/python3.6/site-packages/sklearn/linear_model/stochastic_gradient.py:166: FutureWarning: max_iter and tol parameters have been added in SGDClassifier in 0.19. If both are left unset, they default to max_iter=5 and tol=None. If tol is not None, max_iter defaults to max_iter=1000. From 0.21, default max_iter will be 1000, and default tol will be 1e-3.\n",
      "  FutureWarning)\n",
      "/home/krupal/anaconda3/lib/python3.6/site-packages/sklearn/model_selection/_split.py:2053: FutureWarning: You should specify a value for 'cv' instead of relying on the default value. The default value will change from 3 to 5 in version 0.22.\n",
      "  warnings.warn(CV_WARNING, FutureWarning)\n",
      "/home/krupal/anaconda3/lib/python3.6/site-packages/sklearn/linear_model/stochastic_gradient.py:166: FutureWarning: max_iter and tol parameters have been added in SGDClassifier in 0.19. If both are left unset, they default to max_iter=5 and tol=None. If tol is not None, max_iter defaults to max_iter=1000. From 0.21, default max_iter will be 1000, and default tol will be 1e-3.\n",
      "  FutureWarning)\n",
      "/home/krupal/anaconda3/lib/python3.6/site-packages/sklearn/linear_model/stochastic_gradient.py:166: FutureWarning: max_iter and tol parameters have been added in SGDClassifier in 0.19. If both are left unset, they default to max_iter=5 and tol=None. If tol is not None, max_iter defaults to max_iter=1000. From 0.21, default max_iter will be 1000, and default tol will be 1e-3.\n",
      "  FutureWarning)\n",
      "/home/krupal/anaconda3/lib/python3.6/site-packages/sklearn/linear_model/stochastic_gradient.py:166: FutureWarning: max_iter and tol parameters have been added in SGDClassifier in 0.19. If both are left unset, they default to max_iter=5 and tol=None. If tol is not None, max_iter defaults to max_iter=1000. From 0.21, default max_iter will be 1000, and default tol will be 1e-3.\n",
      "  FutureWarning)\n",
      "/home/krupal/anaconda3/lib/python3.6/site-packages/sklearn/model_selection/_split.py:2053: FutureWarning: You should specify a value for 'cv' instead of relying on the default value. The default value will change from 3 to 5 in version 0.22.\n",
      "  warnings.warn(CV_WARNING, FutureWarning)\n",
      "/home/krupal/anaconda3/lib/python3.6/site-packages/sklearn/linear_model/logistic.py:433: FutureWarning: Default solver will be changed to 'lbfgs' in 0.22. Specify a solver to silence this warning.\n",
      "  FutureWarning)\n",
      "/home/krupal/anaconda3/lib/python3.6/site-packages/sklearn/linear_model/logistic.py:460: FutureWarning: Default multi_class will be changed to 'auto' in 0.22. Specify the multi_class option to silence this warning.\n",
      "  \"this warning.\", FutureWarning)\n"
     ]
    },
    {
     "name": "stdout",
     "output_type": "stream",
     "text": [
      "Stacking Classifer : for the value of alpha: 0.010000 Log Loss: 1.562\n"
     ]
    },
    {
     "name": "stderr",
     "output_type": "stream",
     "text": [
      "/home/krupal/anaconda3/lib/python3.6/site-packages/sklearn/model_selection/_split.py:2053: FutureWarning: You should specify a value for 'cv' instead of relying on the default value. The default value will change from 3 to 5 in version 0.22.\n",
      "  warnings.warn(CV_WARNING, FutureWarning)\n",
      "/home/krupal/anaconda3/lib/python3.6/site-packages/sklearn/linear_model/stochastic_gradient.py:166: FutureWarning: max_iter and tol parameters have been added in SGDClassifier in 0.19. If both are left unset, they default to max_iter=5 and tol=None. If tol is not None, max_iter defaults to max_iter=1000. From 0.21, default max_iter will be 1000, and default tol will be 1e-3.\n",
      "  FutureWarning)\n",
      "/home/krupal/anaconda3/lib/python3.6/site-packages/sklearn/linear_model/stochastic_gradient.py:166: FutureWarning: max_iter and tol parameters have been added in SGDClassifier in 0.19. If both are left unset, they default to max_iter=5 and tol=None. If tol is not None, max_iter defaults to max_iter=1000. From 0.21, default max_iter will be 1000, and default tol will be 1e-3.\n",
      "  FutureWarning)\n",
      "/home/krupal/anaconda3/lib/python3.6/site-packages/sklearn/linear_model/stochastic_gradient.py:166: FutureWarning: max_iter and tol parameters have been added in SGDClassifier in 0.19. If both are left unset, they default to max_iter=5 and tol=None. If tol is not None, max_iter defaults to max_iter=1000. From 0.21, default max_iter will be 1000, and default tol will be 1e-3.\n",
      "  FutureWarning)\n",
      "/home/krupal/anaconda3/lib/python3.6/site-packages/sklearn/model_selection/_split.py:2053: FutureWarning: You should specify a value for 'cv' instead of relying on the default value. The default value will change from 3 to 5 in version 0.22.\n",
      "  warnings.warn(CV_WARNING, FutureWarning)\n",
      "/home/krupal/anaconda3/lib/python3.6/site-packages/sklearn/linear_model/stochastic_gradient.py:166: FutureWarning: max_iter and tol parameters have been added in SGDClassifier in 0.19. If both are left unset, they default to max_iter=5 and tol=None. If tol is not None, max_iter defaults to max_iter=1000. From 0.21, default max_iter will be 1000, and default tol will be 1e-3.\n",
      "  FutureWarning)\n",
      "/home/krupal/anaconda3/lib/python3.6/site-packages/sklearn/linear_model/stochastic_gradient.py:166: FutureWarning: max_iter and tol parameters have been added in SGDClassifier in 0.19. If both are left unset, they default to max_iter=5 and tol=None. If tol is not None, max_iter defaults to max_iter=1000. From 0.21, default max_iter will be 1000, and default tol will be 1e-3.\n",
      "  FutureWarning)\n",
      "/home/krupal/anaconda3/lib/python3.6/site-packages/sklearn/linear_model/stochastic_gradient.py:166: FutureWarning: max_iter and tol parameters have been added in SGDClassifier in 0.19. If both are left unset, they default to max_iter=5 and tol=None. If tol is not None, max_iter defaults to max_iter=1000. From 0.21, default max_iter will be 1000, and default tol will be 1e-3.\n",
      "  FutureWarning)\n",
      "/home/krupal/anaconda3/lib/python3.6/site-packages/sklearn/model_selection/_split.py:2053: FutureWarning: You should specify a value for 'cv' instead of relying on the default value. The default value will change from 3 to 5 in version 0.22.\n",
      "  warnings.warn(CV_WARNING, FutureWarning)\n",
      "/home/krupal/anaconda3/lib/python3.6/site-packages/sklearn/linear_model/logistic.py:433: FutureWarning: Default solver will be changed to 'lbfgs' in 0.22. Specify a solver to silence this warning.\n",
      "  FutureWarning)\n",
      "/home/krupal/anaconda3/lib/python3.6/site-packages/sklearn/linear_model/logistic.py:460: FutureWarning: Default multi_class will be changed to 'auto' in 0.22. Specify the multi_class option to silence this warning.\n",
      "  \"this warning.\", FutureWarning)\n"
     ]
    },
    {
     "name": "stdout",
     "output_type": "stream",
     "text": [
      "Stacking Classifer : for the value of alpha: 0.100000 Log Loss: 1.228\n"
     ]
    },
    {
     "name": "stderr",
     "output_type": "stream",
     "text": [
      "/home/krupal/anaconda3/lib/python3.6/site-packages/sklearn/model_selection/_split.py:2053: FutureWarning: You should specify a value for 'cv' instead of relying on the default value. The default value will change from 3 to 5 in version 0.22.\n",
      "  warnings.warn(CV_WARNING, FutureWarning)\n",
      "/home/krupal/anaconda3/lib/python3.6/site-packages/sklearn/linear_model/stochastic_gradient.py:166: FutureWarning: max_iter and tol parameters have been added in SGDClassifier in 0.19. If both are left unset, they default to max_iter=5 and tol=None. If tol is not None, max_iter defaults to max_iter=1000. From 0.21, default max_iter will be 1000, and default tol will be 1e-3.\n",
      "  FutureWarning)\n",
      "/home/krupal/anaconda3/lib/python3.6/site-packages/sklearn/linear_model/stochastic_gradient.py:166: FutureWarning: max_iter and tol parameters have been added in SGDClassifier in 0.19. If both are left unset, they default to max_iter=5 and tol=None. If tol is not None, max_iter defaults to max_iter=1000. From 0.21, default max_iter will be 1000, and default tol will be 1e-3.\n",
      "  FutureWarning)\n",
      "/home/krupal/anaconda3/lib/python3.6/site-packages/sklearn/linear_model/stochastic_gradient.py:166: FutureWarning: max_iter and tol parameters have been added in SGDClassifier in 0.19. If both are left unset, they default to max_iter=5 and tol=None. If tol is not None, max_iter defaults to max_iter=1000. From 0.21, default max_iter will be 1000, and default tol will be 1e-3.\n",
      "  FutureWarning)\n",
      "/home/krupal/anaconda3/lib/python3.6/site-packages/sklearn/model_selection/_split.py:2053: FutureWarning: You should specify a value for 'cv' instead of relying on the default value. The default value will change from 3 to 5 in version 0.22.\n",
      "  warnings.warn(CV_WARNING, FutureWarning)\n",
      "/home/krupal/anaconda3/lib/python3.6/site-packages/sklearn/linear_model/stochastic_gradient.py:166: FutureWarning: max_iter and tol parameters have been added in SGDClassifier in 0.19. If both are left unset, they default to max_iter=5 and tol=None. If tol is not None, max_iter defaults to max_iter=1000. From 0.21, default max_iter will be 1000, and default tol will be 1e-3.\n",
      "  FutureWarning)\n",
      "/home/krupal/anaconda3/lib/python3.6/site-packages/sklearn/linear_model/stochastic_gradient.py:166: FutureWarning: max_iter and tol parameters have been added in SGDClassifier in 0.19. If both are left unset, they default to max_iter=5 and tol=None. If tol is not None, max_iter defaults to max_iter=1000. From 0.21, default max_iter will be 1000, and default tol will be 1e-3.\n",
      "  FutureWarning)\n",
      "/home/krupal/anaconda3/lib/python3.6/site-packages/sklearn/linear_model/stochastic_gradient.py:166: FutureWarning: max_iter and tol parameters have been added in SGDClassifier in 0.19. If both are left unset, they default to max_iter=5 and tol=None. If tol is not None, max_iter defaults to max_iter=1000. From 0.21, default max_iter will be 1000, and default tol will be 1e-3.\n",
      "  FutureWarning)\n",
      "/home/krupal/anaconda3/lib/python3.6/site-packages/sklearn/model_selection/_split.py:2053: FutureWarning: You should specify a value for 'cv' instead of relying on the default value. The default value will change from 3 to 5 in version 0.22.\n",
      "  warnings.warn(CV_WARNING, FutureWarning)\n",
      "/home/krupal/anaconda3/lib/python3.6/site-packages/sklearn/linear_model/logistic.py:433: FutureWarning: Default solver will be changed to 'lbfgs' in 0.22. Specify a solver to silence this warning.\n",
      "  FutureWarning)\n",
      "/home/krupal/anaconda3/lib/python3.6/site-packages/sklearn/linear_model/logistic.py:460: FutureWarning: Default multi_class will be changed to 'auto' in 0.22. Specify the multi_class option to silence this warning.\n",
      "  \"this warning.\", FutureWarning)\n"
     ]
    },
    {
     "name": "stdout",
     "output_type": "stream",
     "text": [
      "Stacking Classifer : for the value of alpha: 1.000000 Log Loss: 1.379\n"
     ]
    },
    {
     "name": "stderr",
     "output_type": "stream",
     "text": [
      "/home/krupal/anaconda3/lib/python3.6/site-packages/sklearn/model_selection/_split.py:2053: FutureWarning: You should specify a value for 'cv' instead of relying on the default value. The default value will change from 3 to 5 in version 0.22.\n",
      "  warnings.warn(CV_WARNING, FutureWarning)\n",
      "/home/krupal/anaconda3/lib/python3.6/site-packages/sklearn/linear_model/stochastic_gradient.py:166: FutureWarning: max_iter and tol parameters have been added in SGDClassifier in 0.19. If both are left unset, they default to max_iter=5 and tol=None. If tol is not None, max_iter defaults to max_iter=1000. From 0.21, default max_iter will be 1000, and default tol will be 1e-3.\n",
      "  FutureWarning)\n",
      "/home/krupal/anaconda3/lib/python3.6/site-packages/sklearn/linear_model/stochastic_gradient.py:166: FutureWarning: max_iter and tol parameters have been added in SGDClassifier in 0.19. If both are left unset, they default to max_iter=5 and tol=None. If tol is not None, max_iter defaults to max_iter=1000. From 0.21, default max_iter will be 1000, and default tol will be 1e-3.\n",
      "  FutureWarning)\n",
      "/home/krupal/anaconda3/lib/python3.6/site-packages/sklearn/linear_model/stochastic_gradient.py:166: FutureWarning: max_iter and tol parameters have been added in SGDClassifier in 0.19. If both are left unset, they default to max_iter=5 and tol=None. If tol is not None, max_iter defaults to max_iter=1000. From 0.21, default max_iter will be 1000, and default tol will be 1e-3.\n",
      "  FutureWarning)\n",
      "/home/krupal/anaconda3/lib/python3.6/site-packages/sklearn/model_selection/_split.py:2053: FutureWarning: You should specify a value for 'cv' instead of relying on the default value. The default value will change from 3 to 5 in version 0.22.\n",
      "  warnings.warn(CV_WARNING, FutureWarning)\n",
      "/home/krupal/anaconda3/lib/python3.6/site-packages/sklearn/linear_model/stochastic_gradient.py:166: FutureWarning: max_iter and tol parameters have been added in SGDClassifier in 0.19. If both are left unset, they default to max_iter=5 and tol=None. If tol is not None, max_iter defaults to max_iter=1000. From 0.21, default max_iter will be 1000, and default tol will be 1e-3.\n",
      "  FutureWarning)\n",
      "/home/krupal/anaconda3/lib/python3.6/site-packages/sklearn/linear_model/stochastic_gradient.py:166: FutureWarning: max_iter and tol parameters have been added in SGDClassifier in 0.19. If both are left unset, they default to max_iter=5 and tol=None. If tol is not None, max_iter defaults to max_iter=1000. From 0.21, default max_iter will be 1000, and default tol will be 1e-3.\n",
      "  FutureWarning)\n",
      "/home/krupal/anaconda3/lib/python3.6/site-packages/sklearn/linear_model/stochastic_gradient.py:166: FutureWarning: max_iter and tol parameters have been added in SGDClassifier in 0.19. If both are left unset, they default to max_iter=5 and tol=None. If tol is not None, max_iter defaults to max_iter=1000. From 0.21, default max_iter will be 1000, and default tol will be 1e-3.\n",
      "  FutureWarning)\n",
      "/home/krupal/anaconda3/lib/python3.6/site-packages/sklearn/model_selection/_split.py:2053: FutureWarning: You should specify a value for 'cv' instead of relying on the default value. The default value will change from 3 to 5 in version 0.22.\n",
      "  warnings.warn(CV_WARNING, FutureWarning)\n",
      "/home/krupal/anaconda3/lib/python3.6/site-packages/sklearn/linear_model/logistic.py:433: FutureWarning: Default solver will be changed to 'lbfgs' in 0.22. Specify a solver to silence this warning.\n",
      "  FutureWarning)\n",
      "/home/krupal/anaconda3/lib/python3.6/site-packages/sklearn/linear_model/logistic.py:460: FutureWarning: Default multi_class will be changed to 'auto' in 0.22. Specify the multi_class option to silence this warning.\n",
      "  \"this warning.\", FutureWarning)\n"
     ]
    },
    {
     "name": "stdout",
     "output_type": "stream",
     "text": [
      "Stacking Classifer : for the value of alpha: 10.000000 Log Loss: 1.686\n"
     ]
    }
   ],
   "source": [
    "#Implementing a Stacking Classifier\n",
    "\n",
    "clf1 = SGDClassifier(alpha=0.001, penalty='l2', loss='log', class_weight='balanced', random_state=0)\n",
    "clf1.fit(training_X, training_Y)\n",
    "sig_clf1 = CalibratedClassifierCV(clf1, method=\"sigmoid\")\n",
    "\n",
    "clf2 = SGDClassifier(alpha=1, penalty='l2', loss='hinge', class_weight='balanced', random_state=0)\n",
    "clf2.fit(training_X, training_Y)\n",
    "sig_clf2 = CalibratedClassifierCV(clf2, method=\"sigmoid\")\n",
    "\n",
    "\n",
    "clf3 = MultinomialNB(alpha=0.001)\n",
    "clf3.fit(training_X, training_Y)\n",
    "sig_clf3 = CalibratedClassifierCV(clf3, method=\"sigmoid\")\n",
    "\n",
    "sig_clf1.fit(training_X, training_Y)\n",
    "print(\"Logistic Regression :  Log Loss: %0.2f\" % (log_loss(cv_Y, sig_clf1.predict_proba(cv_X))))\n",
    "sig_clf2.fit(training_X, training_Y)\n",
    "print(\"Support vector machines : Log Loss: %0.2f\" % (log_loss(cv_Y, sig_clf2.predict_proba(cv_X))))\n",
    "sig_clf3.fit(training_X, training_Y)\n",
    "print(\"Naive Bayes : Log Loss: %0.2f\" % (log_loss(cv_Y, sig_clf3.predict_proba(cv_X))))\n",
    "print(\"-\"*50)\n",
    "alpha = [0.0001,0.001,0.01,0.1,1,10] \n",
    "best_alpha = 999\n",
    "for i in alpha:\n",
    "    lr = LogisticRegression(C=i)\n",
    "    sclf = StackingClassifier(classifiers=[sig_clf1, sig_clf2, sig_clf3], meta_classifier=lr, use_probas=True)\n",
    "    sclf.fit(training_X, training_Y)\n",
    "    print(\"Stacking Classifer : for the value of alpha: %f Log Loss: %0.3f\" % (i, log_loss(cv_Y, sclf.predict_proba(cv_X))))\n",
    "    log_error =log_loss(cv_Y, sclf.predict_proba(cv_X))\n",
    "    if best_alpha > log_error:\n",
    "        best_alpha = log_error"
   ]
  },
  {
   "cell_type": "code",
   "execution_count": 91,
   "metadata": {},
   "outputs": [
    {
     "name": "stderr",
     "output_type": "stream",
     "text": [
      "/home/krupal/anaconda3/lib/python3.6/site-packages/sklearn/model_selection/_split.py:2053: FutureWarning: You should specify a value for 'cv' instead of relying on the default value. The default value will change from 3 to 5 in version 0.22.\n",
      "  warnings.warn(CV_WARNING, FutureWarning)\n",
      "/home/krupal/anaconda3/lib/python3.6/site-packages/sklearn/linear_model/stochastic_gradient.py:166: FutureWarning: max_iter and tol parameters have been added in SGDClassifier in 0.19. If both are left unset, they default to max_iter=5 and tol=None. If tol is not None, max_iter defaults to max_iter=1000. From 0.21, default max_iter will be 1000, and default tol will be 1e-3.\n",
      "  FutureWarning)\n",
      "/home/krupal/anaconda3/lib/python3.6/site-packages/sklearn/linear_model/stochastic_gradient.py:166: FutureWarning: max_iter and tol parameters have been added in SGDClassifier in 0.19. If both are left unset, they default to max_iter=5 and tol=None. If tol is not None, max_iter defaults to max_iter=1000. From 0.21, default max_iter will be 1000, and default tol will be 1e-3.\n",
      "  FutureWarning)\n",
      "/home/krupal/anaconda3/lib/python3.6/site-packages/sklearn/linear_model/stochastic_gradient.py:166: FutureWarning: max_iter and tol parameters have been added in SGDClassifier in 0.19. If both are left unset, they default to max_iter=5 and tol=None. If tol is not None, max_iter defaults to max_iter=1000. From 0.21, default max_iter will be 1000, and default tol will be 1e-3.\n",
      "  FutureWarning)\n",
      "/home/krupal/anaconda3/lib/python3.6/site-packages/sklearn/model_selection/_split.py:2053: FutureWarning: You should specify a value for 'cv' instead of relying on the default value. The default value will change from 3 to 5 in version 0.22.\n",
      "  warnings.warn(CV_WARNING, FutureWarning)\n",
      "/home/krupal/anaconda3/lib/python3.6/site-packages/sklearn/linear_model/stochastic_gradient.py:166: FutureWarning: max_iter and tol parameters have been added in SGDClassifier in 0.19. If both are left unset, they default to max_iter=5 and tol=None. If tol is not None, max_iter defaults to max_iter=1000. From 0.21, default max_iter will be 1000, and default tol will be 1e-3.\n",
      "  FutureWarning)\n",
      "/home/krupal/anaconda3/lib/python3.6/site-packages/sklearn/linear_model/stochastic_gradient.py:166: FutureWarning: max_iter and tol parameters have been added in SGDClassifier in 0.19. If both are left unset, they default to max_iter=5 and tol=None. If tol is not None, max_iter defaults to max_iter=1000. From 0.21, default max_iter will be 1000, and default tol will be 1e-3.\n",
      "  FutureWarning)\n",
      "/home/krupal/anaconda3/lib/python3.6/site-packages/sklearn/linear_model/stochastic_gradient.py:166: FutureWarning: max_iter and tol parameters have been added in SGDClassifier in 0.19. If both are left unset, they default to max_iter=5 and tol=None. If tol is not None, max_iter defaults to max_iter=1000. From 0.21, default max_iter will be 1000, and default tol will be 1e-3.\n",
      "  FutureWarning)\n",
      "/home/krupal/anaconda3/lib/python3.6/site-packages/sklearn/model_selection/_split.py:2053: FutureWarning: You should specify a value for 'cv' instead of relying on the default value. The default value will change from 3 to 5 in version 0.22.\n",
      "  warnings.warn(CV_WARNING, FutureWarning)\n",
      "/home/krupal/anaconda3/lib/python3.6/site-packages/sklearn/linear_model/logistic.py:433: FutureWarning: Default solver will be changed to 'lbfgs' in 0.22. Specify a solver to silence this warning.\n",
      "  FutureWarning)\n",
      "/home/krupal/anaconda3/lib/python3.6/site-packages/sklearn/linear_model/logistic.py:460: FutureWarning: Default multi_class will be changed to 'auto' in 0.22. Specify the multi_class option to silence this warning.\n",
      "  \"this warning.\", FutureWarning)\n"
     ]
    },
    {
     "name": "stdout",
     "output_type": "stream",
     "text": [
      "The train loss for the best alpha value is:  0.609679797397\n",
      "The cross validation loss for the best alpha value is:  1.22795281025\n",
      "The test loss for the best alpha value is:  1.12405663117\n",
      "Number of missclassified points are:  0.362406015037594\n",
      "The accuray score for the model is:  0.6375939849624059\n",
      "                     Confusion matrix                     \n"
     ]
    },
    {
     "data": {
      "image/png": "[encoded data removed]",
      "text/plain": [
       "<Figure size 1440x504 with 2 Axes>"
      ]
     },
     "metadata": {
      "needs_background": "light"
     },
     "output_type": "display_data"
    }
   ],
   "source": [
    "lr = LogisticRegression(C=0.1)\n",
    "sig_clf = StackingClassifier(classifiers=[sig_clf1, sig_clf2, sig_clf3], meta_classifier=lr, use_probas=True)\n",
    "sig_clf.fit(training_X, training_Y)\n",
    "\n",
    "predict_y = sig_clf.predict_proba(training_X)\n",
    "print(\"The train loss for the best alpha value is: \",log_loss(training_Y,predict_y))\n",
    "predict_y = sig_clf.predict_proba(cv_X)\n",
    "print(\"The cross validation loss for the best alpha value is: \",log_loss(cv_Y,predict_y))\n",
    "predict_y = sig_clf.predict_proba(test_X)\n",
    "print(\"The test loss for the best alpha value is: \",log_loss(test_Y,predict_y))\n",
    "\n",
    "\n",
    "predict_y = sig_clf.predict(test_X)\n",
    "x = missclassified_points(test_Y,predict_y)\n",
    "print(\"The accuray score for the model is: \",(1-x))\n",
    "plot_confusion_matrix(test_Y,predict_y)"
   ]
  },
  {
   "cell_type": "markdown",
   "metadata": {},
   "source": [
    "# Voting Classifier"
   ]
  },
  {
   "cell_type": "code",
   "execution_count": 92,
   "metadata": {},
   "outputs": [
    {
     "name": "stderr",
     "output_type": "stream",
     "text": [
      "/home/krupal/anaconda3/lib/python3.6/site-packages/sklearn/model_selection/_split.py:2053: FutureWarning: You should specify a value for 'cv' instead of relying on the default value. The default value will change from 3 to 5 in version 0.22.\n",
      "  warnings.warn(CV_WARNING, FutureWarning)\n",
      "/home/krupal/anaconda3/lib/python3.6/site-packages/sklearn/linear_model/stochastic_gradient.py:166: FutureWarning: max_iter and tol parameters have been added in SGDClassifier in 0.19. If both are left unset, they default to max_iter=5 and tol=None. If tol is not None, max_iter defaults to max_iter=1000. From 0.21, default max_iter will be 1000, and default tol will be 1e-3.\n",
      "  FutureWarning)\n",
      "/home/krupal/anaconda3/lib/python3.6/site-packages/sklearn/linear_model/stochastic_gradient.py:166: FutureWarning: max_iter and tol parameters have been added in SGDClassifier in 0.19. If both are left unset, they default to max_iter=5 and tol=None. If tol is not None, max_iter defaults to max_iter=1000. From 0.21, default max_iter will be 1000, and default tol will be 1e-3.\n",
      "  FutureWarning)\n",
      "/home/krupal/anaconda3/lib/python3.6/site-packages/sklearn/linear_model/stochastic_gradient.py:166: FutureWarning: max_iter and tol parameters have been added in SGDClassifier in 0.19. If both are left unset, they default to max_iter=5 and tol=None. If tol is not None, max_iter defaults to max_iter=1000. From 0.21, default max_iter will be 1000, and default tol will be 1e-3.\n",
      "  FutureWarning)\n",
      "/home/krupal/anaconda3/lib/python3.6/site-packages/sklearn/model_selection/_split.py:2053: FutureWarning: You should specify a value for 'cv' instead of relying on the default value. The default value will change from 3 to 5 in version 0.22.\n",
      "  warnings.warn(CV_WARNING, FutureWarning)\n",
      "/home/krupal/anaconda3/lib/python3.6/site-packages/sklearn/linear_model/stochastic_gradient.py:166: FutureWarning: max_iter and tol parameters have been added in SGDClassifier in 0.19. If both are left unset, they default to max_iter=5 and tol=None. If tol is not None, max_iter defaults to max_iter=1000. From 0.21, default max_iter will be 1000, and default tol will be 1e-3.\n",
      "  FutureWarning)\n",
      "/home/krupal/anaconda3/lib/python3.6/site-packages/sklearn/linear_model/stochastic_gradient.py:166: FutureWarning: max_iter and tol parameters have been added in SGDClassifier in 0.19. If both are left unset, they default to max_iter=5 and tol=None. If tol is not None, max_iter defaults to max_iter=1000. From 0.21, default max_iter will be 1000, and default tol will be 1e-3.\n",
      "  FutureWarning)\n",
      "/home/krupal/anaconda3/lib/python3.6/site-packages/sklearn/linear_model/stochastic_gradient.py:166: FutureWarning: max_iter and tol parameters have been added in SGDClassifier in 0.19. If both are left unset, they default to max_iter=5 and tol=None. If tol is not None, max_iter defaults to max_iter=1000. From 0.21, default max_iter will be 1000, and default tol will be 1e-3.\n",
      "  FutureWarning)\n",
      "/home/krupal/anaconda3/lib/python3.6/site-packages/sklearn/model_selection/_split.py:2053: FutureWarning: You should specify a value for 'cv' instead of relying on the default value. The default value will change from 3 to 5 in version 0.22.\n",
      "  warnings.warn(CV_WARNING, FutureWarning)\n"
     ]
    },
    {
     "name": "stdout",
     "output_type": "stream",
     "text": [
      "Log loss (train) on the VotingClassifier : 0.87008879343\n",
      "Log loss (CV) on the VotingClassifier : 1.29075626022\n",
      "Log loss (test) on the VotingClassifier : 1.18212236542\n",
      "Number of missclassified point : 0.35037593984962406\n",
      "Accuracy :  0.649624060150376\n",
      "                     Confusion matrix                     \n"
     ]
    },
    {
     "data": {
      "image/png": "[encoded data removed]",
      "text/plain": [
       "<Figure size 1440x504 with 2 Axes>"
      ]
     },
     "metadata": {
      "needs_background": "light"
     },
     "output_type": "display_data"
    }
   ],
   "source": [
    "from sklearn.ensemble import VotingClassifier\n",
    "vclf = VotingClassifier(estimators=[('lr', sig_clf1), ('svc', sig_clf2), ('rf', sig_clf3)], voting='soft')\n",
    "vclf.fit(training_X, training_Y)\n",
    "print(\"Log loss (train) on the VotingClassifier :\", log_loss(training_Y, vclf.predict_proba(training_X)))\n",
    "print(\"Log loss (CV) on the VotingClassifier :\", log_loss(cv_Y, vclf.predict_proba(cv_X)))\n",
    "print(\"Log loss (test) on the VotingClassifier :\", log_loss(test_Y, vclf.predict_proba(test_X)))\n",
    "print(\"Number of missclassified point :\", np.count_nonzero((vclf.predict(test_X)- test_Y))/test_Y.shape[0])\n",
    "print(\"Accuracy : \",(1 - ( np.count_nonzero((vclf.predict(test_X)- test_Y))/test_Y.shape[0])))\n",
    "plot_confusion_matrix(test_Y, vclf.predict(test_X))"
   ]
  },
  {
   "cell_type": "code",
   "execution_count": 101,
   "metadata": {},
   "outputs": [],
   "source": [
    "## The below code is used for submission on Kaggle\n",
    "\n",
    "\n",
    "test_variants = pd.read_csv('/home/krupal/Downloads/stage2_test_variants.csv')\n",
    "test_texts = pd.read_csv('/home/krupal/Downloads/stage2_test_text.csv',sep = \"\\|\\|\",engine = 'python',names = ['ID','TEXT'],skiprows = 1)"
   ]
  },
  {
   "cell_type": "code",
   "execution_count": 102,
   "metadata": {},
   "outputs": [
    {
     "name": "stderr",
     "output_type": "stream",
     "text": [
      "/home/krupal/anaconda3/lib/python3.6/site-packages/ipykernel_launcher.py:16: SettingWithCopyWarning: \n",
      "A value is trying to be set on a copy of a slice from a DataFrame\n",
      "\n",
      "See the caveats in the documentation: http://pandas.pydata.org/pandas-docs/stable/indexing.html#indexing-view-versus-copy\n",
      "  app.launch_new_instance()\n"
     ]
    }
   ],
   "source": [
    "for index,row in test_texts.iterrows():\n",
    "    if type(row['TEXT']) is str:\n",
    "        data_preprocessing(row['TEXT'],index,'TEXT')"
   ]
  },
  {
   "cell_type": "code",
   "execution_count": 105,
   "metadata": {},
   "outputs": [],
   "source": [
    "final_data_test = pd.merge(test_variants,test_texts,on = 'ID',how = 'left')"
   ]
  },
  {
   "cell_type": "code",
   "execution_count": 106,
   "metadata": {},
   "outputs": [
    {
     "data": {
      "text/html": [
       "<div>\n",
       "<style scoped>\n",
       "    .dataframe tbody tr th:only-of-type {\n",
       "        vertical-align: middle;\n",
       "    }\n",
       "\n",
       "    .dataframe tbody tr th {\n",
       "        vertical-align: top;\n",
       "    }\n",
       "\n",
       "    .dataframe thead th {\n",
       "        text-align: right;\n",
       "    }\n",
       "</style>\n",
       "<table border=\"1\" class=\"dataframe\">\n",
       "  <thead>\n",
       "    <tr style=\"text-align: right;\">\n",
       "      <th></th>\n",
       "      <th>ID</th>\n",
       "      <th>Gene</th>\n",
       "      <th>Variation</th>\n",
       "      <th>TEXT</th>\n",
       "    </tr>\n",
       "  </thead>\n",
       "  <tbody>\n",
       "  </tbody>\n",
       "</table>\n",
       "</div>"
      ],
      "text/plain": [
       "Empty DataFrame\n",
       "Columns: [ID, Gene, Variation, TEXT]\n",
       "Index: []"
      ]
     },
     "execution_count": 106,
     "metadata": {},
     "output_type": "execute_result"
    }
   ],
   "source": [
    "final_data_test[final_data_test.isnull().any(axis = 1)]"
   ]
  },
  {
   "cell_type": "code",
   "execution_count": 108,
   "metadata": {},
   "outputs": [],
   "source": [
    "final_data_test.Gene = final_data_test.Gene.str.replace('\\s+','_')\n",
    "final_data_test.Variation = final_data_test.Variation.str.replace('\\s+','_')"
   ]
  },
  {
   "cell_type": "code",
   "execution_count": 109,
   "metadata": {},
   "outputs": [],
   "source": [
    "final_test_gene_vector = gene_vectorize.transform(final_data_test['Gene'])\n"
   ]
  },
  {
   "cell_type": "code",
   "execution_count": 110,
   "metadata": {},
   "outputs": [],
   "source": [
    "final_test_variation_vector = variation_vectorize.transform(final_data_test['Variation'])"
   ]
  },
  {
   "cell_type": "code",
   "execution_count": 112,
   "metadata": {},
   "outputs": [],
   "source": [
    "final_test_text_vector = text_vector.transform(final_data_test['TEXT'])\n",
    "final_test_text_vector = normalize(final_test_text_vector, axis = 0)"
   ]
  },
  {
   "cell_type": "code",
   "execution_count": 113,
   "metadata": {},
   "outputs": [],
   "source": [
    "final_test = hstack((final_test_gene_vector,final_test_variation_vector))\n",
    "final_test = hstack((final_test,final_test_text_vector)).tocsr()"
   ]
  },
  {
   "cell_type": "code",
   "execution_count": 114,
   "metadata": {},
   "outputs": [],
   "source": [
    "predictions = sig_clf.predict(final_test)"
   ]
  },
  {
   "cell_type": "code",
   "execution_count": 117,
   "metadata": {},
   "outputs": [
    {
     "data": {
      "text/plain": [
       "array([7, 1, 7, 7, 7, 7, 7, 1, 4, 7, 4, 2, 1, 7, 2, 1, 7, 7, 7, 7, 7, 4, 7,\n",
       "       2, 7, 7, 7, 4, 2, 2, 7, 4, 4, 7, 1, 4, 1, 7, 7, 7, 7, 7, 1, 4, 1, 7,\n",
       "       7, 4, 4, 7, 7, 1, 7, 7, 7, 7, 4, 4, 4, 6, 7, 7, 1, 1, 6, 7, 2, 1, 7,\n",
       "       7, 1, 1, 7, 7, 3, 7, 1, 4, 5, 7, 4, 5, 7, 7, 7, 7, 7, 1, 7, 7, 4, 1,\n",
       "       7, 7, 7, 1, 2, 4, 7, 7, 4, 7, 4, 1, 7, 7, 1, 7, 7, 7, 7, 7, 7, 1, 2,\n",
       "       4, 2, 1, 7, 7, 7, 2, 7, 7, 6, 7, 1, 1, 7, 4, 7, 1, 7, 1, 7, 7, 2, 7,\n",
       "       4, 7, 7, 7, 7, 4, 7, 7, 4, 4, 5, 1, 5, 5, 2, 4, 2, 7, 7, 7, 7, 1, 1,\n",
       "       7, 4, 1, 1, 7, 7, 7, 1, 4, 7, 4, 1, 5, 7, 5, 1, 1, 7, 7, 7, 7, 7, 6,\n",
       "       7, 4, 2, 7, 7, 7, 7, 7, 7, 1, 1, 4, 1, 1, 7, 2, 1, 6, 2, 7, 1, 7, 4,\n",
       "       7, 5, 7, 7, 4, 1, 6, 7, 5, 2, 7, 1, 7, 7, 7, 4, 1, 2, 4, 7, 1, 1, 4,\n",
       "       7, 7, 7, 7, 1, 1, 1, 2, 1, 1, 7, 7, 7, 4, 7, 2, 1, 1, 7, 1, 2, 4, 7,\n",
       "       1, 1, 6, 1, 7, 2, 4, 4, 7, 7, 1, 1, 7, 7, 4, 7, 6, 6, 7, 4, 7, 7, 7,\n",
       "       4, 1, 7, 7, 7, 7, 4, 1, 7, 1, 2, 4, 7, 7, 2, 4, 7, 7, 2, 7, 1, 7, 7,\n",
       "       7, 4, 7, 7, 7, 4, 7, 4, 1, 6, 7, 4, 4, 7, 1, 6, 4, 1, 2, 7, 1, 4, 2,\n",
       "       7, 7, 4, 7, 7, 4, 7, 1, 7, 4, 1, 7, 4, 7, 1, 1, 7, 1, 2, 7, 2, 7, 1,\n",
       "       2, 5, 7, 9, 7, 7, 4, 2, 4, 7, 7, 6, 1, 7, 7, 7, 7, 7, 9, 7, 4, 7, 4,\n",
       "       2, 7, 7, 1, 1, 2, 7, 5, 7, 1, 7, 7, 4, 7, 7, 7, 4, 7, 7, 7, 1, 4, 2,\n",
       "       2, 7, 2, 1, 2, 7, 6, 1, 7, 7, 7, 4, 1, 7, 7, 7, 7, 2, 2, 7, 7, 4, 1,\n",
       "       2, 5, 2, 1, 7, 6, 1, 2, 7, 7, 6, 2, 4, 1, 4, 7, 7, 7, 7, 1, 7, 7, 7,\n",
       "       4, 7, 7, 1, 7, 7, 3, 5, 7, 4, 1, 7, 1, 7, 7, 4, 7, 1, 4, 7, 7, 7, 1,\n",
       "       1, 7, 2, 7, 1, 1, 6, 7, 1, 4, 1, 7, 2, 4, 7, 7, 4, 3, 4, 7, 7, 7, 7,\n",
       "       6, 7, 4, 7, 7, 5, 5, 4, 1, 7, 1, 7, 4, 1, 2, 4, 7, 4, 1, 7, 7, 2, 5,\n",
       "       7, 7, 1, 1, 7, 7, 1, 1, 7, 7, 1, 1, 1, 4, 7, 7, 2, 7, 7, 8, 4, 7, 7,\n",
       "       4, 4, 7, 2, 1, 7, 1, 5, 7, 7, 7, 1, 7, 7, 7, 7, 7, 7, 7, 4, 4, 7, 2,\n",
       "       7, 7, 7, 7, 3, 7, 2, 5, 5, 4, 7, 1, 7, 7, 7, 8, 7, 7, 4, 7, 7, 7, 5,\n",
       "       7, 5, 7, 2, 1, 7, 7, 1, 7, 4, 1, 4, 4, 7, 7, 1, 4, 4, 7, 2, 1, 4, 2,\n",
       "       4, 2, 1, 2, 1, 7, 7, 7, 7, 7, 7, 7, 5, 7, 7, 2, 4, 7, 7, 1, 7, 7, 2,\n",
       "       3, 2, 4, 1, 1, 7, 1, 6, 7, 4, 1, 7, 5, 7, 1, 1, 4, 4, 7, 4, 4, 1, 2,\n",
       "       5, 2, 7, 1, 4, 7, 5, 4, 4, 1, 4, 1, 7, 1, 1, 1, 7, 7, 1, 7, 7, 7, 2,\n",
       "       1, 7, 1, 1, 1, 7, 2, 7, 7, 4, 4, 2, 1, 7, 7, 7, 4, 4, 2, 7, 7, 1, 1,\n",
       "       7, 4, 7, 1, 7, 7, 7, 7, 2, 7, 7, 7, 4, 4, 4, 4, 7, 7, 4, 2, 1, 9, 7,\n",
       "       7, 7, 4, 7, 7, 7, 7, 4, 4, 7, 1, 7, 4, 7, 7, 4, 1, 7, 7, 7, 7, 7, 7,\n",
       "       7, 1, 2, 7, 7, 7, 4, 7, 9, 1, 4, 7, 1, 1, 7, 1, 2, 4, 7, 7, 3, 4, 5,\n",
       "       7, 7, 4, 1, 7, 7, 7, 4, 1, 7, 4, 7, 2, 1, 7, 1, 1, 1, 7, 7, 7, 7, 1,\n",
       "       2, 1, 4, 7, 7, 7, 4, 2, 7, 7, 7, 7, 6, 4, 1, 2, 1, 7, 1, 7, 7, 4, 7,\n",
       "       2, 1, 1, 7, 1, 5, 7, 2, 4, 2, 1, 4, 1, 7, 1, 3, 7, 2, 4, 7, 3, 4, 7,\n",
       "       7, 1, 5, 7, 4, 4, 7, 4, 7, 2, 4, 7, 7, 7, 1, 7, 2, 7, 2, 1, 7, 7, 6,\n",
       "       7, 7, 7, 7, 7, 7, 4, 7, 7, 7, 1, 7, 7, 4, 1, 7, 4, 7, 7, 7, 7, 2, 4,\n",
       "       9, 7, 4, 7, 4, 1, 7, 7, 4, 7, 2, 1, 1, 7, 1, 2, 7, 7, 7, 7, 4, 7, 1,\n",
       "       7, 7, 7, 3, 1, 1, 4, 2, 9, 7, 7, 7, 4, 4, 1, 4, 7, 6, 7, 7, 4, 7, 1,\n",
       "       6, 7, 7, 7, 4, 2, 7, 7, 7, 7, 7, 1, 7, 1, 1, 7, 7, 1, 7, 4, 7, 2, 4,\n",
       "       7, 7, 7, 2, 7, 1, 7, 7, 4, 2, 7, 1, 3, 4, 7, 1, 7, 3, 7, 7, 2, 7, 7,\n",
       "       1, 2, 1, 7, 1, 4, 1, 7, 4, 7, 7, 7, 7, 7, 7, 7, 7, 2, 1, 2])"
      ]
     },
     "execution_count": 117,
     "metadata": {},
     "output_type": "execute_result"
    }
   ],
   "source": [
    "predictions"
   ]
  },
  {
   "cell_type": "code",
   "execution_count": 118,
   "metadata": {},
   "outputs": [],
   "source": [
    "my_submission = pd.DataFrame({'ID':final_data_test.ID , 'class': predictions})\n"
   ]
  },
  {
   "cell_type": "code",
   "execution_count": 121,
   "metadata": {},
   "outputs": [],
   "source": [
    "dummy = pd.get_dummies(my_submission['class'])"
   ]
  },
  {
   "cell_type": "code",
   "execution_count": 124,
   "metadata": {},
   "outputs": [],
   "source": [
    "my_submission = pd.concat([my_submission,dummy],axis = 1)"
   ]
  },
  {
   "cell_type": "code",
   "execution_count": 126,
   "metadata": {},
   "outputs": [],
   "source": [
    "my_submission = my_submission.drop('class',axis = 1)"
   ]
  },
  {
   "cell_type": "code",
   "execution_count": 128,
   "metadata": {},
   "outputs": [],
   "source": [
    "my_submission.to_csv('/home/krupal/Documents/submission_Cancer_Treatment.csv',index = False)"
   ]
  },
  {
   "cell_type": "code",
   "execution_count": null,
   "metadata": {},
   "outputs": [],
   "source": []
  }
 ],
 "metadata": {
  "kernelspec": {
   "display_name": "Python 3",
   "language": "python",
   "name": "python3"
  },
  "language_info": {
   "codemirror_mode": {
    "name": "ipython",
    "version": 3
   },
   "file_extension": ".py",
   "mimetype": "text/x-python",
   "name": "python",
   "nbconvert_exporter": "python",
   "pygments_lexer": "ipython3",
   "version": "3.6.8"
  }
 },
 "nbformat": 4,
 "nbformat_minor": 2
}
